{
 "cells": [
  {
   "cell_type": "markdown",
   "metadata": {
    "id": "R7Q4zdFbhXG4"
   },
   "source": [
    "# **Summary of Workflow for Integrative approach:**\n",
    "\n",
    "\n",
    "1.Based on the binding profiles for STAT1, STAT2, IRF1 and IRF9, TF-specific gene lists were prepared (e.g. STAT1-target genes).\n",
    "\n",
    "2.The motif file containing GAS-only, ISRE-only and composite containing genes were generated (by Agata and Kasia).\n",
    "\n",
    "3.The integration analysis was performed using up-regulated, P-adjusted(P<0.05) genes from RNA-seq and the peaks from CHIP-seq. Briefly, BETA tool was run using this script(nested_all_beta.sh), followed by extraction of upregulated genes from all time points and combining all files into a single one (cat file1.txt file2.txt file3.txt | sort > file4.txt). Then, \n",
    "the integrative gene list was initially refined by the identification of overlapping genes between the integrative list and the gene lists from step 1, followed by the detection of integrative genes that share a motif site based on the list from step 2. Accordingly, the number of refined integrative genes were 330 and 308, in IFNa- and IFNy-treated groups, respectively. Please check \"clusters.ipynb\" script (Refined gene list) for the latest integrative gene list.\n",
    "\n"
   ]
  },
  {
   "cell_type": "code",
   "execution_count": 1,
   "metadata": {
    "id": "eXH5Y7r7j0jj"
   },
   "outputs": [],
   "source": [
    "import pandas as pd\n",
    "import numpy as np\n",
    "import os\n",
    "import glob"
   ]
  },
  {
   "cell_type": "code",
   "execution_count": null,
   "metadata": {
    "colab": {
     "base_uri": "https://localhost:8080/"
    },
    "id": "CNa3ZtdQlGGO",
    "outputId": "d9d090f9-18c4-4c96-8f7d-47d5141ace9f"
   },
   "outputs": [
    {
     "name": "stderr",
     "output_type": "stream",
     "text": [
      "/home/mah/anaconda3/lib/python3.7/site-packages/IPython/utils/traitlets.py:5: UserWarning: IPython.utils.traitlets has moved to a top-level traitlets package.\n",
      "  warn(\"IPython.utils.traitlets has moved to a top-level traitlets package.\")\n"
     ]
    }
   ],
   "source": [
    "# DISPLAY DATAFRAMES AS INTERACTIVE TABLES\n",
    "#%load_ext google.colab.data_table"
   ]
  },
  {
   "cell_type": "markdown",
   "metadata": {
    "id": "87Y4WawMix7Q"
   },
   "source": [
    "# Preparing the TF-specific genes (To make annotate folder)\n"
   ]
  },
  {
   "cell_type": "code",
   "execution_count": null,
   "metadata": {
    "colab": {
     "base_uri": "https://localhost:8080/"
    },
    "id": "umoRqNCCuH5Q",
    "outputId": "2d6f3174-f6e0-487f-f40c-0a88fde8c1f7"
   },
   "outputs": [
    {
     "name": "stdout",
     "output_type": "stream",
     "text": [
      "<class 'pandas.core.frame.DataFrame'>\n",
      "(2240, 6)\n"
     ]
    }
   ],
   "source": [
    "# This code bloc is repeated for each TF\n",
    "\n",
    "tf = pd.read_csv(\"peaks_afterIDR/IFNg_allPeaks/IRF9_IFNy_allPeaksSet_nR_topScore_5.txt\", sep=\"\\t\", header=None, skiprows=[0])\n",
    "tf_bd = tf.iloc[:,0:6].copy()\n",
    "tf_bd.to_csv(\"padj05/IRF9_peaks.bed\", sep=\"\\t\", header=None, index=False)  # this file is used in \"perl ../../homer/bin/annotatePeaks.pl IRF1_peaks.bed hg38 > IRF1_output.txt\"\n",
    "print(type(tf_bd)); print(tf_bd.shape)\n"
   ]
  },
  {
   "cell_type": "code",
   "execution_count": null,
   "metadata": {
    "colab": {
     "base_uri": "https://localhost:8080/"
    },
    "id": "iz8NsCk8AC6T",
    "outputId": "1363e555-ebc9-4742-ced2-1064720a355c"
   },
   "outputs": [
    {
     "name": "stdout",
     "output_type": "stream",
     "text": [
      "dim before:  (2584, 19) \n",
      " dim after:  (278, 1)\n"
     ]
    }
   ],
   "source": [
    "# Extract gene name from homer-generated annotation file\n",
    "# # This code bloc is repeated for each TF\n",
    "\n",
    "hmr = pd.read_csv(\"padj05/peaks_IFNy/tST2_output.txt\", sep=\"\\t\")\n",
    "hmr_g = hmr[hmr['Annotation'].str.contains(\"promoter|5' UTR\", regex=True)]\n",
    "hmr_g = hmr_g[['Gene Name']]\n",
    "hmr_g.to_csv(\"padj05/peaks_IFNy/tST2_genes.txt\", index=False, header=None, sep=\"\\t\")\n",
    "print(\"dim before: \", hmr.shape ,\"\\n\", \"dim after: \", hmr_g.shape) "
   ]
  },
  {
   "cell_type": "markdown",
   "metadata": {
    "id": "h9_ikJ7c0wYs"
   },
   "source": [
    "# Prepare the motif files"
   ]
  },
  {
   "cell_type": "code",
   "execution_count": null,
   "metadata": {
    "colab": {
     "base_uri": "https://localhost:8080/"
    },
    "id": "I2PXKzelyXLn",
    "outputId": "d769fa13-d7f1-4a18-c45a-19ce8be9311d"
   },
   "outputs": [
    {
     "name": "stdout",
     "output_type": "stream",
     "text": [
      "(183, 4)\n",
      "Index(['composite', 'GAS', 'ISRE', 'Unnamed: 3'], dtype='object')\n"
     ]
    }
   ],
   "source": [
    "dfa = pd.read_csv(\"padj05/composite_GAS_ISRE_allMatrices_IFNy_ScoresTest_10Perc_motifs_integrated_promoter_final_forNetworks.csv\", sep=\";\")\n",
    "print(dfa.shape); print(dfa.columns)"
   ]
  },
  {
   "cell_type": "code",
   "execution_count": null,
   "metadata": {
    "colab": {
     "base_uri": "https://localhost:8080/"
    },
    "id": "pPnbXjr71JWs",
    "outputId": "cb303e8e-e0d8-40bb-ed55-5c660e6e3ee0"
   },
   "outputs": [
    {
     "name": "stdout",
     "output_type": "stream",
     "text": [
      "Index(['composite', 'GAS', 'ISRE'], dtype='object')\n",
      "(183, 3)\n",
      "<class 'pandas.core.frame.DataFrame'>\n"
     ]
    }
   ],
   "source": [
    "# removing extra columns\n",
    "dfa_1 = dfa[dfa.columns[0:3]]\n",
    "print(dfa_1.columns); print(dfa_1.shape); print(type(dfa_1))"
   ]
  },
  {
   "cell_type": "code",
   "execution_count": null,
   "metadata": {
    "colab": {
     "base_uri": "https://localhost:8080/"
    },
    "id": "8urwgK-s2Yog",
    "outputId": "7fbb665b-e569-4737-b134-c8a676fac2b7"
   },
   "outputs": [
    {
     "data": {
      "text/plain": [
       "composite  ISRE     GAS     \n",
       " APOL1      ACOT7    A2M        1\n",
       " APOL2      ACSL5    AASS       1\n",
       " LGALS3BP   FKBP11   DPAGT1     1\n",
       " MDK        FYCO1    EDEM2      1\n",
       " MVB12A     GBP1     EFNA1      1\n",
       "                               ..\n",
       " IFI6       DNAJA1   CDC7       1\n",
       " IFIT5      DNPEP    CNTNAP1    1\n",
       " IFITM1     DUSP16   CREBRF     1\n",
       " IFITM3     EARS2    CREM       1\n",
       " ZC3HAV1    MX2      IRAK4      1\n",
       "Length: 64, dtype: int64"
      ]
     },
     "execution_count": 4,
     "metadata": {
      "tags": []
     },
     "output_type": "execute_result"
    }
   ],
   "source": [
    "dfa_1.value_counts()"
   ]
  },
  {
   "cell_type": "code",
   "execution_count": null,
   "metadata": {
    "colab": {
     "base_uri": "https://localhost:8080/"
    },
    "id": "U15MrhXm77c4",
    "outputId": "4687fd2d-07b2-4345-b637-e3450eea34a4"
   },
   "outputs": [
    {
     "name": "stdout",
     "output_type": "stream",
     "text": [
      "Index(['level_0', 'level_1', 0], dtype='object')\n",
      "   level_0    level_1       0\n",
      "0        0  composite   APOL1\n",
      "1        0        GAS     A2M\n",
      "2        0       ISRE   ACOT7\n"
     ]
    }
   ],
   "source": [
    "# Multiple columns into one column\n",
    "dfa_2 = dfa_1.stack().reset_index()\n",
    "print(dfa_2.columns); print(dfa_2.head(3))"
   ]
  },
  {
   "cell_type": "code",
   "execution_count": null,
   "metadata": {
    "colab": {
     "base_uri": "https://localhost:8080/",
     "height": 204
    },
    "id": "aLvIJ4f19lKy",
    "outputId": "b3eaaa6c-6664-4277-af58-fe435c2fe847"
   },
   "outputs": [
    {
     "data": {
      "text/html": [
       "<div>\n",
       "<style scoped>\n",
       "    .dataframe tbody tr th:only-of-type {\n",
       "        vertical-align: middle;\n",
       "    }\n",
       "\n",
       "    .dataframe tbody tr th {\n",
       "        vertical-align: top;\n",
       "    }\n",
       "\n",
       "    .dataframe thead th {\n",
       "        text-align: right;\n",
       "    }\n",
       "</style>\n",
       "<table border=\"1\" class=\"dataframe\">\n",
       "  <thead>\n",
       "    <tr style=\"text-align: right;\">\n",
       "      <th></th>\n",
       "      <th>level_0</th>\n",
       "      <th>level_1</th>\n",
       "      <th>symbol</th>\n",
       "      <th>motfcol</th>\n",
       "    </tr>\n",
       "  </thead>\n",
       "  <tbody>\n",
       "    <tr>\n",
       "      <th>0</th>\n",
       "      <td>0</td>\n",
       "      <td>composite</td>\n",
       "      <td>APOL1</td>\n",
       "      <td>blue</td>\n",
       "    </tr>\n",
       "    <tr>\n",
       "      <th>1</th>\n",
       "      <td>0</td>\n",
       "      <td>GAS</td>\n",
       "      <td>A2M</td>\n",
       "      <td>green</td>\n",
       "    </tr>\n",
       "    <tr>\n",
       "      <th>2</th>\n",
       "      <td>0</td>\n",
       "      <td>ISRE</td>\n",
       "      <td>ACOT7</td>\n",
       "      <td>orange</td>\n",
       "    </tr>\n",
       "    <tr>\n",
       "      <th>3</th>\n",
       "      <td>1</td>\n",
       "      <td>composite</td>\n",
       "      <td>APOL2</td>\n",
       "      <td>blue</td>\n",
       "    </tr>\n",
       "    <tr>\n",
       "      <th>4</th>\n",
       "      <td>1</td>\n",
       "      <td>GAS</td>\n",
       "      <td>AGFG2</td>\n",
       "      <td>green</td>\n",
       "    </tr>\n",
       "  </tbody>\n",
       "</table>\n",
       "</div>"
      ],
      "text/plain": [
       "   level_0    level_1 symbol motfcol\n",
       "0        0  composite  APOL1    blue\n",
       "1        0        GAS    A2M   green\n",
       "2        0       ISRE  ACOT7  orange\n",
       "3        1  composite  APOL2    blue\n",
       "4        1        GAS  AGFG2   green"
      ]
     },
     "execution_count": 6,
     "metadata": {
      "tags": []
     },
     "output_type": "execute_result"
    }
   ],
   "source": [
    "# Creating IF condition\n",
    "dfa_2.loc[dfa_2['level_1'] == \"composite\", \"motfcol\"] = \"blue\"\n",
    "dfa_2.loc[dfa_2['level_1'] == \"GAS\", \"motfcol\"] = \"green\"\n",
    "dfa_2.loc[dfa_2['level_1'] == \"ISRE\", \"motfcol\"] = \"orange\"\n",
    "dfa_2.rename(columns={0: \"symbol\"}, inplace=True)\n",
    "dfa_2['symbol'] = dfa_2['symbol'].str.strip()\n",
    "dfa_2.head()"
   ]
  },
  {
   "cell_type": "code",
   "execution_count": null,
   "metadata": {
    "id": "wE98yQEk9zoR"
   },
   "outputs": [],
   "source": [
    "dfa_2.to_csv(\"padj05/motifs_IFNy.tsv\", sep=\"\\t\", index=False)"
   ]
  },
  {
   "cell_type": "markdown",
   "metadata": {
    "id": "xG9ISi-2HxNt"
   },
   "source": [
    "# Finding Mutual genes between the integrative list & motif genes"
   ]
  },
  {
   "cell_type": "code",
   "execution_count": null,
   "metadata": {
    "colab": {
     "base_uri": "https://localhost:8080/"
    },
    "id": "ArZN2Hn8Cy0z",
    "outputId": "2490bdb8-547a-44ec-a3ed-70d9b7eccc83"
   },
   "outputs": [
    {
     "name": "stdout",
     "output_type": "stream",
     "text": [
      "(1017, 1)\n",
      "Index(['symbol'], dtype='object')\n"
     ]
    }
   ],
   "source": [
    "# load integrated gene list \n",
    "df = pd.read_csv(\"padj05/IFNy/IFNy_genes.tsv\", sep=\"\\t\")\n",
    "print(df.shape); print(df.columns)"
   ]
  },
  {
   "cell_type": "code",
   "execution_count": null,
   "metadata": {
    "colab": {
     "base_uri": "https://localhost:8080/"
    },
    "id": "N1zrI_PbHwOA",
    "outputId": "768b0447-81bf-4b3a-c0a1-906911b2247f"
   },
   "outputs": [
    {
     "name": "stdout",
     "output_type": "stream",
     "text": [
      "(319, 4)\n",
      "Index(['level_0', 'level_1', 'symbol', 'motfcol'], dtype='object')\n"
     ]
    }
   ],
   "source": [
    "# load the motif file (prepared above)\n",
    "# dfa_2\n",
    "print(dfa_2.shape); print(dfa_2.columns)"
   ]
  },
  {
   "cell_type": "code",
   "execution_count": null,
   "metadata": {
    "colab": {
     "base_uri": "https://localhost:8080/"
    },
    "id": "wm0P_eKtOIWX",
    "outputId": "419e9edf-841d-42a9-ceff-0d18faf490b4"
   },
   "outputs": [
    {
     "name": "stdout",
     "output_type": "stream",
     "text": [
      "(319, 4)\n",
      "Index(['symbol', 'level_0', 'level_1', 'motfcol'], dtype='object')\n"
     ]
    }
   ],
   "source": [
    "# merging \n",
    "df_mrg = pd.merge(df, dfa_2, on='symbol')\n",
    "print(df_mrg.shape); print(df_mrg.columns)"
   ]
  },
  {
   "cell_type": "code",
   "execution_count": null,
   "metadata": {
    "id": "RmnB661gPYP9"
   },
   "outputs": [],
   "source": [
    "df_mrg.to_csv(\"padj05/IFNy/IFNy_MRGgene.tsv\", sep=\"\\t\", index=False)"
   ]
  },
  {
   "cell_type": "markdown",
   "metadata": {
    "id": "2UPvFJqJ9rjh"
   },
   "source": [
    "# Overlapping antibody-specific genes with the integrative list"
   ]
  },
  {
   "cell_type": "code",
   "execution_count": null,
   "metadata": {
    "colab": {
     "base_uri": "https://localhost:8080/"
    },
    "id": "K--uoG4mPeoU",
    "outputId": "d93a2532-9001-4ed1-f84e-d59acb7ab5d5"
   },
   "outputs": [
    {
     "data": {
      "text/plain": [
       "Index(['symbol', 'level_0', 'level_1', 'motfcol'], dtype='object')"
      ]
     },
     "execution_count": 10,
     "metadata": {
      "tags": []
     },
     "output_type": "execute_result"
    }
   ],
   "source": [
    "# load the integrative list (prepared above)\n",
    "# df_mrg\n",
    "df_mrg.columns"
   ]
  },
  {
   "cell_type": "code",
   "execution_count": null,
   "metadata": {
    "colab": {
     "base_uri": "https://localhost:8080/"
    },
    "id": "YaNCuAg9-MtZ",
    "outputId": "c31281b1-8117-4548-9637-e5c5a090d993"
   },
   "outputs": [
    {
     "data": {
      "text/plain": [
       "(187, 4)"
      ]
     },
     "execution_count": 11,
     "metadata": {
      "tags": []
     },
     "output_type": "execute_result"
    }
   ],
   "source": [
    "# ST1\n",
    "st1 = pd.read_csv(\"padj05/IFNy/annotate/pST1_genes.txt\", header=None, names=[\"symbol\"], sep=\"\\t\")\n",
    "st1['symbol'] = st1['symbol'].str.strip()\n",
    "st1_mrg = pd.merge(df_mrg, st1, on=\"symbol\")\n",
    "st1_mrg.drop_duplicates(subset=['symbol'], inplace=True, ignore_index=True)\n",
    "#st1_mrg.to_csv(\"padj05/IFNa/IFNa_MRGgene_pST1.tsv\", sep=\"\\t\", index=False)\n",
    "st1_mrg.shape"
   ]
  },
  {
   "cell_type": "code",
   "execution_count": null,
   "metadata": {
    "id": "BzN6iqLwTHfF"
   },
   "outputs": [],
   "source": [
    "st1_mrg['symbol'].to_clipboard(sep=\"\\t\", index=False, header=None)"
   ]
  },
  {
   "cell_type": "code",
   "execution_count": null,
   "metadata": {
    "colab": {
     "base_uri": "https://localhost:8080/"
    },
    "id": "IhvZRZEE_4MD",
    "outputId": "a833170f-1c74-49d7-a1c1-09ab3010d343"
   },
   "outputs": [
    {
     "data": {
      "text/plain": [
       "(59, 4)"
      ]
     },
     "execution_count": 13,
     "metadata": {
      "tags": []
     },
     "output_type": "execute_result"
    }
   ],
   "source": [
    "# ST2\n",
    "st2 = pd.read_csv(\"padj05/IFNy/annotate/tST2_genes.txt\", header=None, names=[\"symbol\"], sep=\"\\t\")\n",
    "st2['symbol'] = st2['symbol'].str.strip()\n",
    "st2_mrg = pd.merge(df_mrg, st2, on=\"symbol\")\n",
    "st2_mrg.drop_duplicates(subset=['symbol'], inplace=True, ignore_index=True)\n",
    "#st2_mrg.to_csv(\"padj05/IFNa/IFNa_MRGgene_pST2.tsv\", sep=\"\\t\", index=False)\n",
    "st2_mrg.shape"
   ]
  },
  {
   "cell_type": "code",
   "execution_count": null,
   "metadata": {
    "id": "jKo31j3MUH2n"
   },
   "outputs": [],
   "source": [
    "st2_mrg['symbol'].to_clipboard(sep=\"\\t\", header=None, index=False)"
   ]
  },
  {
   "cell_type": "code",
   "execution_count": null,
   "metadata": {
    "colab": {
     "base_uri": "https://localhost:8080/"
    },
    "id": "O_kpjMk4AXAT",
    "outputId": "536abd79-e314-4289-b331-ed6a03608d31"
   },
   "outputs": [
    {
     "data": {
      "text/plain": [
       "(168, 4)"
      ]
     },
     "execution_count": 14,
     "metadata": {
      "tags": []
     },
     "output_type": "execute_result"
    }
   ],
   "source": [
    "# IRF1\n",
    "irf1 = pd.read_csv(\"padj05/IFNy/annotate/IRF1_genes.txt\", header=None, names=[\"symbol\"], sep=\"\\t\")\n",
    "irf1['symbol'] = irf1['symbol'].str.strip()\n",
    "irf1_mrg = pd.merge(df_mrg, irf1, on=\"symbol\")\n",
    "irf1_mrg.drop_duplicates(subset=['symbol'], inplace=True, ignore_index=True)\n",
    "#irf1_mrg.to_csv(\"padj05/IFNa/IFNa_MRGgene_IRF1.tsv\", sep=\"\\t\", index=False)\n",
    "irf1_mrg.shape"
   ]
  },
  {
   "cell_type": "code",
   "execution_count": null,
   "metadata": {
    "id": "h5qKQRtQUx_3"
   },
   "outputs": [],
   "source": [
    "irf1_mrg['symbol'].to_clipboard(sep=\"\\t\", index=False, header=None)"
   ]
  },
  {
   "cell_type": "code",
   "execution_count": null,
   "metadata": {
    "colab": {
     "base_uri": "https://localhost:8080/"
    },
    "id": "Es3ECLmSA3h_",
    "outputId": "52b347d7-476c-4f44-cbe6-dccf2a99e0c1"
   },
   "outputs": [
    {
     "data": {
      "text/plain": [
       "(88, 4)"
      ]
     },
     "execution_count": 15,
     "metadata": {
      "tags": []
     },
     "output_type": "execute_result"
    }
   ],
   "source": [
    "# IRF9\n",
    "irf9 = pd.read_csv(\"padj05/IFNy/annotate/IRF9_genes.txt\", header=None, names=[\"symbol\"], sep=\"\\t\")\n",
    "irf9['symbol'] = irf9['symbol'].str.strip()\n",
    "irf9_mrg = pd.merge(df_mrg, irf9, on=\"symbol\")\n",
    "irf9_mrg.drop_duplicates(subset=['symbol'], inplace=True, ignore_index=True)\n",
    "#irf9_mrg.to_csv(\"padj05/IFNa/IFNa_MRGgene_IRF9.tsv\", sep=\"\\t\", index=False)\n",
    "irf9_mrg.shape"
   ]
  },
  {
   "cell_type": "code",
   "execution_count": null,
   "metadata": {
    "id": "Kpk8SdyiV4Qj"
   },
   "outputs": [],
   "source": [
    "irf9_mrg['symbol'].to_clipboard(sep=\"\\t\", index=False, header=None)"
   ]
  },
  {
   "cell_type": "markdown",
   "metadata": {
    "id": "Y5jmsqKwxef6"
   },
   "source": [
    "# Task: Finding overlaps between IFNa & IFNy"
   ]
  },
  {
   "cell_type": "code",
   "execution_count": null,
   "metadata": {
    "colab": {
     "base_uri": "https://localhost:8080/"
    },
    "id": "Da0L7NMJxuRr",
    "outputId": "e4f6eb3b-c78f-4a5e-baa0-ef9ceb1b05b4"
   },
   "outputs": [
    {
     "name": "stdout",
     "output_type": "stream",
     "text": [
      "IFNa:  (151, 3) \t IFNy:  (183, 3)\n"
     ]
    }
   ],
   "source": [
    "ifa = pd.read_csv(\"padj05/composite_GAS_ISRE_allMatrices_IFNa_ScoresTest_10Perc_motifs_integrated_promoter_final_forNetworks.csv\", sep=\";\")\n",
    "ifa = ifa[ifa.columns[0:3]]\n",
    "ify = pd.read_csv(\"padj05/composite_GAS_ISRE_allMatrices_IFNy_ScoresTest_10Perc_motifs_integrated_promoter_final_forNetworks.csv\", sep=\";\")\n",
    "ify = ify[ify.columns[0:3]]\n",
    "print(\"IFNa: \", ifa.shape, \"\\t\", \"IFNy: \", ify.shape)"
   ]
  },
  {
   "cell_type": "code",
   "execution_count": null,
   "metadata": {
    "colab": {
     "base_uri": "https://localhost:8080/"
    },
    "id": "PANacSD3yenz",
    "outputId": "6abbdc03-13c4-4963-ffc9-94e7de03a690"
   },
   "outputs": [
    {
     "name": "stdout",
     "output_type": "stream",
     "text": [
      "  composite    ISRE     GAS\n",
      "0     APOL1   ACOT7     A2M\n",
      "1     APOL2   ACSL5    AASS\n",
      "2     APOL6    ACY3   AGFG2\n",
      "  composite     GAS    ISRE\n",
      "0     APOL1     A2M   ACOT7\n",
      "1     APOL2   AGFG2   ACSL5\n",
      "2     APOL6     AGT    ACY3\n"
     ]
    }
   ],
   "source": [
    "print(ifa.head(3)); print(ify.head(3))"
   ]
  },
  {
   "cell_type": "code",
   "execution_count": null,
   "metadata": {
    "colab": {
     "base_uri": "https://localhost:8080/"
    },
    "id": "g74r3Kn6zkLy",
    "outputId": "ec7fad1b-5bb7-4efc-9155-501d1af6819b"
   },
   "outputs": [
    {
     "name": "stdout",
     "output_type": "stream",
     "text": [
      "Composite: mutual (43, 1) \t only IFNa:  (64, 1) \t only IFNy (55, 1)\n"
     ]
    }
   ],
   "source": [
    "# Composites\n",
    "com_mu = pd.merge(ifa.iloc[:,0], ify.iloc[:,0], on=\"composite\", how=\"inner\")\n",
    "com_mu = com_mu[~com_mu['composite'].isnull()]\n",
    "\n",
    "com_a = pd.merge(ifa.iloc[:,0], ify.iloc[:,0], on=\"composite\", how=\"left\")\n",
    "com_a = com_a[~com_a['composite'].isnull()]\n",
    "\n",
    "com_y = pd.merge(ifa.iloc[:,0], ify.iloc[:,0], on=\"composite\", how=\"right\")\n",
    "com_y = com_y[~com_y['composite'].isnull()]\n",
    "\n",
    "com = pd.concat([com_mu, com_a, com_y], axis=1, keys=[\"Mutual\", \"IFNa\", \"IFNy\"])\n",
    "\n",
    "print(\"Composite: mutual\", com_mu.shape, \"\\t\", \"only IFNa: \", com_a.shape, \"\\t\", \n",
    "      \"only IFNy\", com_y.shape)"
   ]
  },
  {
   "cell_type": "code",
   "execution_count": null,
   "metadata": {
    "id": "L_OzbWO8EpkR"
   },
   "outputs": [],
   "source": [
    "com.to_csv(\"padj05/Composite_IFNa_y.tsv\", sep=\"\\t\", index=False)"
   ]
  },
  {
   "cell_type": "code",
   "execution_count": null,
   "metadata": {
    "colab": {
     "base_uri": "https://localhost:8080/"
    },
    "id": "q5mndP6ZL92G",
    "outputId": "b1bc389b-3487-4418-a09e-b28ecfeece35"
   },
   "outputs": [
    {
     "name": "stdout",
     "output_type": "stream",
     "text": [
      "ISRE: mutual (89, 1) \t only IFNa:  (135, 1) \t only IFNy (127, 1)\n"
     ]
    }
   ],
   "source": [
    "# ISRE\n",
    "com_mu = pd.merge(ifa.iloc[:,1], ify.iloc[:,2], on=\"ISRE\", how=\"inner\")\n",
    "com_mu = com_mu[~com_mu['ISRE'].isnull()]\n",
    "\n",
    "com_a = pd.merge(ifa.iloc[:,1], ify.iloc[:,2], on=\"ISRE\", how=\"left\")\n",
    "com_a = com_a[~com_a['ISRE'].isnull()]\n",
    "\n",
    "com_y = pd.merge(ifa.iloc[:,1], ify.iloc[:,2], on=\"ISRE\", how=\"right\")\n",
    "com_y = com_y[~com_y['ISRE'].isnull()]\n",
    "\n",
    "com = pd.concat([com_mu, com_a, com_y], axis=1, keys=[\"Mutual\", \"IFNa\", \"IFNy\"])\n",
    "\n",
    "print(\"ISRE: mutual\", com_mu.shape, \"\\t\", \"only IFNa: \", com_a.shape, \"\\t\", \n",
    "      \"only IFNy\", com_y.shape)"
   ]
  },
  {
   "cell_type": "code",
   "execution_count": null,
   "metadata": {
    "id": "Z9EWMn0DRbJa"
   },
   "outputs": [],
   "source": [
    "com.to_csv(\"padj05/ISRE_IFNa_y.tsv\", sep=\"\\t\", index=False)"
   ]
  },
  {
   "cell_type": "code",
   "execution_count": null,
   "metadata": {
    "colab": {
     "base_uri": "https://localhost:8080/"
    },
    "id": "9uIygbi8RyoZ",
    "outputId": "b15bc096-c01f-40ff-e6c3-9192d004ab47"
   },
   "outputs": [
    {
     "name": "stdout",
     "output_type": "stream",
     "text": [
      "GAS: mutual (98, 1) \t only IFNa:  (151, 1) \t only IFNy (146, 1)\n"
     ]
    }
   ],
   "source": [
    "# GAS\n",
    "com_mu = pd.merge(ifa.iloc[:,2], ify.iloc[:,1], on=\"GAS\", how=\"inner\")\n",
    "com_mu = com_mu[~com_mu['GAS'].isnull()]\n",
    "\n",
    "com_a = pd.merge(ifa.iloc[:,2], ify.iloc[:,1], on=\"GAS\", how=\"left\")\n",
    "com_a = com_a[~com_a['GAS'].isnull()]\n",
    "\n",
    "com_y = pd.merge(ifa.iloc[:,2], ify.iloc[:,1], on=\"GAS\", how=\"right\")\n",
    "com_y = com_y[~com_y['GAS'].isnull()]\n",
    "\n",
    "com = pd.concat([com_mu, com_a, com_y], axis=1, keys=[\"Mutual\", \"IFNa\", \"IFNy\"])\n",
    "\n",
    "print(\"GAS: mutual\", com_mu.shape, \"\\t\", \"only IFNa: \", com_a.shape, \"\\t\", \n",
    "      \"only IFNy\", com_y.shape)"
   ]
  },
  {
   "cell_type": "code",
   "execution_count": null,
   "metadata": {
    "id": "xtMDYIHVT4Uo"
   },
   "outputs": [],
   "source": [
    "com.to_csv(\"padj05/GAS_IFNa_y.tsv\", sep=\"\\t\", index=False)"
   ]
  },
  {
   "cell_type": "code",
   "execution_count": null,
   "metadata": {
    "id": "Tp4VWtYSTtR2"
   },
   "outputs": [],
   "source": [
    "# To get unique values see https://stackoverflow.com/questions/23460345/selecting-unique-rows-between-two-dataframes-in-pandas"
   ]
  },
  {
   "cell_type": "code",
   "execution_count": null,
   "metadata": {
    "id": "FSmfwzNQRvvb"
   },
   "outputs": [],
   "source": []
  },
  {
   "cell_type": "markdown",
   "metadata": {
    "id": "rGN2G3Vd8dky"
   },
   "source": [
    "# Task: Networks for overlapping genes between IFNa & IFNy"
   ]
  },
  {
   "cell_type": "code",
   "execution_count": 2,
   "metadata": {
    "colab": {
     "base_uri": "https://localhost:8080/"
    },
    "id": "rpGsDVf785Fr",
    "outputId": "e7f241b0-d296-435e-c5df-120d94f322ea"
   },
   "outputs": [
    {
     "name": "stdout",
     "output_type": "stream",
     "text": [
      "/media/dell/Elements/MAH/dhmg/beta/TFs/IDR\n",
      " allPeaksSet_IFNy_top_score.bed\t\t\t  Integ_genes_Final\n",
      " allPeaksSet_nR_allAntibodies_IFNy_topScore.bed   Networks.ipynb\n",
      " allPeaksSet_nR_allAntibodies_IFNy_topScore.txt   padj05\n",
      " clusters\t\t\t\t\t 'RNA-seq data'\n",
      " IFNy\n"
     ]
    }
   ],
   "source": [
    "# my directory\n",
    "!pwd && ls"
   ]
  },
  {
   "cell_type": "markdown",
   "metadata": {},
   "source": [
    "## IFNa"
   ]
  },
  {
   "cell_type": "code",
   "execution_count": 3,
   "metadata": {
    "colab": {
     "base_uri": "https://localhost:8080/",
     "height": 112
    },
    "id": "0L21VVMw8uw5",
    "outputId": "05fcb5b6-1581-40d6-b388-4583ab180745"
   },
   "outputs": [
    {
     "data": {
      "text/html": [
       "<div>\n",
       "<style scoped>\n",
       "    .dataframe tbody tr th:only-of-type {\n",
       "        vertical-align: middle;\n",
       "    }\n",
       "\n",
       "    .dataframe tbody tr th {\n",
       "        vertical-align: top;\n",
       "    }\n",
       "\n",
       "    .dataframe thead th {\n",
       "        text-align: right;\n",
       "    }\n",
       "</style>\n",
       "<table border=\"1\" class=\"dataframe\">\n",
       "  <thead>\n",
       "    <tr style=\"text-align: right;\">\n",
       "      <th></th>\n",
       "      <th>Names</th>\n",
       "      <th>total</th>\n",
       "      <th>elements</th>\n",
       "      <th>Unnamed: 3</th>\n",
       "      <th>IFNa</th>\n",
       "      <th>110</th>\n",
       "      <th>AASS</th>\n",
       "      <th>Unnamed: 7</th>\n",
       "      <th>IFNy</th>\n",
       "      <th>88</th>\n",
       "      <th>ANP32E</th>\n",
       "    </tr>\n",
       "  </thead>\n",
       "  <tbody>\n",
       "    <tr>\n",
       "      <th>0</th>\n",
       "      <td>IFNa IFNy</td>\n",
       "      <td>220.0</td>\n",
       "      <td>A2M</td>\n",
       "      <td>NaN</td>\n",
       "      <td>NaN</td>\n",
       "      <td>NaN</td>\n",
       "      <td>ANAPC4</td>\n",
       "      <td>NaN</td>\n",
       "      <td>NaN</td>\n",
       "      <td>NaN</td>\n",
       "      <td>APOL3</td>\n",
       "    </tr>\n",
       "    <tr>\n",
       "      <th>1</th>\n",
       "      <td>NaN</td>\n",
       "      <td>NaN</td>\n",
       "      <td>ACOT7</td>\n",
       "      <td>NaN</td>\n",
       "      <td>NaN</td>\n",
       "      <td>NaN</td>\n",
       "      <td>ANKFY1</td>\n",
       "      <td>NaN</td>\n",
       "      <td>NaN</td>\n",
       "      <td>NaN</td>\n",
       "      <td>ARF6</td>\n",
       "    </tr>\n",
       "  </tbody>\n",
       "</table>\n",
       "</div>"
      ],
      "text/plain": [
       "       Names  total elements  Unnamed: 3  IFNa  110    AASS  Unnamed: 7  IFNy  \\\n",
       "0  IFNa IFNy  220.0      A2M         NaN   NaN  NaN  ANAPC4         NaN   NaN   \n",
       "1        NaN    NaN    ACOT7         NaN   NaN  NaN  ANKFY1         NaN   NaN   \n",
       "\n",
       "   88 ANP32E  \n",
       "0 NaN  APOL3  \n",
       "1 NaN   ARF6  "
      ]
     },
     "execution_count": 3,
     "metadata": {},
     "output_type": "execute_result"
    }
   ],
   "source": [
    "ovr = pd.read_csv(\"padj05/ovrlp/ovrlp_genes.txt\", sep=\"\\t\")\n",
    "ovr.head(2)"
   ]
  },
  {
   "cell_type": "code",
   "execution_count": 4,
   "metadata": {
    "colab": {
     "base_uri": "https://localhost:8080/"
    },
    "id": "23LGxJo6Ihmh",
    "outputId": "167e1a25-a494-4203-9d97-f9c641e60b85"
   },
   "outputs": [
    {
     "data": {
      "text/plain": [
       "(220,)"
      ]
     },
     "execution_count": 4,
     "metadata": {},
     "output_type": "execute_result"
    }
   ],
   "source": [
    "# Overlaped genes\n",
    "ovr['elements'].shape"
   ]
  },
  {
   "cell_type": "code",
   "execution_count": 5,
   "metadata": {
    "colab": {
     "base_uri": "https://localhost:8080/",
     "height": 112
    },
    "id": "BamK38ZrKCHx",
    "outputId": "643baab6-90d7-4ec9-afa0-3b2792e29efd"
   },
   "outputs": [
    {
     "data": {
      "text/html": [
       "<div>\n",
       "<style scoped>\n",
       "    .dataframe tbody tr th:only-of-type {\n",
       "        vertical-align: middle;\n",
       "    }\n",
       "\n",
       "    .dataframe tbody tr th {\n",
       "        vertical-align: top;\n",
       "    }\n",
       "\n",
       "    .dataframe thead th {\n",
       "        text-align: right;\n",
       "    }\n",
       "</style>\n",
       "<table border=\"1\" class=\"dataframe\">\n",
       "  <thead>\n",
       "    <tr style=\"text-align: right;\">\n",
       "      <th></th>\n",
       "      <th>symbol</th>\n",
       "      <th>level_0</th>\n",
       "      <th>level_1</th>\n",
       "      <th>motfcol</th>\n",
       "    </tr>\n",
       "  </thead>\n",
       "  <tbody>\n",
       "    <tr>\n",
       "      <th>0</th>\n",
       "      <td>EPSTI1</td>\n",
       "      <td>17</td>\n",
       "      <td>composite</td>\n",
       "      <td>blue</td>\n",
       "    </tr>\n",
       "    <tr>\n",
       "      <th>1</th>\n",
       "      <td>ANKFY1</td>\n",
       "      <td>5</td>\n",
       "      <td>ISRE</td>\n",
       "      <td>orange</td>\n",
       "    </tr>\n",
       "  </tbody>\n",
       "</table>\n",
       "</div>"
      ],
      "text/plain": [
       "   symbol  level_0    level_1 motfcol\n",
       "0  EPSTI1       17  composite    blue\n",
       "1  ANKFY1        5       ISRE  orange"
      ]
     },
     "execution_count": 5,
     "metadata": {},
     "output_type": "execute_result"
    }
   ],
   "source": [
    "# IFNa ST1\n",
    "st1 = pd.read_csv(\"padj05/IFNa/IFNa_MRGgene_pST1.tsv\", sep=\"\\t\")\n",
    "st1.head(2)\n"
   ]
  },
  {
   "cell_type": "code",
   "execution_count": 14,
   "metadata": {
    "id": "4avssl1DO3IJ"
   },
   "outputs": [],
   "source": [
    "st1_ov_a = st1[st1['symbol'].isin(ovr['elements'])].reset_index(drop=True).iloc[:,0]\n",
    "columns = [\"#node1\", \"node2\"]\n",
    "dfs1 = pd.DataFrame(columns=columns)\n",
    "dfs1['node2'] = st1_ov_a\n",
    "dfs1['#node1'] = \"STAT1\"\n",
    "\n",
    "# Saving Network File\n",
    "#dfs1.to_csv(\"padj05/ovrlp/IFNa_ST1_ov.tsv\", sep=\"\\t\", index=False)"
   ]
  },
  {
   "cell_type": "code",
   "execution_count": 15,
   "metadata": {
    "id": "dvfmqw-eO4FW"
   },
   "outputs": [],
   "source": [
    "# IFNa ST2\n",
    "st2 = pd.read_csv(\"padj05/IFNa/IFNa_MRGgene_pST2.tsv\", sep=\"\\t\") \n",
    "st2_ov_a = st2[st2['symbol'].isin(ovr['elements'])].reset_index(drop=True).iloc[:,0]\n",
    "columns = [\"#node1\", \"node2\"]\n",
    "dfs2 = pd.DataFrame(columns=columns)\n",
    "dfs2['node2'] = st2_ov_a\n",
    "dfs2[\"#node1\"] = \"STAT2\"\n",
    "\n",
    "#dfs2.to_csv(\"padj05/ovrlp/IFNa_ST2_ov.tsv\", sep=\"\\t\", index=False)"
   ]
  },
  {
   "cell_type": "code",
   "execution_count": 9,
   "metadata": {
    "id": "VxAerxdUO4Ab"
   },
   "outputs": [],
   "source": [
    "# IFNa IRF1\n",
    "ir1 = pd.read_csv(\"padj05/IFNa/IFNa_MRGgene_IRF1.tsv\", sep=\"\\t\")\n",
    "ir1_ov_a = ir1[ir1['symbol'].isin(ovr['elements'])].reset_index(drop=True).iloc[:,0]\n",
    "columns = [\"#node1\", \"node2\"]\n",
    "dfir1 = pd.DataFrame(columns = columns)\n",
    "dfir1['node2'] = ir1_ov_a\n",
    "dfir1['#node1'] = \"IRF1\"\n",
    "\n",
    "dfir1.to_csv(\"padj05/ovrlp/IFNa_IRF1_ov.tsv\", sep=\"\\t\", index=False)"
   ]
  },
  {
   "cell_type": "code",
   "execution_count": 12,
   "metadata": {
    "id": "6_lIhHNzeEAM"
   },
   "outputs": [],
   "source": [
    "# IFNa IRF9\n",
    "ir9 = pd.read_csv(\"padj05/IFNa/IFNa_MRGgene_IRF9.tsv\", sep=\"\\t\")\n",
    "ir9_ov_a = ir9[ir9['symbol'].isin(ovr['elements'])].reset_index(drop=True).iloc[:,0]\n",
    "columns = [\"#node1\", \"node2\"]\n",
    "dfir9 = pd.DataFrame(columns=columns)\n",
    "dfir9[\"node2\"] = ir9_ov_a\n",
    "dfir9[\"#node1\"] = \"IRF9\"\n",
    "\n",
    "dfir9.to_csv(\"padj05/ovrlp/IFNa_IRF9_ov.tsv\", index= False, sep=\"\\t\")"
   ]
  },
  {
   "cell_type": "code",
   "execution_count": 19,
   "metadata": {},
   "outputs": [
    {
     "name": "stdout",
     "output_type": "stream",
     "text": [
      "(189, 2)\n",
      "(149, 2)\n",
      "(127, 2)\n",
      "(97, 2)\n"
     ]
    }
   ],
   "source": [
    "# To confrim\n",
    "x = [dfs1, dfs2, dfir1, dfir9]\n",
    "for i in x:\n",
    "    print(i.shape)"
   ]
  },
  {
   "cell_type": "markdown",
   "metadata": {},
   "source": [
    "## IFNg"
   ]
  },
  {
   "cell_type": "code",
   "execution_count": 21,
   "metadata": {
    "colab": {
     "base_uri": "https://localhost:8080/",
     "height": 112
    },
    "id": "0L21VVMw8uw5",
    "outputId": "05fcb5b6-1581-40d6-b388-4583ab180745"
   },
   "outputs": [
    {
     "data": {
      "text/html": [
       "<div>\n",
       "<style scoped>\n",
       "    .dataframe tbody tr th:only-of-type {\n",
       "        vertical-align: middle;\n",
       "    }\n",
       "\n",
       "    .dataframe tbody tr th {\n",
       "        vertical-align: top;\n",
       "    }\n",
       "\n",
       "    .dataframe thead th {\n",
       "        text-align: right;\n",
       "    }\n",
       "</style>\n",
       "<table border=\"1\" class=\"dataframe\">\n",
       "  <thead>\n",
       "    <tr style=\"text-align: right;\">\n",
       "      <th></th>\n",
       "      <th>Names</th>\n",
       "      <th>total</th>\n",
       "      <th>elements</th>\n",
       "      <th>Unnamed: 3</th>\n",
       "      <th>IFNa</th>\n",
       "      <th>110</th>\n",
       "      <th>AASS</th>\n",
       "      <th>Unnamed: 7</th>\n",
       "      <th>IFNy</th>\n",
       "      <th>88</th>\n",
       "      <th>ANP32E</th>\n",
       "    </tr>\n",
       "  </thead>\n",
       "  <tbody>\n",
       "    <tr>\n",
       "      <th>0</th>\n",
       "      <td>IFNa IFNy</td>\n",
       "      <td>220.0</td>\n",
       "      <td>A2M</td>\n",
       "      <td>NaN</td>\n",
       "      <td>NaN</td>\n",
       "      <td>NaN</td>\n",
       "      <td>ANAPC4</td>\n",
       "      <td>NaN</td>\n",
       "      <td>NaN</td>\n",
       "      <td>NaN</td>\n",
       "      <td>APOL3</td>\n",
       "    </tr>\n",
       "    <tr>\n",
       "      <th>1</th>\n",
       "      <td>NaN</td>\n",
       "      <td>NaN</td>\n",
       "      <td>ACOT7</td>\n",
       "      <td>NaN</td>\n",
       "      <td>NaN</td>\n",
       "      <td>NaN</td>\n",
       "      <td>ANKFY1</td>\n",
       "      <td>NaN</td>\n",
       "      <td>NaN</td>\n",
       "      <td>NaN</td>\n",
       "      <td>ARF6</td>\n",
       "    </tr>\n",
       "  </tbody>\n",
       "</table>\n",
       "</div>"
      ],
      "text/plain": [
       "       Names  total elements  Unnamed: 3  IFNa  110    AASS  Unnamed: 7  IFNy  \\\n",
       "0  IFNa IFNy  220.0      A2M         NaN   NaN  NaN  ANAPC4         NaN   NaN   \n",
       "1        NaN    NaN    ACOT7         NaN   NaN  NaN  ANKFY1         NaN   NaN   \n",
       "\n",
       "   88 ANP32E  \n",
       "0 NaN  APOL3  \n",
       "1 NaN   ARF6  "
      ]
     },
     "execution_count": 21,
     "metadata": {},
     "output_type": "execute_result"
    }
   ],
   "source": [
    "ovr = pd.read_csv(\"padj05/ovrlp/ovrlp_genes.txt\", sep=\"\\t\")\n",
    "ovr.head(2)"
   ]
  },
  {
   "cell_type": "code",
   "execution_count": 22,
   "metadata": {
    "colab": {
     "base_uri": "https://localhost:8080/"
    },
    "id": "23LGxJo6Ihmh",
    "outputId": "167e1a25-a494-4203-9d97-f9c641e60b85"
   },
   "outputs": [
    {
     "data": {
      "text/plain": [
       "(220,)"
      ]
     },
     "execution_count": 22,
     "metadata": {},
     "output_type": "execute_result"
    }
   ],
   "source": [
    "# Overlaped genes\n",
    "ovr['elements'].shape"
   ]
  },
  {
   "cell_type": "code",
   "execution_count": 23,
   "metadata": {
    "colab": {
     "base_uri": "https://localhost:8080/",
     "height": 112
    },
    "id": "BamK38ZrKCHx",
    "outputId": "643baab6-90d7-4ec9-afa0-3b2792e29efd"
   },
   "outputs": [
    {
     "data": {
      "text/html": [
       "<div>\n",
       "<style scoped>\n",
       "    .dataframe tbody tr th:only-of-type {\n",
       "        vertical-align: middle;\n",
       "    }\n",
       "\n",
       "    .dataframe tbody tr th {\n",
       "        vertical-align: top;\n",
       "    }\n",
       "\n",
       "    .dataframe thead th {\n",
       "        text-align: right;\n",
       "    }\n",
       "</style>\n",
       "<table border=\"1\" class=\"dataframe\">\n",
       "  <thead>\n",
       "    <tr style=\"text-align: right;\">\n",
       "      <th></th>\n",
       "      <th>symbol</th>\n",
       "      <th>level_0</th>\n",
       "      <th>level_1</th>\n",
       "      <th>motfcol</th>\n",
       "    </tr>\n",
       "  </thead>\n",
       "  <tbody>\n",
       "    <tr>\n",
       "      <th>0</th>\n",
       "      <td>EPSTI1</td>\n",
       "      <td>16</td>\n",
       "      <td>composite</td>\n",
       "      <td>blue</td>\n",
       "    </tr>\n",
       "    <tr>\n",
       "      <th>1</th>\n",
       "      <td>TMEM126B</td>\n",
       "      <td>131</td>\n",
       "      <td>GAS</td>\n",
       "      <td>green</td>\n",
       "    </tr>\n",
       "  </tbody>\n",
       "</table>\n",
       "</div>"
      ],
      "text/plain": [
       "     symbol  level_0    level_1 motfcol\n",
       "0    EPSTI1       16  composite    blue\n",
       "1  TMEM126B      131        GAS   green"
      ]
     },
     "execution_count": 23,
     "metadata": {},
     "output_type": "execute_result"
    }
   ],
   "source": [
    "# IFNy ST1\n",
    "st1 = pd.read_csv(\"padj05/IFNy/IFNy_MRGgene_pST1.tsv\", sep=\"\\t\")\n",
    "st1.head(2)\n"
   ]
  },
  {
   "cell_type": "code",
   "execution_count": 24,
   "metadata": {
    "id": "4avssl1DO3IJ"
   },
   "outputs": [],
   "source": [
    "st1_ov_a = st1[st1['symbol'].isin(ovr['elements'])].reset_index(drop=True).iloc[:,0]\n",
    "columns = [\"#node1\", \"node2\"]\n",
    "dfs1 = pd.DataFrame(columns=columns)\n",
    "dfs1['node2'] = st1_ov_a\n",
    "dfs1['#node1'] = \"STAT1\"\n",
    "\n",
    "# Saving Network File\n",
    "dfs1.to_csv(\"padj05/ovrlp/IFNy_ST1_ov.tsv\", sep=\"\\t\", index=False)"
   ]
  },
  {
   "cell_type": "code",
   "execution_count": null,
   "metadata": {
    "id": "dvfmqw-eO4FW"
   },
   "outputs": [],
   "source": [
    "##### NOT included\n",
    "# IFNa ST2\n",
    "st2 = pd.read_csv(\"padj05/IFNy/IFNy_MRGgene_tST2.tsv\", sep=\"\\t\") \n",
    "st2_ov_a = st2[st2['symbol'].isin(ovr['elements'])].reset_index(drop=True).iloc[:,0]\n",
    "columns = [\"#node1\", \"node2\"]\n",
    "dfs2 = pd.DataFrame(columns=columns)\n",
    "dfs2['node2'] = st2_ov_a\n",
    "dfs2[\"#node1\"] = \"STAT2\"\n",
    "\n",
    "dfs2.to_csv(\"padj05/ovrlp/IFNy_ST2_ov.tsv\", sep=\"\\t\", index=False)"
   ]
  },
  {
   "cell_type": "code",
   "execution_count": 26,
   "metadata": {
    "id": "VxAerxdUO4Ab"
   },
   "outputs": [],
   "source": [
    "# IFNa IRF1\n",
    "ir1 = pd.read_csv(\"padj05/IFNy/IFNy_MRGgene_IRF1.tsv\", sep=\"\\t\")\n",
    "ir1_ov_a = ir1[ir1['symbol'].isin(ovr['elements'])].reset_index(drop=True).iloc[:,0]\n",
    "columns = [\"#node1\", \"node2\"]\n",
    "dfir1 = pd.DataFrame(columns = columns)\n",
    "dfir1['node2'] = ir1_ov_a\n",
    "dfir1['#node1'] = \"IRF1\"\n",
    "\n",
    "dfir1.to_csv(\"padj05/ovrlp/IFNy_IRF1_ov.tsv\", sep=\"\\t\", index=False)"
   ]
  },
  {
   "cell_type": "code",
   "execution_count": 27,
   "metadata": {
    "id": "6_lIhHNzeEAM"
   },
   "outputs": [],
   "source": [
    "# IFNa IRF9\n",
    "ir9 = pd.read_csv(\"padj05/IFNy/IFNy_MRGgene_IRF9.tsv\", sep=\"\\t\")\n",
    "ir9_ov_a = ir9[ir9['symbol'].isin(ovr['elements'])].reset_index(drop=True).iloc[:,0]\n",
    "columns = [\"#node1\", \"node2\"]\n",
    "dfir9 = pd.DataFrame(columns=columns)\n",
    "dfir9[\"node2\"] = ir9_ov_a\n",
    "dfir9[\"#node1\"] = \"IRF9\"\n",
    "\n",
    "dfir9.to_csv(\"padj05/ovrlp/IFNy_IRF9_ov.tsv\", index= False, sep=\"\\t\")"
   ]
  },
  {
   "cell_type": "code",
   "execution_count": 28,
   "metadata": {},
   "outputs": [
    {
     "name": "stdout",
     "output_type": "stream",
     "text": [
      "(144, 2)\n",
      "(149, 2)\n",
      "(129, 2)\n",
      "(78, 2)\n"
     ]
    }
   ],
   "source": [
    "# To confrim\n",
    "x = [dfs1, dfs2, dfir1, dfir9]\n",
    "for i in x:\n",
    "    print(i.shape)"
   ]
  },
  {
   "cell_type": "markdown",
   "metadata": {
    "id": "U_8XBNL6d-mx"
   },
   "source": [
    "# Task: construction of customised networks"
   ]
  },
  {
   "cell_type": "code",
   "execution_count": null,
   "metadata": {
    "colab": {
     "base_uri": "https://localhost:8080/"
    },
    "id": "aEvrNukHeZ7h",
    "outputId": "94041223-a6f1-4fdd-ab22-b61c07c7cc56"
   },
   "outputs": [
    {
     "name": "stdout",
     "output_type": "stream",
     "text": [
      "['composite' 'ISRE' 'GAS']\n",
      "Index(['symbol', 'level_0', 'level_1', 'motfcol'], dtype='object')\n"
     ]
    }
   ],
   "source": [
    "# To avoid running above commends, follow below\n",
    "# IFNa\n",
    "st1_mrg = pd.read_csv(\"padj05/IFNa/IFNa_MRGgene_pST1.tsv\", sep=\"\\t\")\n",
    "st2_mrg = pd.read_csv(\"padj05/IFNa/IFNa_MRGgene_pST2.tsv\", sep=\"\\t\")\n",
    "print(st1_mrg['level_1'].unique())\n",
    "print(st1_mrg.columns)"
   ]
  },
  {
   "cell_type": "code",
   "execution_count": null,
   "metadata": {
    "colab": {
     "base_uri": "https://localhost:8080/"
    },
    "id": "7v17hdLhg9D7",
    "outputId": "9ff0b4b5-fde6-497c-f38c-7ffe46840083"
   },
   "outputs": [
    {
     "data": {
      "text/plain": [
       "(112, 1)"
      ]
     },
     "execution_count": 7,
     "metadata": {
      "tags": []
     },
     "output_type": "execute_result"
    }
   ],
   "source": [
    "# Goal: GAF vs GAF-like on GAS & Composites genes\n",
    "# generating GAF_like\n",
    "st1_mrg_gc = st1_mrg[(st1_mrg['level_1'] == \"GAS\") | (st1_mrg['level_1'] == 'composite')]\n",
    "st2_mrg_gc = st2_mrg[(st2_mrg['level_1'] == \"GAS\") | (st2_mrg['level_1'] == 'composite')]\n",
    "s1_s2_gc = pd.merge(st1_mrg_gc, st2_mrg_gc, on=\"symbol\", how=\"inner\")\n",
    "s1_s2_gc = s1_s2_gc[[\"symbol\"]]\n",
    "#s1_s2_gc.to_csv(\"padj05/Networks/IFNa_GAF_like_GC.tsv\", sep=\"\\t\", index=False)\n",
    "\n",
    "# sending GAF to clipboard\n",
    "st1_mrg_gc['symbol'].to_clipboard(sep=\"\\t\", index=False, header=None)\n",
    "s1_s2_gc.shape"
   ]
  },
  {
   "cell_type": "code",
   "execution_count": null,
   "metadata": {
    "colab": {
     "base_uri": "https://localhost:8080/"
    },
    "id": "SU57I9rJN5K0",
    "outputId": "b18d6721-30c9-49de-c4ac-d1e22d7b6c04"
   },
   "outputs": [
    {
     "data": {
      "text/plain": [
       "(10, 1)"
      ]
     },
     "execution_count": 31,
     "metadata": {
      "tags": []
     },
     "output_type": "execute_result"
    }
   ],
   "source": [
    "# Goal: GAF vs GAF-like on GAS genes\n",
    "# generating GAF_like\n",
    "st1_mrg_gas = st1_mrg[st1_mrg['level_1'] == \"GAS\"]\n",
    "st2_mrg_gas = st2_mrg[st2_mrg['level_1'] == \"GAS\"]\n",
    "s1_s2_gas = pd.merge(st1_mrg_gas, st2_mrg_gas, on=\"symbol\", how=\"inner\")\n",
    "s1_s2_gas = s1_s2_gas[[\"symbol\"]]\n",
    "#s1_s2_gas.to_csv(\"padj05/Networks/IFNy_GAF_like.tsv\", sep=\"\\t\", index=False)\n",
    "\n",
    "# sending GAF to clipboard\n",
    "st1_mrg_gas['symbol'].to_clipboard(sep=\"\\t\", index=False, header=None)\n",
    "s1_s2_gas.shape"
   ]
  },
  {
   "cell_type": "code",
   "execution_count": null,
   "metadata": {
    "id": "G54-Anwliqzu"
   },
   "outputs": [],
   "source": [
    "# Goal:ISGF3 vs IRF1 on ISRE and Composite genes (after network construction, ISRE & composite genes are selected in Cytoscape)\n",
    "# {(IRF1 U IRF9) intersection with (STAT1 intersection STAT2)} ISGF3\n",
    "irf1_9 = pd.merge(irf1_mrg.iloc[:,0], irf9_mrg.iloc[:,0], on=\"symbol\", how=\"outer\")\n",
    "st1_2 = pd.merge(st1_mrg.iloc[:,0], st2_mrg.iloc[:,0], on=\"symbol\", how=\"inner\")\n",
    "isgf3 = pd.merge(st1_2, irf1_9, on=\"symbol\", how=\"inner\")\n",
    "isgf3.to_clipboard(sep=\"\\t\", index=False, header=None)\n",
    "\n",
    "# ISGF3 network with IRF1 is combined (in Cytoscape) to genearte ISGF3 vs IRF1"
   ]
  },
  {
   "cell_type": "markdown",
   "metadata": {
    "id": "Wzk29c2eeAiV"
   },
   "source": [
    "# Task: Networks for IFNy"
   ]
  },
  {
   "cell_type": "code",
   "execution_count": null,
   "metadata": {
    "id": "P50TvfE9lCCj"
   },
   "outputs": [],
   "source": [
    "# Goal: ST1-IRF1\n",
    "st1 = pd.read_csv(\"IFNy_MRGgene_pST1.tsv\", sep=\"\\t\")\n",
    "irf1 = pd.read_csv(\"IFNy_MRGgene_IRF1.tsv\", sep=\"\\t\")\n",
    "irf9 = pd.read_csv(\"IFNy_MRGgene_IRF9.tsv\", sep=\"\\t\")"
   ]
  },
  {
   "cell_type": "code",
   "execution_count": null,
   "metadata": {
    "colab": {
     "base_uri": "https://localhost:8080/",
     "height": 142
    },
    "id": "ii_h0sUynQsT",
    "outputId": "34ce31c9-c039-4aee-e8c4-fc768152de38"
   },
   "outputs": [
    {
     "data": {
      "text/html": [
       "<div>\n",
       "<style scoped>\n",
       "    .dataframe tbody tr th:only-of-type {\n",
       "        vertical-align: middle;\n",
       "    }\n",
       "\n",
       "    .dataframe tbody tr th {\n",
       "        vertical-align: top;\n",
       "    }\n",
       "\n",
       "    .dataframe thead th {\n",
       "        text-align: right;\n",
       "    }\n",
       "</style>\n",
       "<table border=\"1\" class=\"dataframe\">\n",
       "  <thead>\n",
       "    <tr style=\"text-align: right;\">\n",
       "      <th></th>\n",
       "      <th>symbol</th>\n",
       "      <th>level_0</th>\n",
       "      <th>level_1</th>\n",
       "      <th>motfcol</th>\n",
       "    </tr>\n",
       "  </thead>\n",
       "  <tbody>\n",
       "    <tr>\n",
       "      <td>0</td>\n",
       "      <td>EPSTI1</td>\n",
       "      <td>16</td>\n",
       "      <td>composite</td>\n",
       "      <td>blue</td>\n",
       "    </tr>\n",
       "    <tr>\n",
       "      <td>1</td>\n",
       "      <td>TMEM126B</td>\n",
       "      <td>131</td>\n",
       "      <td>GAS</td>\n",
       "      <td>green</td>\n",
       "    </tr>\n",
       "    <tr>\n",
       "      <td>2</td>\n",
       "      <td>ZC3HAV1</td>\n",
       "      <td>54</td>\n",
       "      <td>composite</td>\n",
       "      <td>blue</td>\n",
       "    </tr>\n",
       "  </tbody>\n",
       "</table>\n",
       "</div>"
      ],
      "text/plain": [
       "     symbol  level_0    level_1 motfcol\n",
       "0    EPSTI1       16  composite    blue\n",
       "1  TMEM126B      131        GAS   green\n",
       "2   ZC3HAV1       54  composite    blue"
      ]
     },
     "execution_count": 6,
     "metadata": {},
     "output_type": "execute_result"
    }
   ],
   "source": [
    "st1.head(3)"
   ]
  },
  {
   "cell_type": "code",
   "execution_count": null,
   "metadata": {
    "colab": {
     "base_uri": "https://localhost:8080/"
    },
    "id": "WpTPqPRJ4Hrv",
    "outputId": "82ce2b60-95d2-444f-aa2c-e0b212fb499b"
   },
   "outputs": [
    {
     "name": "stdout",
     "output_type": "stream",
     "text": [
      "dimension (187,)\n",
      "dimension (168,)\n",
      "dimension (88,)\n"
     ]
    }
   ],
   "source": [
    "\n",
    "st1_g = st1.iloc[:,0]\n",
    "irf1_g = irf1.iloc[:,0]\n",
    "irf9_g = irf9.iloc[:,0]\n",
    "for d in [st1_g, irf1_g, irf9_g]:\n",
    "  print(\"dimension\", d.shape)"
   ]
  },
  {
   "cell_type": "code",
   "execution_count": null,
   "metadata": {
    "colab": {
     "base_uri": "https://localhost:8080/"
    },
    "id": "Gm5ZmBQC4HhV",
    "outputId": "4829bad0-251e-4c2e-98c9-89b76ebfd074"
   },
   "outputs": [
    {
     "name": "stdout",
     "output_type": "stream",
     "text": [
      "184     CDIPT\n",
      "185    NEURL3\n",
      "186     SSBP4\n",
      "Name: symbol, dtype: object\n",
      "0       OPTN\n",
      "1    ZC3HAV1\n",
      "2     RNF213\n",
      "Name: symbol, dtype: object\n",
      "165    USP18\n",
      "166    PRRG4\n",
      "167    MEIS1\n",
      "Name: symbol, dtype: object\n",
      "0     EPSTI1\n",
      "1    ZC3HAV1\n",
      "2     RNF213\n",
      "Name: symbol, dtype: object\n",
      "85     PSPH\n",
      "86    CMPK2\n",
      "87    USP18\n",
      "Name: symbol, dtype: object\n"
     ]
    }
   ],
   "source": [
    "print(st1_g.tail(3))\n",
    "print(irf1_g.head(3))\n",
    "print(irf1_g.tail(3))\n",
    "print(irf9_g.head(3))\n",
    "print(irf9_g.tail(3))"
   ]
  },
  {
   "cell_type": "code",
   "execution_count": null,
   "metadata": {
    "colab": {
     "base_uri": "https://localhost:8080/",
     "height": 142
    },
    "id": "r39EMnD94Hmc",
    "outputId": "48ac3f4e-1049-47c7-a637-4290a3f90536"
   },
   "outputs": [
    {
     "data": {
      "text/html": [
       "<div>\n",
       "<style scoped>\n",
       "    .dataframe tbody tr th:only-of-type {\n",
       "        vertical-align: middle;\n",
       "    }\n",
       "\n",
       "    .dataframe tbody tr th {\n",
       "        vertical-align: top;\n",
       "    }\n",
       "\n",
       "    .dataframe thead th {\n",
       "        text-align: right;\n",
       "    }\n",
       "</style>\n",
       "<table border=\"1\" class=\"dataframe\">\n",
       "  <thead>\n",
       "    <tr style=\"text-align: right;\">\n",
       "      <th></th>\n",
       "      <th>#node1</th>\n",
       "      <th>node2</th>\n",
       "    </tr>\n",
       "  </thead>\n",
       "  <tbody>\n",
       "    <tr>\n",
       "      <td>185</td>\n",
       "      <td>STAT1</td>\n",
       "      <td>NEURL3</td>\n",
       "    </tr>\n",
       "    <tr>\n",
       "      <td>186</td>\n",
       "      <td>STAT1</td>\n",
       "      <td>SSBP4</td>\n",
       "    </tr>\n",
       "    <tr>\n",
       "      <td>187</td>\n",
       "      <td>IRF1</td>\n",
       "      <td>OPTN</td>\n",
       "    </tr>\n",
       "  </tbody>\n",
       "</table>\n",
       "</div>"
      ],
      "text/plain": [
       "    #node1   node2\n",
       "185  STAT1  NEURL3\n",
       "186  STAT1   SSBP4\n",
       "187   IRF1    OPTN"
      ]
     },
     "execution_count": 53,
     "metadata": {},
     "output_type": "execute_result"
    }
   ],
   "source": [
    "# Create dataframe\n",
    "columns = [\"#node1\", \"node2\"]\n",
    "\n",
    "dfg = pd.concat([st1_g, irf1_g], ignore_index=True)\n",
    "\n",
    "# create dataframe\n",
    "df = pd.DataFrame(columns=columns)\n",
    "\n",
    "# Fill column\n",
    "df[\"node2\"] = dfg\n",
    "\n",
    "df.iloc[0:187,0] = \"STAT1\"\n",
    "df.iloc[187:,0] = \"IRF1\"\n",
    "\n",
    "# Saving\n",
    "df.to_csv(\"IFNy_ST1_IRF1.tsv\", sep=\"\\t\", index=False)\n",
    "\n",
    "df.iloc[185:188,:]"
   ]
  },
  {
   "cell_type": "code",
   "execution_count": null,
   "metadata": {
    "id": "1DX1Ih60Ppqm"
   },
   "outputs": [],
   "source": [
    "# Goal: ST1-IRF1_IRF9 \n",
    "\n",
    "columns = [\"#node1\", \"node2\"]\n",
    "\n",
    "dfg = pd.concat([st1_g, irf1_g, irf9_g], ignore_index=True)\n",
    "\n",
    "df = pd.DataFrame(columns=columns)\n",
    "\n",
    "df['node2'] = dfg\n",
    "\n",
    "df.iloc[0:187,0] = \"STAT1\"\n",
    "df.iloc[187:355,0] = \"IRF1\"\n",
    "df.iloc[355:,0] = \"IRF9\"\n",
    "\n",
    "# Saving and this file is imported as a network to cytoscape  \n",
    "df.to_csv(\"IFNy_ST1_IRF1_IRF9.tsv\", index=False, sep=\"\\t\")"
   ]
  },
  {
   "cell_type": "markdown",
   "metadata": {
    "id": "xTY3PbUNKfcb"
   },
   "source": [
    "# Task: Enrichment analysis"
   ]
  },
  {
   "cell_type": "code",
   "execution_count": null,
   "metadata": {
    "colab": {
     "base_uri": "https://localhost:8080/",
     "height": 142
    },
    "id": "-QEt62Zxm3ro",
    "outputId": "41c4d9d1-9a74-4bae-8131-b651efbe9782"
   },
   "outputs": [
    {
     "data": {
      "text/html": [
       "<div>\n",
       "<style scoped>\n",
       "    .dataframe tbody tr th:only-of-type {\n",
       "        vertical-align: middle;\n",
       "    }\n",
       "\n",
       "    .dataframe tbody tr th {\n",
       "        vertical-align: top;\n",
       "    }\n",
       "\n",
       "    .dataframe thead th {\n",
       "        text-align: right;\n",
       "    }\n",
       "</style>\n",
       "<table border=\"1\" class=\"dataframe\">\n",
       "  <thead>\n",
       "    <tr style=\"text-align: right;\">\n",
       "      <th></th>\n",
       "      <th>IFNa_GAS</th>\n",
       "      <th>IFNy_GAS</th>\n",
       "      <th>IFNa_GAS|IFNy_GAS</th>\n",
       "    </tr>\n",
       "  </thead>\n",
       "  <tbody>\n",
       "    <tr>\n",
       "      <th>0</th>\n",
       "      <td>AASS</td>\n",
       "      <td>ANP32E</td>\n",
       "      <td>A2M</td>\n",
       "    </tr>\n",
       "    <tr>\n",
       "      <th>1</th>\n",
       "      <td>ANAPC4</td>\n",
       "      <td>ARF6</td>\n",
       "      <td>AGFG2</td>\n",
       "    </tr>\n",
       "    <tr>\n",
       "      <th>2</th>\n",
       "      <td>APOB</td>\n",
       "      <td>ASGR1</td>\n",
       "      <td>AGT</td>\n",
       "    </tr>\n",
       "  </tbody>\n",
       "</table>\n",
       "</div>"
      ],
      "text/plain": [
       "  IFNa_GAS IFNy_GAS IFNa_GAS|IFNy_GAS\n",
       "0     AASS   ANP32E               A2M\n",
       "1   ANAPC4     ARF6             AGFG2\n",
       "2     APOB    ASGR1               AGT"
      ]
     },
     "execution_count": 20,
     "metadata": {
      "tags": []
     },
     "output_type": "execute_result"
    }
   ],
   "source": [
    "g = pd.read_csv(\"overlap_IFNa_y/jVenn_IFNa_IFNy_GAS.csv\")\n",
    "c = pd.read_csv(\"overlap_IFNa_y/jVenn_IFNa_IFNy_composite.csv\")\n",
    "i = pd.read_csv(\"overlap_IFNa_y/jVenn_IFNa_IFNy_ISRE.csv\")\n",
    "g.head(3)"
   ]
  },
  {
   "cell_type": "code",
   "execution_count": null,
   "metadata": {
    "colab": {
     "base_uri": "https://localhost:8080/"
    },
    "id": "LIC9Tk4hMUds",
    "outputId": "1a081a39-a598-436f-aef2-a49a742e0329"
   },
   "outputs": [
    {
     "data": {
      "text/plain": [
       "Series([], dtype: object)"
      ]
     },
     "execution_count": 18,
     "metadata": {
      "tags": []
     },
     "output_type": "execute_result"
    }
   ],
   "source": [
    "# Finding overlapping elements between two columns\n",
    "# https://stackoverflow.com/questions/18079563/finding-the-intersection-between-two-series-in-pandas\n",
    "\n",
    "s1 = pd.Series(g['IFNa_GAS']).dropna()\n",
    "s2 = pd.Series(g['IFNy_GAS']).dropna()\n",
    "pd.Series(np.intersect1d(s1,s2))"
   ]
  },
  {
   "cell_type": "code",
   "execution_count": null,
   "metadata": {
    "id": "6tM-2FLIPGFJ"
   },
   "outputs": [],
   "source": [
    "# saving\n",
    "g['IFNa_GAS|IFNy_GAS'].to_csv(\"overlap_IFNa_y/GAS.txt\", sep=\"\\t\", index=False, header=None)\n",
    "c['IFNa_comp|IFNy_comp'].to_csv(\"overlap_IFNa_y/Comp.txt\", sep=\"\\t\", index=False, header=None)\n",
    "i['IFNa_ISRE|IFNy_ISRE'].to_csv(\"overlap_IFNa_y/ISRE.txt\", sep=\"\\t\", index=False, header=None)"
   ]
  },
  {
   "cell_type": "code",
   "execution_count": null,
   "metadata": {
    "id": "sjVfJhNNaSq9"
   },
   "outputs": [],
   "source": [
    "pd."
   ]
  }
 ],
 "metadata": {
  "colab": {
   "collapsed_sections": [
    "U_8XBNL6d-mx",
    "xTY3PbUNKfcb"
   ],
   "name": "Networks.ipynb",
   "provenance": []
  },
  "kernelspec": {
   "display_name": "Python 3",
   "language": "python",
   "name": "python3"
  },
  "language_info": {
   "codemirror_mode": {
    "name": "ipython",
    "version": 3
   },
   "file_extension": ".py",
   "mimetype": "text/x-python",
   "name": "python",
   "nbconvert_exporter": "python",
   "pygments_lexer": "ipython3",
   "version": "3.7.10"
  },
  "toc-autonumbering": false,
  "toc-showmarkdowntxt": false,
  "toc-showtags": false
 },
 "nbformat": 4,
 "nbformat_minor": 4
}
