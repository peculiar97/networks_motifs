{
 "cells": [
  {
   "cell_type": "markdown",
   "id": "4f301153-1a9a-4d31-a41e-257d5b6111b3",
   "metadata": {},
   "source": [
    "These were used to prepare the Final Networks & GO for the article."
   ]
  },
  {
   "cell_type": "code",
   "execution_count": 2,
   "id": "50bdc645-e9ba-4908-8fe6-b77007a5d015",
   "metadata": {},
   "outputs": [],
   "source": [
    "import pandas as pd\n",
    "import numpy as np\n",
    "import os\n",
    "import glob\n",
    "import fnmatch"
   ]
  },
  {
   "cell_type": "code",
   "execution_count": 3,
   "id": "98d1c182-a776-42de-9a37-dbb3953bf183",
   "metadata": {},
   "outputs": [
    {
     "name": "stdout",
     "output_type": "stream",
     "text": [
      "IFa:  (216, 3) IFy:  (216, 3)\n"
     ]
    }
   ],
   "source": [
    "IFa = pd.read_excel(\"Md_Style_Table_IFNa_031222final.xlsx\")\n",
    "IFy = pd.read_excel(\"Md_Style_Table_IFNy_031222final.xlsx\")\n",
    "print(\"IFa: \", IFa.shape, \"IFy: \", IFy.shape)"
   ]
  },
  {
   "cell_type": "code",
   "execution_count": 4,
   "id": "05a3cc29-a600-4433-a4c6-b7d2254f2dc4",
   "metadata": {},
   "outputs": [
    {
     "data": {
      "text/html": [
       "<div>\n",
       "<style scoped>\n",
       "    .dataframe tbody tr th:only-of-type {\n",
       "        vertical-align: middle;\n",
       "    }\n",
       "\n",
       "    .dataframe tbody tr th {\n",
       "        vertical-align: top;\n",
       "    }\n",
       "\n",
       "    .dataframe thead th {\n",
       "        text-align: right;\n",
       "    }\n",
       "</style>\n",
       "<table border=\"1\" class=\"dataframe\">\n",
       "  <thead>\n",
       "    <tr style=\"text-align: right;\">\n",
       "      <th></th>\n",
       "      <th>Symbol</th>\n",
       "      <th>Motif</th>\n",
       "      <th>Target</th>\n",
       "    </tr>\n",
       "  </thead>\n",
       "  <tbody>\n",
       "    <tr>\n",
       "      <th>0</th>\n",
       "      <td>ZC3HAV1</td>\n",
       "      <td>composite</td>\n",
       "      <td>STAT1+STAT2+IRF9+IRF1</td>\n",
       "    </tr>\n",
       "    <tr>\n",
       "      <th>1</th>\n",
       "      <td>YPEL2</td>\n",
       "      <td>GAS</td>\n",
       "      <td>STAT1 + STAT2</td>\n",
       "    </tr>\n",
       "    <tr>\n",
       "      <th>2</th>\n",
       "      <td>XAF1</td>\n",
       "      <td>ISRE</td>\n",
       "      <td>STAT1+STAT2+IRF9+IRF1</td>\n",
       "    </tr>\n",
       "  </tbody>\n",
       "</table>\n",
       "</div>"
      ],
      "text/plain": [
       "    Symbol      Motif                 Target\n",
       "0  ZC3HAV1  composite  STAT1+STAT2+IRF9+IRF1\n",
       "1    YPEL2        GAS          STAT1 + STAT2\n",
       "2     XAF1       ISRE  STAT1+STAT2+IRF9+IRF1"
      ]
     },
     "execution_count": 4,
     "metadata": {},
     "output_type": "execute_result"
    }
   ],
   "source": [
    "IFa.head(3)"
   ]
  },
  {
   "cell_type": "code",
   "execution_count": 5,
   "id": "cfc94570-8186-4e09-86a6-aa28b34625d9",
   "metadata": {},
   "outputs": [
    {
     "data": {
      "text/plain": [
       "73     LOC153684\n",
       "81          IL15\n",
       "103         ETV7\n",
       "104         ETV6\n",
       "128      BCL2L14\n",
       "Name: Symbol, dtype: object"
      ]
     },
     "execution_count": 5,
     "metadata": {},
     "output_type": "execute_result"
    }
   ],
   "source": [
    "# To be deleted\n",
    "IFa.iloc[[73, 81, 103, 104, 128], 0]"
   ]
  },
  {
   "cell_type": "code",
   "execution_count": 6,
   "id": "12cac09c-0912-474a-96bb-ec38dea9349f",
   "metadata": {},
   "outputs": [
    {
     "data": {
      "text/plain": [
       "8        BCL2L14\n",
       "36          ETV6\n",
       "38          ETV7\n",
       "60          IL15\n",
       "119    LOC153684\n",
       "Name: Symbol, dtype: object"
      ]
     },
     "execution_count": 6,
     "metadata": {},
     "output_type": "execute_result"
    }
   ],
   "source": [
    "# To be deleted\n",
    "IFy.iloc[[8, 36, 38, 60, 119], 0]"
   ]
  },
  {
   "cell_type": "code",
   "execution_count": 7,
   "id": "5b125ef4-4f95-4e11-b693-bb4f66bb8367",
   "metadata": {},
   "outputs": [
    {
     "name": "stdout",
     "output_type": "stream",
     "text": [
      "IFa:  (211, 3) IFy:  (211, 3)\n"
     ]
    }
   ],
   "source": [
    "# Truncated dataframes\n",
    "IFa_d = IFa.drop(labels=[73, 81, 103, 104, 128], axis=0)\n",
    "IFy_d = IFy.drop(labels=[8, 36, 38, 60, 119], axis=0)\n",
    "print(\"IFa: \", IFa_d.shape, \"IFy: \", IFy_d.shape)"
   ]
  },
  {
   "cell_type": "markdown",
   "id": "0096ed64-71b3-4ef1-a8ad-b0472e83d595",
   "metadata": {},
   "source": [
    "# IFNa"
   ]
  },
  {
   "cell_type": "code",
   "execution_count": 8,
   "id": "646b4e8a-4ea1-49f8-bf4c-1b3e56873ccf",
   "metadata": {},
   "outputs": [
    {
     "data": {
      "text/plain": [
       "array(['STAT1+STAT2+IRF9+IRF1', 'STAT1 + STAT2',\n",
       "       'STAT1 + STAT2 + IRF9+IRF1', 'STAT1 + STAT2 + IRF9', 'STAT1+STAT2',\n",
       "       'STAT1 + STAT2 ', 'STAT1', 'IRF1', 'STAT1+STAT2+IRF9'],\n",
       "      dtype=object)"
      ]
     },
     "execution_count": 8,
     "metadata": {},
     "output_type": "execute_result"
    }
   ],
   "source": [
    "IFa_d['Target'].unique()"
   ]
  },
  {
   "cell_type": "code",
   "execution_count": 9,
   "id": "34a47e53-e908-4989-85e6-fde11562a65a",
   "metadata": {},
   "outputs": [],
   "source": [
    "# IFNa\n",
    "ST1_a = IFa_d[IFa_d['Target'].str.contains('STAT1')].iloc[:,0]\n",
    "ST2_a = IFa_d[IFa_d['Target'].str.contains('STAT2')].iloc[:,0]\n",
    "IR1_a = IFa_d[IFa_d['Target'].str.contains('IRF1')].iloc[:,0]\n",
    "IR9_a = IFa_d[IFa_d['Target'].str.contains('IRF9')].iloc[:,0]\n"
   ]
  },
  {
   "cell_type": "code",
   "execution_count": 10,
   "id": "f49b9653-e0b8-42e8-9963-5e66bf462f10",
   "metadata": {},
   "outputs": [
    {
     "data": {
      "text/plain": [
       "pandas.core.series.Series"
      ]
     },
     "execution_count": 10,
     "metadata": {},
     "output_type": "execute_result"
    }
   ],
   "source": [
    "type(ST1_a)"
   ]
  },
  {
   "cell_type": "code",
   "execution_count": 11,
   "id": "25f703e4-21c2-48b7-9f01-2b6b11625cd6",
   "metadata": {},
   "outputs": [],
   "source": [
    "#INa ST1\n",
    "\n",
    "columns = [\"#node1\", \"node2\"]\n",
    "dfs1 = pd.DataFrame(columns=columns)\n",
    "dfs1['node2'] = ST1_a\n",
    "dfs1['#node1'] = \"STAT1\"\n",
    "\n",
    "# Saving Network File\n",
    "dfs1.to_csv(\"IFNa_ST1.tsv\", sep=\"\\t\", index=False)"
   ]
  },
  {
   "cell_type": "code",
   "execution_count": 12,
   "id": "8d3650a6-0c2f-420f-9584-30ebd2e5b5b0",
   "metadata": {},
   "outputs": [],
   "source": [
    "#INa ST2\n",
    "\n",
    "columns = [\"#node1\", \"node2\"]\n",
    "dfs2 = pd.DataFrame(columns=columns)\n",
    "dfs2['node2'] = ST2_a\n",
    "dfs2['#node1'] = \"STAT2\"\n",
    "\n",
    "# Saving Network File\n",
    "dfs2.to_csv(\"IFNa_ST2.tsv\", sep=\"\\t\", index=False)"
   ]
  },
  {
   "cell_type": "code",
   "execution_count": 13,
   "id": "ccfa11c1-cdcc-4f0f-b0d8-e411aa99b2d5",
   "metadata": {},
   "outputs": [],
   "source": [
    "# IFNa IR1\n",
    "\n",
    "columns = [\"#node1\", \"node2\"]\n",
    "dfr1 = pd.DataFrame(columns=columns)\n",
    "dfr1['node2'] = IR1_a\n",
    "dfr1['#node1'] = \"IRF1\"\n",
    "\n",
    "dfr1.to_csv('IFNa_IR1.tsv', sep='\\t', index=False)"
   ]
  },
  {
   "cell_type": "code",
   "execution_count": 14,
   "id": "68a07127-6262-4ac3-a9e7-b92635f1ef8a",
   "metadata": {},
   "outputs": [],
   "source": [
    "# IFNa IR9\n",
    "\n",
    "columns = [\"#node1\", \"node2\"]\n",
    "dfr9 = pd.DataFrame(columns=columns)\n",
    "dfr9['node2'] = IR9_a\n",
    "dfr9['#node1'] = \"IRF9\"\n",
    "\n",
    "dfr9.to_csv('IFNa_IR9.tsv', sep='\\t', index=False)"
   ]
  },
  {
   "cell_type": "code",
   "execution_count": 15,
   "id": "c51b2fb1-c333-4c78-acc3-04a91e940090",
   "metadata": {},
   "outputs": [
    {
     "data": {
      "text/plain": [
       "array(['composite', 'GAS', 'ISRE'], dtype=object)"
      ]
     },
     "execution_count": 15,
     "metadata": {},
     "output_type": "execute_result"
    }
   ],
   "source": [
    "IFa_d['Motif'].unique()"
   ]
  },
  {
   "cell_type": "code",
   "execution_count": 16,
   "id": "eed91f67-5fa2-4bfa-97fb-c7209efec810",
   "metadata": {},
   "outputs": [],
   "source": [
    "# Define shape\n",
    "IFa_d.loc[IFa_d['Motif'] == 'GAS', 'Shape'] = 'diamond'\n",
    "IFa_d.loc[IFa_d['Motif'] == 'composite', 'Shape'] = 'rectangle'\n",
    "IFa_d.loc[IFa_d['Motif'] == 'ISRE', 'Shape'] = 'ellipse'"
   ]
  },
  {
   "cell_type": "code",
   "execution_count": 17,
   "id": "a9b1b127-bf4e-4713-bb36-7d1a8625fb63",
   "metadata": {},
   "outputs": [
    {
     "data": {
      "text/plain": [
       "array(['STAT1+STAT2+IRF9+IRF1', 'STAT1 + STAT2',\n",
       "       'STAT1 + STAT2 + IRF9+IRF1', 'STAT1 + STAT2 + IRF9', 'STAT1+STAT2',\n",
       "       'STAT1 + STAT2 ', 'STAT1', 'IRF1', 'STAT1+STAT2+IRF9'],\n",
       "      dtype=object)"
      ]
     },
     "execution_count": 17,
     "metadata": {},
     "output_type": "execute_result"
    }
   ],
   "source": [
    "IFa_d['Target'].unique()"
   ]
  },
  {
   "cell_type": "code",
   "execution_count": 18,
   "id": "eb820545-5d61-4014-bd18-d2dbb68d5b1f",
   "metadata": {},
   "outputs": [
    {
     "data": {
      "text/plain": [
       "array(['STAT1+STAT2+IRF9+IRF1', 'STAT1 + STAT2',\n",
       "       'STAT1 + STAT2 + IRF9+IRF1', 'STAT1 + STAT2 + IRF9', 'STAT1+STAT2',\n",
       "       'STAT1', 'IRF1', 'STAT1+STAT2+IRF9'], dtype=object)"
      ]
     },
     "execution_count": 18,
     "metadata": {},
     "output_type": "execute_result"
    }
   ],
   "source": [
    "IFa_d['Target'] = IFa_d['Target'].str.strip()\n",
    "IFa_d['Target'].unique()"
   ]
  },
  {
   "cell_type": "code",
   "execution_count": 19,
   "id": "db0229e3-a1dc-4037-8e49-d5262b44c7a4",
   "metadata": {},
   "outputs": [],
   "source": [
    "# define color\n",
    "IFa_d.loc[(IFa_d['Target'] == 'STAT1+STAT2+IRF9+IRF1') | (IFa_d['Target'] == 'STAT1 + STAT2 + IRF9+IRF1'),'colr'] = \"#ffadad\"\n",
    "IFa_d.loc[(IFa_d['Target'] == 'STAT1 + STAT2') | (IFa_d['Target'] == 'STAT1+STAT2'), 'colr'] = \"#caffbf\"\n",
    "IFa_d.loc[(IFa_d['Target'] == 'STAT1 + STAT2 + IRF9') | (IFa_d['Target'] == 'STAT1+STAT2+IRF9'), 'colr'] = \"#ffd6a5\"\n",
    "IFa_d.loc[IFa_d['Target'] == 'STAT1', 'colr'] = \"#9bf6ff\"\n",
    "IFa_d.loc[IFa_d['Target'] == 'IRF1', 'colr'] = \"#fdffb6\"\n"
   ]
  },
  {
   "cell_type": "code",
   "execution_count": 20,
   "id": "f8ab887b-3287-4996-ac62-f59f1ab0a276",
   "metadata": {},
   "outputs": [
    {
     "data": {
      "text/plain": [
       "False"
      ]
     },
     "execution_count": 20,
     "metadata": {},
     "output_type": "execute_result"
    }
   ],
   "source": [
    "# Checking NaN values\n",
    "IFa_d.isnull().values.any()"
   ]
  },
  {
   "cell_type": "code",
   "execution_count": 21,
   "id": "565a2594-d182-4009-8e7a-166f44a11686",
   "metadata": {},
   "outputs": [],
   "source": [
    "IFa_d.to_csv('Styl_IFNa.tsv', sep='\\t', index=False)"
   ]
  },
  {
   "cell_type": "code",
   "execution_count": 22,
   "id": "a93dccfc-67bd-46c1-a878-ecaac6b66dde",
   "metadata": {},
   "outputs": [
    {
     "data": {
      "text/html": [
       "<div>\n",
       "<style scoped>\n",
       "    .dataframe tbody tr th:only-of-type {\n",
       "        vertical-align: middle;\n",
       "    }\n",
       "\n",
       "    .dataframe tbody tr th {\n",
       "        vertical-align: top;\n",
       "    }\n",
       "\n",
       "    .dataframe thead th {\n",
       "        text-align: right;\n",
       "    }\n",
       "</style>\n",
       "<table border=\"1\" class=\"dataframe\">\n",
       "  <thead>\n",
       "    <tr style=\"text-align: right;\">\n",
       "      <th></th>\n",
       "      <th>Symbol</th>\n",
       "      <th>Motif</th>\n",
       "      <th>Target</th>\n",
       "    </tr>\n",
       "  </thead>\n",
       "  <tbody>\n",
       "    <tr>\n",
       "      <th>147</th>\n",
       "      <td>SMG1</td>\n",
       "      <td>composite</td>\n",
       "      <td>STAT1</td>\n",
       "    </tr>\n",
       "  </tbody>\n",
       "</table>\n",
       "</div>"
      ],
      "text/plain": [
       "    Symbol      Motif Target\n",
       "147   SMG1  composite  STAT1"
      ]
     },
     "execution_count": 22,
     "metadata": {},
     "output_type": "execute_result"
    }
   ],
   "source": [
    "IFa[IFa['Symbol'] == 'SMG1']"
   ]
  },
  {
   "cell_type": "markdown",
   "id": "626deeff-5ef4-49d1-8b0a-131e51bdb9cb",
   "metadata": {},
   "source": [
    "# IFNy"
   ]
  },
  {
   "cell_type": "code",
   "execution_count": 23,
   "id": "83fbdff4-f013-4a63-854d-5f8d7a6d30f5",
   "metadata": {},
   "outputs": [
    {
     "data": {
      "text/plain": [
       "array(['STAT1 + IRF1', 'IRF1', 'STAT1', 'STAT1 + IRF1 + IRF9', 'IRF1 ',\n",
       "       'STAT1 + IRF9', 'STAT1+IRF1', 'STAT1+IRF9', 'STAT1+IRF9+IRF1'],\n",
       "      dtype=object)"
      ]
     },
     "execution_count": 23,
     "metadata": {},
     "output_type": "execute_result"
    }
   ],
   "source": [
    "IFy_d['Target'].unique()"
   ]
  },
  {
   "cell_type": "code",
   "execution_count": 24,
   "id": "c63b6a6c-d9d3-477c-8837-165e20b99edf",
   "metadata": {},
   "outputs": [],
   "source": [
    "# IFNa\n",
    "ST1_y = IFy_d[IFy_d['Target'].str.contains('STAT1')].iloc[:,0]\n",
    "IR1_y = IFy_d[IFy_d['Target'].str.contains('IRF1')].iloc[:,0]\n",
    "IR9_y = IFy_d[IFy_d['Target'].str.contains('IRF9')].iloc[:,0]"
   ]
  },
  {
   "cell_type": "code",
   "execution_count": 25,
   "id": "fe54f258-06d5-4fea-925c-c8e775daecaa",
   "metadata": {},
   "outputs": [],
   "source": [
    "#IFNy ST1\n",
    "\n",
    "columns = [\"#node1\", \"node2\"]\n",
    "dfs1 = pd.DataFrame(columns=columns)\n",
    "dfs1['node2'] = ST1_y\n",
    "dfs1['#node1'] = \"STAT1\"\n",
    "\n",
    "# Saving Network File\n",
    "dfs1.to_csv(\"IFNy_ST1.tsv\", sep=\"\\t\", index=False)"
   ]
  },
  {
   "cell_type": "code",
   "execution_count": 26,
   "id": "af83d043-cdb5-4549-905c-167f7b1b6f0f",
   "metadata": {},
   "outputs": [],
   "source": [
    "# IFNa IR1\n",
    "\n",
    "columns = [\"#node1\", \"node2\"]\n",
    "dfr1 = pd.DataFrame(columns=columns)\n",
    "dfr1['node2'] = IR1_y\n",
    "dfr1['#node1'] = \"IRF1\"\n",
    "\n",
    "dfr1.to_csv('IFNy_IR1.tsv', sep='\\t', index=False)"
   ]
  },
  {
   "cell_type": "code",
   "execution_count": 27,
   "id": "ddde859e-2f7d-4684-abf3-d46d7808644a",
   "metadata": {},
   "outputs": [],
   "source": [
    "# IFNa IR9\n",
    "\n",
    "columns = [\"#node1\", \"node2\"]\n",
    "dfr9 = pd.DataFrame(columns=columns)\n",
    "dfr9['node2'] = IR9_y\n",
    "dfr9['#node1'] = \"IRF9\"\n",
    "\n",
    "dfr9.to_csv('IFNy_IR9.tsv', sep='\\t', index=False)"
   ]
  },
  {
   "cell_type": "code",
   "execution_count": 28,
   "id": "18d0ffcd-e068-40ee-99b0-6a8ff0d966b7",
   "metadata": {},
   "outputs": [
    {
     "data": {
      "text/plain": [
       "array(['composite', 'ISRE', 'GAS'], dtype=object)"
      ]
     },
     "execution_count": 28,
     "metadata": {},
     "output_type": "execute_result"
    }
   ],
   "source": [
    "IFy_d['Motif'].unique()"
   ]
  },
  {
   "cell_type": "code",
   "execution_count": 29,
   "id": "079da60c-0ada-4182-ac81-d12fb54754ca",
   "metadata": {},
   "outputs": [],
   "source": [
    "# Define shape\n",
    "IFy_d.loc[IFy_d['Motif'] == 'GAS', 'Shape'] = 'diamond'\n",
    "IFy_d.loc[IFy_d['Motif'] == 'composite', 'Shape'] = 'rectangle'\n",
    "IFy_d.loc[IFy_d['Motif'] == 'ISRE', 'Shape'] = 'ellipse'"
   ]
  },
  {
   "cell_type": "code",
   "execution_count": 30,
   "id": "4caaf10c-856b-4785-a730-7cfda41d6cbf",
   "metadata": {},
   "outputs": [
    {
     "data": {
      "text/plain": [
       "array(['STAT1 + IRF1', 'IRF1', 'STAT1', 'STAT1 + IRF1 + IRF9', 'IRF1 ',\n",
       "       'STAT1 + IRF9', 'STAT1+IRF1', 'STAT1+IRF9', 'STAT1+IRF9+IRF1'],\n",
       "      dtype=object)"
      ]
     },
     "execution_count": 30,
     "metadata": {},
     "output_type": "execute_result"
    }
   ],
   "source": [
    "IFy_d['Target'].unique()"
   ]
  },
  {
   "cell_type": "code",
   "execution_count": 31,
   "id": "8425f622-4197-45f5-8f21-cc2522165169",
   "metadata": {},
   "outputs": [
    {
     "data": {
      "text/plain": [
       "array(['STAT1 + IRF1', 'IRF1', 'STAT1', 'STAT1 + IRF1 + IRF9',\n",
       "       'STAT1 + IRF9', 'STAT1+IRF1', 'STAT1+IRF9', 'STAT1+IRF9+IRF1'],\n",
       "      dtype=object)"
      ]
     },
     "execution_count": 31,
     "metadata": {},
     "output_type": "execute_result"
    }
   ],
   "source": [
    "IFy_d['Target'] = IFy_d['Target'].str.strip()\n",
    "IFy_d['Target'].unique()"
   ]
  },
  {
   "cell_type": "code",
   "execution_count": 32,
   "id": "d6a5a305-5797-4170-9aeb-05521df3e810",
   "metadata": {},
   "outputs": [],
   "source": [
    "# Define color\n",
    "\n",
    "IFy_d.loc[(IFy_d['Target'] == 'STAT1 + IRF1') | (IFy_d['Target'] == 'STAT1+IRF1'),'colr'] = \"#caffbf\"\n",
    "IFy_d.loc[IFy_d['Target'] == 'IRF1', 'colr'] = \"#ffd6a5\"\n",
    "IFy_d.loc[IFy_d['Target'] == 'STAT1', 'colr'] = \"#fdffb6\"\n",
    "IFy_d.loc[(IFy_d['Target'] == 'STAT1 + IRF1 + IRF9') | (IFy_d['Target'] == 'STAT1+IRF9+IRF1'), 'colr'] = \"#ffadad\"\n",
    "IFy_d.loc[(IFy_d['Target'] == 'STAT1 + IRF9') | (IFy_d['Target'] == 'STAT1+IRF9'), 'colr'] = \"#9bf6ff\""
   ]
  },
  {
   "cell_type": "code",
   "execution_count": 33,
   "id": "406727af-c46b-4d87-8fd0-146941f4082b",
   "metadata": {},
   "outputs": [
    {
     "data": {
      "text/plain": [
       "False"
      ]
     },
     "execution_count": 33,
     "metadata": {},
     "output_type": "execute_result"
    }
   ],
   "source": [
    "IFy_d.isnull().values.any()"
   ]
  },
  {
   "cell_type": "code",
   "execution_count": 34,
   "id": "ac69fea7-d25c-4559-8152-9afeeeb62316",
   "metadata": {},
   "outputs": [],
   "source": [
    "IFy_d.to_csv('Styl_IFNy.tsv', sep='\\t', index=False)"
   ]
  },
  {
   "cell_type": "markdown",
   "id": "3550180d-665f-4096-98e4-09764420ce3c",
   "metadata": {},
   "source": [
    "# GO enrichment"
   ]
  },
  {
   "cell_type": "code",
   "execution_count": 35,
   "id": "841b307b-219c-4d7d-ad61-74c6af00e6b2",
   "metadata": {},
   "outputs": [
    {
     "name": "stdout",
     "output_type": "stream",
     "text": [
      "GAS:  (86,) ISRE:  (82,) Composite:  (43,)\n"
     ]
    }
   ],
   "source": [
    "# IFNy\n",
    "gas_y = IFy_d[IFy_d['Motif'] == 'GAS'].iloc[:,0]\n",
    "isre_y = IFy_d[IFy_d['Motif'] == 'ISRE'].iloc[:,0]\n",
    "com_y = IFy_d[IFy_d['Motif'] == 'composite'].iloc[:,0]\n",
    "\n",
    "print(\"GAS: \", gas_y.shape, \"ISRE: \", isre_y.shape, \"Composite: \", com_y.shape)"
   ]
  },
  {
   "cell_type": "code",
   "execution_count": 36,
   "id": "d01d54f7-a29a-4dcc-8e7e-c63f6117c95c",
   "metadata": {},
   "outputs": [
    {
     "name": "stdout",
     "output_type": "stream",
     "text": [
      "GAS:  (86,) ISRE:  (82,) Composite:  (43,)\n"
     ]
    }
   ],
   "source": [
    "# IFN a\n",
    "gas_a = IFa_d[IFa_d['Motif'] == 'GAS'].iloc[:,0]\n",
    "isre_a = IFa_d[IFa_d['Motif'] == 'ISRE'].iloc[:,0]\n",
    "com_a = IFa_d[IFa_d['Motif'] == 'composite'].iloc[:,0]\n",
    "\n",
    "print(\"GAS: \", gas_a.shape, \"ISRE: \", isre_a.shape, \"Composite: \", com_a.shape)"
   ]
  },
  {
   "cell_type": "code",
   "execution_count": 76,
   "id": "aa659a35-8a56-45f1-9960-21c3e4f3362d",
   "metadata": {},
   "outputs": [],
   "source": [
    "gas_a.to_csv('gas_a.tsv', sep='\\t', index=False, header=None)\n",
    "isre_a.to_csv('isre_a.tsv', sep='\\t', index=False, header=None)\n",
    "com_a.to_csv('com_a.tsv', sep= '\\t', index=False, header= None)"
   ]
  },
  {
   "cell_type": "code",
   "execution_count": 42,
   "id": "fdf0bfc5-143e-4f40-bd6c-3c0aacb4193c",
   "metadata": {},
   "outputs": [
    {
     "data": {
      "text/plain": [
       "(125,)"
      ]
     },
     "execution_count": 42,
     "metadata": {},
     "output_type": "execute_result"
    }
   ],
   "source": [
    "mrg_isre_com = pd.concat([isre_a, com_a], ignore_index=True)\n",
    "mrg_isre_com.to_csv('mrgd_isre_com_a.tsv', sep='\\t', index=False, header=None)\n",
    "mrg_isre_com.shape"
   ]
  },
  {
   "cell_type": "code",
   "execution_count": 43,
   "id": "991eb517-ddc2-4edc-8139-63538f3cb0fb",
   "metadata": {},
   "outputs": [
    {
     "name": "stdout",
     "output_type": "stream",
     "text": [
      "/media/dell/Elements/MAH/dhmg/beta/TFs/IDR/Networks_motifs/New_analysis/TFs_4_Networks/Cytoscape_files/Latest_Network_genes\n"
     ]
    }
   ],
   "source": [
    "!pwd"
   ]
  },
  {
   "cell_type": "code",
   "execution_count": null,
   "id": "ebaab265-fccd-4d9d-9a81-1cc83d5d74b3",
   "metadata": {},
   "outputs": [],
   "source": []
  }
 ],
 "metadata": {
  "kernelspec": {
   "display_name": "Python 3 (ipykernel)",
   "language": "python",
   "name": "python3"
  },
  "language_info": {
   "codemirror_mode": {
    "name": "ipython",
    "version": 3
   },
   "file_extension": ".py",
   "mimetype": "text/x-python",
   "name": "python",
   "nbconvert_exporter": "python",
   "pygments_lexer": "ipython3",
   "version": "3.7.12"
  }
 },
 "nbformat": 4,
 "nbformat_minor": 5
}
