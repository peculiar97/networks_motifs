{
 "cells": [
  {
   "cell_type": "markdown",
   "metadata": {
    "id": "R7Q4zdFbhXG4"
   },
   "source": [
    "# **Summary of Workflow for Integrative approach:**\n",
    "\n",
    "\n",
    "1.Based on the binding profiles for STAT1, STAT2, IRF1 and IRF9, TF-specific gene lists were prepared (e.g. STAT1-target genes).\n",
    "\n",
    "2.The motif file containing GAS-only, ISRE-only and composite containing genes were generated (by others).\n",
    "\n",
    "3.The integration analysis was performed using up-regulated, P-adjusted(P<0.05) genes from RNA-seq and the peaks from CHIP-seq (From: /media/dell/Elements/MAH/dhmg/beta/TFs/New_analysis). Briefly, BETA tool was run using this script (nested_all_beta.sh), followed by extraction of upregulated genes from all time points (using beta_genes.sh) and combining all files into a single one (cat *.txt | sort | uniq > IFNa_genes.txt). Then, \n",
    "the integrative gene list was initially refined by the identification of overlapping genes between the integrative list and the motif list from step 2, followed by the detection of integrative genes that are common with gene lists from step 1. Accordingly, the number of refined integrative genes were 330 and 308, in IFNa- and IFNy-treated groups, respectively. Please check \"clusters.ipynb\" script (Refined gene list) for the latest integrative gene list.\n",
    "\n"
   ]
  },
  {
   "cell_type": "code",
   "execution_count": 1,
   "metadata": {
    "id": "eXH5Y7r7j0jj"
   },
   "outputs": [],
   "source": [
    "import pandas as pd\n",
    "import numpy as np\n",
    "import os\n",
    "import glob\n",
    "import fnmatch"
   ]
  },
  {
   "cell_type": "code",
   "execution_count": 2,
   "metadata": {},
   "outputs": [
    {
     "name": "stdout",
     "output_type": "stream",
     "text": [
      "Peaks/final_peaks/.ipynb_checkpoints/hs_HuhWT_IFNa_IRF1_allPeaksSet_nR_topScore_10_final-checkpoint.xls\n",
      "Peaks/final_peaks/allPeaksSet_nR_allAntibodies_IFNa_topScore_final.bed\n",
      "Peaks/final_peaks/allPeaksSet_nR_allAntibodies_IFNa_topScore_final.txt\n",
      "Peaks/final_peaks/allPeaksSet_nR_allAntibodies_IFNy_topScore.bed\n",
      "Peaks/final_peaks/allPeaksSet_nR_allAntibodies_IFNy_topScore.txt\n",
      "Peaks/final_peaks/hs_HuhWT_IFNa_IRF1_allPeaksSet_nR_topScore_10_final.txt\n",
      "Peaks/final_peaks/hs_HuhWT_IFNa_IRF1_allPeaksSet_nR_topScore_10_final.xls\n",
      "Peaks/final_peaks/hs_HuhWT_IFNa_IRF9_allPeaksSet_nR_topScore_5_final.txt\n",
      "Peaks/final_peaks/hs_HuhWT_IFNa_pSTAT1_allPeaksSet_nR_topScore_20_final.txt\n",
      "Peaks/final_peaks/hs_HuhWT_IFNa_pSTAT2_allPeaksSet_nR_topScore_15_final.txt\n",
      "Peaks/final_peaks/hs_HuhWT_IFNy_IRF1_allPeaksSet_nR_topScore_10_final.txt\n",
      "Peaks/final_peaks/hs_HuhWT_IFNy_IRF9_allPeaksSet_nR_topScore_5_final.txt\n",
      "Peaks/final_peaks/hs_HuhWT_IFNy_pSTAT1_allPeaksSet_nR_topScore_20_final.txt\n"
     ]
    }
   ],
   "source": [
    "# List all files in a specific directory\n",
    "\n",
    "for (root,dirs,files) in os.walk('Peaks/final_peaks/', topdown=False):\n",
    "    for name in files:\n",
    "        print(os.path.join(root,name))\n",
    "    "
   ]
  },
  {
   "cell_type": "markdown",
   "metadata": {
    "id": "87Y4WawMix7Q"
   },
   "source": [
    "# Preparing the TF-specific genes (To make annotate folder)\n"
   ]
  },
  {
   "cell_type": "code",
   "execution_count": 3,
   "metadata": {},
   "outputs": [
    {
     "name": "stdout",
     "output_type": "stream",
     "text": [
      "/media/dell/Elements/MAH/dhmg/beta/TFs/IDR/Networks_motifs/New_analysis\n"
     ]
    }
   ],
   "source": [
    "# working directory for this script\n",
    "!pwd"
   ]
  },
  {
   "cell_type": "code",
   "execution_count": 3,
   "metadata": {},
   "outputs": [
    {
     "name": "stdout",
     "output_type": "stream",
     "text": [
      "<DirEntry 'allPeaksSet_nR_allAntibodies_IFNa_topScore_final.txt'>\n",
      "<DirEntry 'hs_HuhWT_IFNa_IRF1_allPeaksSet_nR_topScore_10_final.txt'>\n",
      "<DirEntry 'hs_HuhWT_IFNa_IRF9_allPeaksSet_nR_topScore_5_final.txt'>\n",
      "<DirEntry 'hs_HuhWT_IFNa_pSTAT1_allPeaksSet_nR_topScore_20_final.txt'>\n",
      "<DirEntry 'hs_HuhWT_IFNa_pSTAT2_allPeaksSet_nR_topScore_15_final.txt'>\n",
      "<DirEntry 'hs_HuhWT_IFNy_IRF1_allPeaksSet_nR_topScore_10_final.txt'>\n",
      "<DirEntry 'hs_HuhWT_IFNy_IRF9_allPeaksSet_nR_topScore_5_final.txt'>\n",
      "<DirEntry 'hs_HuhWT_IFNy_pSTAT1_allPeaksSet_nR_topScore_20_final.txt'>\n"
     ]
    }
   ],
   "source": [
    "# List of Files in a specific directory with specific extension\n",
    "# Ref: https://www.pythonpool.com/python-loop-through-files-in-directory/ \n",
    "\n",
    "path_of_the_directory = 'Peaks/final_peaks/'\n",
    "ext = ('final.txt') # It is not allowed to use wildcards\n",
    "for files in os.scandir(path_of_the_directory):\n",
    "    if files.path.endswith(ext):\n",
    "        print(files)"
   ]
  },
  {
   "cell_type": "code",
   "execution_count": 46,
   "metadata": {
    "colab": {
     "base_uri": "https://localhost:8080/"
    },
    "id": "umoRqNCCuH5Q",
    "outputId": "2d6f3174-f6e0-487f-f40c-0a88fde8c1f7"
   },
   "outputs": [
    {
     "name": "stdout",
     "output_type": "stream",
     "text": [
      "Running hs_HuhWT_IFNa_IRF1_allPeaksSet_nR_topScore_10_final.txt\n",
      "<class 'pandas.core.frame.DataFrame'>\n",
      "(3498, 6)\n",
      "Running hs_HuhWT_IFNa_IRF9_allPeaksSet_nR_topScore_5_final.txt\n",
      "<class 'pandas.core.frame.DataFrame'>\n",
      "(1178, 6)\n",
      "Running hs_HuhWT_IFNa_pSTAT1_allPeaksSet_nR_topScore_20_final.txt\n",
      "<class 'pandas.core.frame.DataFrame'>\n",
      "(3874, 6)\n",
      "Running hs_HuhWT_IFNa_pSTAT2_allPeaksSet_nR_topScore_15_final.txt\n",
      "<class 'pandas.core.frame.DataFrame'>\n",
      "(4218, 6)\n",
      "Running hs_HuhWT_IFNy_IRF1_allPeaksSet_nR_topScore_10_final.txt\n",
      "<class 'pandas.core.frame.DataFrame'>\n",
      "(6217, 6)\n",
      "Running hs_HuhWT_IFNy_IRF9_allPeaksSet_nR_topScore_5_final.txt\n",
      "<class 'pandas.core.frame.DataFrame'>\n",
      "(358, 6)\n",
      "Running hs_HuhWT_IFNy_pSTAT1_allPeaksSet_nR_topScore_20_final.txt\n",
      "<class 'pandas.core.frame.DataFrame'>\n",
      "(2796, 6)\n"
     ]
    }
   ],
   "source": [
    "# Preparing the file for annotatePeaks.pl command from homer\n",
    "# This code bloc is repeated for each TF\n",
    "# Another solution @ https://stackoverflow.com/questions/64479604/dataframe-to-csv-in-a-for-loop-with-different-file-names\n",
    "\n",
    "in_dir = 'Peaks/final_peaks/'\n",
    "out_dir = 'Peaks/For_homer/'\n",
    "\n",
    "for file in os.listdir(in_dir):\n",
    "    if fnmatch.fnmatch(file, 'hs*.txt'):\n",
    "        print('Running {}'.format(file))\n",
    "        fileBaseName = os.path.basename(file).split('.')[0]\n",
    "        newFilename = '{}{}.tsv'.format(out_dir, fileBaseName)\n",
    "        tf = pd.read_csv(in_dir + file, sep=\"\\t\", header=None, skiprows=[0])\n",
    "        tf_bd = tf.iloc[:,0:6].copy()\n",
    "        tf_bd.to_csv(newFilename, sep=\"\\t\", header=None, index=False)  \n",
    "        print(type(tf_bd)); print(tf_bd.shape)\n"
   ]
  },
  {
   "cell_type": "code",
   "execution_count": 47,
   "metadata": {
    "collapsed": true,
    "jupyter": {
     "outputs_hidden": true
    },
    "tags": []
   },
   "outputs": [
    {
     "name": "stderr",
     "output_type": "stream",
     "text": [
      "\n",
      "\tPeak file = Peaks/For_homer/hs_HuhWT_IFNa_IRF1_allPeaksSet_nR_topScore_10_final.tsv\n",
      "\tGenome = hg38\n",
      "\tOrganism = human\n",
      "\tPeak/BED file conversion summary:\n",
      "\t\tBED/Header formatted lines: 3498\n",
      "\t\tpeakfile formatted lines: 0\n",
      "\t\tDuplicated Peak IDs: 0\n",
      "\n",
      "\tPeak File Statistics:\n",
      "\t\tTotal Peaks: 3498\n",
      "\t\tRedundant Peak IDs: 0\n",
      "\t\tPeaks lacking information: 0 (need at least 5 columns per peak)\n",
      "\t\tPeaks with misformatted coordinates: 0 (should be integer)\n",
      "\t\tPeaks with misformatted strand: 0 (should be either +/- or 0/1)\n",
      "\n",
      "\tPeak file looks good!\n",
      "\n",
      "\tReading Positions...\n",
      "\t-----------------------\n",
      "\tFinding Closest TSS...\n",
      "\tAnnotating:.......................\n",
      "\t\tAnnotation\tNumber of peaks\tTotal size (bp)\tLog2 Ratio (obs/exp)\tLogP enrichment (+values depleted)\n",
      "\t\t3UTR\t26.0\t26786192\t-0.251\t1.538\n",
      "\t\tmiRNA\t0.0\t97618\t-0.154\t0.113\n",
      "\t\tncRNA\t13.0\t6998912\t0.686\t-2.694\n",
      "\t\tTTS\t44.0\t32227484\t0.242\t-1.895\n",
      "\t\tpseudo\t1.0\t2085537\t-1.268\t1.182\n",
      "\t\tExon\t36.0\t37015031\t-0.248\t1.780\n",
      "\t\tIntron\t1591.0\t1253662019\t0.136\t-14.469\n",
      "\t\tIntergenic\t1361.0\t1631972721\t-0.470\t161.066\n",
      "\t\tPromoter\t412.0\t35774823\t3.318\t-601.270\n",
      "\t\t5UTR\t14.0\t2592085\t2.226\t-12.633\n",
      "\t\tsnoRNA\t0.0\t357\t-0.001\t0.000\n",
      "\t\tscRNA\t0.0\t97\t-0.000\t0.000\n",
      "\t\trRNA\t0.0\t25562\t-0.042\t0.030\n",
      "\tNOTE: If this part takes more than 2 minutes, there is a good chance\n",
      "\t\tyour machine ran out of memory: consider hitting ctrl+C and rerunning\n",
      "\t\tthe command with \"-noann\"\n",
      "\tTo capture annotation stats in a file, use \"-annStats <filename>\" next time\n",
      "\tAnnotating:.......................\n",
      "\t\tAnnotation\tNumber of peaks\tTotal size (bp)\tLog2 Ratio (obs/exp)\tLogP enrichment (+values depleted)\n",
      "\t\t3UTR\t26.0\t26786192\t-0.250\t1.534\n",
      "\t\tRetroposon\t0.0\t4044155\t-2.504\t4.671\n",
      "\t\tRC?\t0.0\t59509\t-0.096\t0.069\n",
      "\t\tRNA\t0.0\t107756\t-0.169\t0.124\n",
      "\t\tmiRNA\t0.0\t97618\t-0.154\t0.113\n",
      "\t\tncRNA\t13.0\t6998912\t0.686\t-2.697\n",
      "\t\tTTS\t44.0\t32227484\t0.242\t-1.900\n",
      "\t\tLINE\t449.0\t626703751\t-0.688\t76.428\n",
      "\t\tsrpRNA\t0.0\t261424\t-0.380\t0.302\n",
      "\t\tSINE\t138.0\t377075025\t-1.657\t155.697\n",
      "\t\tRC\t0.0\t359494\t-0.501\t0.415\n",
      "\t\ttRNA\t1.0\t91111\t3.249\t-2.304\n",
      "\t\tDNA?\t1.0\t422285\t1.037\t-0.952\n",
      "\t\tpseudo\t1.0\t2085537\t-1.267\t1.182\n",
      "\t\tDNA\t131.0\t98947449\t0.198\t-2.768\n",
      "\t\tExon\t36.0\t37015031\t-0.247\t1.775\n",
      "\t\tIntron\t1059.0\t654126650\t0.488\t-75.075\n",
      "\t\tIntergenic\t805.0\t742668051\t-0.091\t3.881\n",
      "\t\tPromoter\t412.0\t35774823\t3.319\t-601.465\n",
      "\t\t5UTR\t14.0\t2592085\t2.226\t-12.639\n",
      "\t\tsnoRNA\t0.0\t357\t-0.001\t0.000\n",
      "\t\tLTR?\t0.0\t1137225\t-1.210\t1.313\n",
      "\t\tscRNA\t1.0\t121379\t2.836\t-2.035\n",
      "\t\tCpG-Island\t44.0\t8917387\t2.096\t-32.931\n",
      "\t\tLow_complexity\t19.0\t5394919\t1.610\t-10.477\n",
      "\t\tLTR\t263.0\t257625099\t-0.177\t3.976\n",
      "\t\tSimple_repeat\t39.0\t33811580\t-0.001\t0.614\n",
      "\t\tsnRNA\t1.0\t311793\t1.475\t-1.197\n",
      "\t\tUnknown\t1.0\t713433\t0.280\t-0.578\n",
      "\t\tSINE?\t0.0\t2674\t-0.004\t0.003\n",
      "\t\tSatellite\t0.0\t74135823\t-6.471\t86.627\n",
      "\t\trRNA\t0.0\t199378\t-0.299\t0.230\n",
      "\tCounting Tags in Peaks from each directory...\n",
      "\tOrganism: human\n",
      "\tLoading Gene Informaiton...\n",
      "\tOutputing Annotation File...\n",
      "\tDone annotating peaks file\n",
      "\n",
      "\n",
      "\tPeak file = Peaks/For_homer/hs_HuhWT_IFNa_IRF9_allPeaksSet_nR_topScore_5_final.tsv\n",
      "\tGenome = hg38\n",
      "\tOrganism = human\n",
      "\tPeak/BED file conversion summary:\n",
      "\t\tBED/Header formatted lines: 1178\n",
      "\t\tpeakfile formatted lines: 0\n",
      "\t\tDuplicated Peak IDs: 0\n",
      "\n",
      "\tPeak File Statistics:\n",
      "\t\tTotal Peaks: 1178\n",
      "\t\tRedundant Peak IDs: 0\n",
      "\t\tPeaks lacking information: 0 (need at least 5 columns per peak)\n",
      "\t\tPeaks with misformatted coordinates: 0 (should be integer)\n",
      "\t\tPeaks with misformatted strand: 0 (should be either +/- or 0/1)\n",
      "\n",
      "\tPeak file looks good!\n",
      "\n",
      "\tReading Positions...\n",
      "\t-----------------------\n",
      "\tFinding Closest TSS...\n",
      "\tAnnotating:.......................\n",
      "\t\tAnnotation\tNumber of peaks\tTotal size (bp)\tLog2 Ratio (obs/exp)\tLogP enrichment (+values depleted)\n",
      "\t\t3UTR\t8.0\t26786192\t-0.381\t1.249\n",
      "\t\tmiRNA\t0.0\t97618\t-0.054\t0.038\n",
      "\t\tncRNA\t3.0\t6998912\t0.140\t-0.670\n",
      "\t\tTTS\t13.0\t32227484\t0.053\t-0.724\n",
      "\t\tpseudo\t0.0\t2085537\t-0.857\t0.811\n",
      "\t\tExon\t14.0\t37015031\t-0.040\t0.638\n",
      "\t\tIntron\t449.0\t1253662019\t-0.119\t4.422\n",
      "\t\tIntergenic\t405.0\t1631972721\t-0.648\t93.689\n",
      "\t\tPromoter\t279.0\t35774823\t4.326\t-607.820\n",
      "\t\t5UTR\t7.0\t2592085\t2.796\t-9.358\n",
      "\t\tsnoRNA\t0.0\t357\t-0.000\t0.000\n",
      "\t\tscRNA\t0.0\t97\t-0.000\t0.000\n",
      "\t\trRNA\t0.0\t25562\t-0.014\t0.010\n",
      "\tNOTE: If this part takes more than 2 minutes, there is a good chance\n",
      "\t\tyour machine ran out of memory: consider hitting ctrl+C and rerunning\n",
      "\t\tthe command with \"-noann\"\n",
      "\tTo capture annotation stats in a file, use \"-annStats <filename>\" next time\n",
      "\tAnnotating:.......................\n",
      "\t\tAnnotation\tNumber of peaks\tTotal size (bp)\tLog2 Ratio (obs/exp)\tLogP enrichment (+values depleted)\n",
      "\t\t3UTR\t8.0\t26786192\t-0.380\t1.247\n",
      "\t\tRetroposon\t0.0\t4044155\t-1.364\t1.573\n",
      "\t\tRC?\t0.0\t59509\t-0.033\t0.023\n",
      "\t\tRNA\t0.0\t107756\t-0.059\t0.042\n",
      "\t\tmiRNA\t0.0\t97618\t-0.054\t0.038\n",
      "\t\tncRNA\t3.0\t6998912\t0.141\t-0.670\n",
      "\t\tTTS\t13.0\t32227484\t0.054\t-0.725\n",
      "\t\tLINE\t112.0\t626703751\t-1.121\t56.140\n",
      "\t\tsrpRNA\t0.0\t261424\t-0.140\t0.102\n",
      "\t\tSINE\t49.0\t377075025\t-1.581\t50.835\n",
      "\t\tRC\t0.0\t359494\t-0.189\t0.140\n",
      "\t\ttRNA\t1.0\t91111\t4.820\t-3.358\n",
      "\t\tDNA?\t1.0\t422285\t2.607\t-1.888\n",
      "\t\tpseudo\t0.0\t2085537\t-0.857\t0.811\n",
      "\t\tDNA\t25.0\t98947449\t-0.621\t4.359\n",
      "\t\tExon\t14.0\t37015031\t-0.039\t0.636\n",
      "\t\tIntron\t310.0\t654126650\t0.286\t-9.643\n",
      "\t\tIntergenic\t260.0\t742668051\t-0.151\t3.604\n",
      "\t\tPromoter\t279.0\t35774823\t4.327\t-607.960\n",
      "\t\t5UTR\t7.0\t2592085\t2.797\t-9.361\n",
      "\t\tsnoRNA\t0.0\t357\t-0.000\t0.000\n",
      "\t\tLTR?\t0.0\t1137225\t-0.528\t0.442\n",
      "\t\tscRNA\t0.0\t121379\t-0.067\t0.047\n",
      "\t\tCpG-Island\t17.0\t8917387\t2.294\t-15.703\n",
      "\t\tLow_complexity\t2.0\t5394919\t-0.068\t0.430\n",
      "\t\tLTR\t68.0\t257625099\t-0.558\t8.265\n",
      "\t\tSimple_repeat\t8.0\t33811580\t-0.716\t2.384\n",
      "\t\tsnRNA\t0.0\t311793\t-0.165\t0.121\n",
      "\t\tUnknown\t1.0\t713433\t1.851\t-1.418\n",
      "\t\tSINE?\t0.0\t2674\t-0.001\t0.001\n",
      "\t\tSatellite\t0.0\t74135823\t-4.932\t29.173\n",
      "\t\trRNA\t0.0\t199378\t-0.108\t0.077\n",
      "\tCounting Tags in Peaks from each directory...\n",
      "\tOrganism: human\n",
      "\tLoading Gene Informaiton...\n",
      "\tOutputing Annotation File...\n",
      "\tDone annotating peaks file\n",
      "\n",
      "\n",
      "\tPeak file = Peaks/For_homer/hs_HuhWT_IFNy_IRF1_allPeaksSet_nR_topScore_10_final.tsv\n",
      "\tGenome = hg38\n",
      "\tOrganism = human\n",
      "\tPeak/BED file conversion summary:\n",
      "\t\tBED/Header formatted lines: 6217\n",
      "\t\tpeakfile formatted lines: 0\n",
      "\t\tDuplicated Peak IDs: 0\n",
      "\n",
      "\tPeak File Statistics:\n",
      "\t\tTotal Peaks: 6217\n",
      "\t\tRedundant Peak IDs: 0\n",
      "\t\tPeaks lacking information: 0 (need at least 5 columns per peak)\n",
      "\t\tPeaks with misformatted coordinates: 0 (should be integer)\n",
      "\t\tPeaks with misformatted strand: 0 (should be either +/- or 0/1)\n",
      "\n",
      "\tPeak file looks good!\n",
      "\n",
      "\tReading Positions...\n",
      "\t-----------------------\n",
      "\tFinding Closest TSS...\n",
      "\tAnnotating:.......................\n",
      "\t\tAnnotation\tNumber of peaks\tTotal size (bp)\tLog2 Ratio (obs/exp)\tLogP enrichment (+values depleted)\n",
      "\t\t3UTR\t62.0\t26786192\t0.174\t-1.677\n",
      "\t\tmiRNA\t1.0\t97618\t2.319\t-1.706\n",
      "\t\tncRNA\t18.0\t6998912\t0.326\t-1.612\n",
      "\t\tTTS\t74.0\t32227484\t0.162\t-1.712\n",
      "\t\tpseudo\t4.0\t2085537\t-0.098\t0.555\n",
      "\t\tExon\t79.0\t37015031\t0.056\t-0.972\n",
      "\t\tIntron\t2937.0\t1253662019\t0.191\t-46.495\n",
      "\t\tIntergenic\t2546.0\t1631972721\t-0.396\t212.086\n",
      "\t\tPromoter\t475.0\t35774823\t2.694\t-502.517\n",
      "\t\t5UTR\t21.0\t2592085\t1.981\t-15.346\n",
      "\t\tsnoRNA\t0.0\t357\t-0.001\t0.001\n",
      "\t\tscRNA\t0.0\t97\t-0.000\t0.000\n",
      "\t\trRNA\t0.0\t25562\t-0.074\t0.052\n",
      "\tNOTE: If this part takes more than 2 minutes, there is a good chance\n",
      "\t\tyour machine ran out of memory: consider hitting ctrl+C and rerunning\n",
      "\t\tthe command with \"-noann\"\n",
      "\tTo capture annotation stats in a file, use \"-annStats <filename>\" next time\n",
      "\tAnnotating:.......................\n",
      "\t\tAnnotation\tNumber of peaks\tTotal size (bp)\tLog2 Ratio (obs/exp)\tLogP enrichment (+values depleted)\n",
      "\t\t3UTR\t62.0\t26786192\t0.174\t-1.683\n",
      "\t\tRetroposon\t0.0\t4044155\t-3.218\t8.301\n",
      "\t\tRC?\t0.0\t59509\t-0.166\t0.122\n",
      "\t\tRNA\t0.0\t107756\t-0.288\t0.221\n",
      "\t\tmiRNA\t1.0\t97618\t2.320\t-1.707\n",
      "\t\tncRNA\t18.0\t6998912\t0.326\t-1.615\n",
      "\t\tTTS\t74.0\t32227484\t0.163\t-1.718\n",
      "\t\tLINE\t956.0\t626703751\t-0.427\t60.246\n",
      "\t\tsrpRNA\t0.0\t261424\t-0.619\t0.536\n",
      "\t\tSINE\t296.0\t377075025\t-1.386\t216.822\n",
      "\t\tRC\t0.0\t359494\t-0.797\t0.737\n",
      "\t\ttRNA\t0.0\t91111\t-0.247\t0.187\n",
      "\t\tDNA?\t2.0\t422285\t1.207\t-1.536\n",
      "\t\tpseudo\t4.0\t2085537\t-0.097\t0.554\n",
      "\t\tDNA\t229.0\t98947449\t0.174\t-3.322\n",
      "\t\tExon\t79.0\t37015031\t0.057\t-0.976\n",
      "\t\tIntron\t1885.0\t654126650\t0.490\t-132.513\n",
      "\t\tIntergenic\t1440.0\t742668051\t-0.081\t4.963\n",
      "\t\tPromoter\t475.0\t35774823\t2.694\t-502.729\n",
      "\t\t5UTR\t21.0\t2592085\t1.982\t-15.354\n",
      "\t\tsnoRNA\t0.0\t357\t-0.001\t0.001\n",
      "\t\tLTR?\t2.0\t1137225\t-0.222\t0.532\n",
      "\t\tscRNA\t0.0\t121379\t-0.321\t0.249\n",
      "\t\tCpG-Island\t55.0\t8917387\t1.588\t-26.480\n",
      "\t\tLow_complexity\t46.0\t5394919\t2.055\t-33.269\n",
      "\t\tLTR\t468.0\t257625099\t-0.175\t5.875\n",
      "\t\tSimple_repeat\t100.0\t33811580\t0.528\t-8.128\n",
      "\t\tsnRNA\t0.0\t311793\t-0.713\t0.640\n",
      "\t\tUnknown\t4.0\t713433\t1.451\t-2.795\n",
      "\t\tSINE?\t0.0\t2674\t-0.008\t0.005\n",
      "\t\tSatellite\t0.0\t74135823\t-7.294\t153.963\n",
      "\t\trRNA\t0.0\t199378\t-0.495\t0.409\n",
      "\tCounting Tags in Peaks from each directory...\n",
      "\tOrganism: human\n",
      "\tLoading Gene Informaiton...\n",
      "\tOutputing Annotation File...\n",
      "\tDone annotating peaks file\n",
      "\n",
      "\n",
      "\tPeak file = Peaks/For_homer/hs_HuhWT_IFNy_IRF9_allPeaksSet_nR_topScore_5_final.tsv\n",
      "\tGenome = hg38\n",
      "\tOrganism = human\n",
      "\tPeak/BED file conversion summary:\n",
      "\t\tBED/Header formatted lines: 358\n",
      "\t\tpeakfile formatted lines: 0\n",
      "\t\tDuplicated Peak IDs: 0\n",
      "\n",
      "\tPeak File Statistics:\n",
      "\t\tTotal Peaks: 358\n",
      "\t\tRedundant Peak IDs: 0\n",
      "\t\tPeaks lacking information: 0 (need at least 5 columns per peak)\n",
      "\t\tPeaks with misformatted coordinates: 0 (should be integer)\n",
      "\t\tPeaks with misformatted strand: 0 (should be either +/- or 0/1)\n",
      "\n",
      "\tPeak file looks good!\n",
      "\n",
      "\tReading Positions...\n",
      "\t-----------------------\n",
      "\tFinding Closest TSS...\n",
      "\tAnnotating:......................\n",
      "\t\tAnnotation\tNumber of peaks\tTotal size (bp)\tLog2 Ratio (obs/exp)\tLogP enrichment (+values depleted)\n",
      "\t\t3UTR\t6.0\t25731656\t0.904\t-2.252\n",
      "\t\tmiRNA\t0.0\t95811\t-0.017\t0.012\n",
      "\t\tncRNA\t0.0\t6809716\t-0.888\t0.849\n",
      "\t\tTTS\t1.0\t30962023\t-1.948\t2.290\n",
      "\t\tpseudo\t0.0\t2020586\t-0.324\t0.252\n",
      "\t\tExon\t5.0\t35614449\t0.172\t-0.784\n",
      "\t\tIntron\t105.0\t1204364871\t-0.515\t14.377\n",
      "\t\tIntergenic\t102.0\t1530765139\t-0.903\t47.749\n",
      "\t\tPromoter\t136.0\t34327377\t4.991\t-370.174\n",
      "\t\t5UTR\t3.0\t2477448\t3.281\t-5.554\n",
      "\t\tsnoRNA\t0.0\t344\t-0.000\t0.000\n",
      "\t\tscRNA\t0.0\t97\t-0.000\t0.000\n",
      "\t\trRNA\t0.0\t25562\t-0.005\t0.003\n",
      "\tNOTE: If this part takes more than 2 minutes, there is a good chance\n",
      "\t\tyour machine ran out of memory: consider hitting ctrl+C and rerunning\n",
      "\t\tthe command with \"-noann\"\n",
      "\tTo capture annotation stats in a file, use \"-annStats <filename>\" next time\n",
      "\tAnnotating:......................\n",
      "\t\tAnnotation\tNumber of peaks\tTotal size (bp)\tLog2 Ratio (obs/exp)\tLogP enrichment (+values depleted)\n",
      "\t\t3UTR\t6.0\t25731656\t0.905\t-2.254\n",
      "\t\tRetroposon\t0.0\t3835289\t-0.564\t0.478\n",
      "\t\tRC?\t0.0\t55903\t-0.010\t0.007\n",
      "\t\tRNA\t0.0\t103289\t-0.018\t0.013\n",
      "\t\tmiRNA\t0.0\t95811\t-0.017\t0.012\n",
      "\t\tncRNA\t0.0\t6809716\t-0.888\t0.849\n",
      "\t\tTTS\t1.0\t30962023\t-1.947\t2.288\n",
      "\t\tLINE\t22.0\t575808742\t-1.705\t29.938\n",
      "\t\tsrpRNA\t0.0\t251967\t-0.045\t0.031\n",
      "\t\tSINE\t12.0\t361433325\t-1.907\t20.713\n",
      "\t\tRC\t0.0\t346805\t-0.061\t0.043\n",
      "\t\ttRNA\t0.0\t87220\t-0.016\t0.011\n",
      "\t\tDNA?\t0.0\t399456\t-0.070\t0.050\n",
      "\t\tpseudo\t0.0\t2020586\t-0.324\t0.252\n",
      "\t\tDNA\t8.0\t94128521\t-0.551\t1.774\n",
      "\t\tExon\t5.0\t35614449\t0.173\t-0.785\n",
      "\t\tIntron\t70.0\t630728365\t-0.166\t1.885\n",
      "\t\tIntergenic\t64.0\t710921994\t-0.468\t6.729\n",
      "\t\tPromoter\t136.0\t34327377\t4.992\t-370.247\n",
      "\t\t5UTR\t3.0\t2477448\t3.282\t-5.556\n",
      "\t\tsnoRNA\t0.0\t344\t-0.000\t0.000\n",
      "\t\tLTR?\t0.0\t1084206\t-0.183\t0.135\n",
      "\t\tscRNA\t0.0\t115607\t-0.021\t0.014\n",
      "\t\tCpG-Island\t4.0\t8557238\t1.908\t-3.769\n",
      "\t\tLow_complexity\t0.0\t5147896\t-0.716\t0.642\n",
      "\t\tLTR\t25.0\t240939942\t-0.263\t1.625\n",
      "\t\tSimple_repeat\t2.0\t32030953\t-0.996\t1.435\n",
      "\t\tsnRNA\t0.0\t296499\t-0.052\t0.037\n",
      "\t\tUnknown\t0.0\t684480\t-0.118\t0.085\n",
      "\t\tSINE?\t0.0\t2587\t-0.000\t0.000\n",
      "\t\tSatellite\t0.0\t69572767\t-3.304\t8.771\n",
      "\t\trRNA\t0.0\t191312\t-0.034\t0.024\n",
      "\tCounting Tags in Peaks from each directory...\n",
      "\tOrganism: human\n",
      "\tLoading Gene Informaiton...\n",
      "\tOutputing Annotation File...\n",
      "\tDone annotating peaks file\n",
      "\n",
      "\n",
      "\tPeak file = Peaks/For_homer/hs_HuhWT_IFNa_pSTAT1_allPeaksSet_nR_topScore_20_final.tsv\n",
      "\tGenome = hg38\n",
      "\tOrganism = human\n",
      "\tPeak/BED file conversion summary:\n",
      "\t\tBED/Header formatted lines: 3874\n",
      "\t\tpeakfile formatted lines: 0\n",
      "\t\tDuplicated Peak IDs: 0\n",
      "\n",
      "\tPeak File Statistics:\n",
      "\t\tTotal Peaks: 3874\n",
      "\t\tRedundant Peak IDs: 0\n",
      "\t\tPeaks lacking information: 0 (need at least 5 columns per peak)\n",
      "\t\tPeaks with misformatted coordinates: 0 (should be integer)\n",
      "\t\tPeaks with misformatted strand: 0 (should be either +/- or 0/1)\n",
      "\n",
      "\tPeak file looks good!\n",
      "\n",
      "\tReading Positions...\n",
      "\t-----------------------\n",
      "\tFinding Closest TSS...\n",
      "\tAnnotating:.......................\n",
      "\t\tAnnotation\tNumber of peaks\tTotal size (bp)\tLog2 Ratio (obs/exp)\tLogP enrichment (+values depleted)\n",
      "\t\t3UTR\t35.0\t26786192\t0.031\t-0.751\n",
      "\t\tmiRNA\t0.0\t97618\t-0.170\t0.125\n",
      "\t\tncRNA\t17.0\t6998912\t0.925\t-4.557\n",
      "\t\tTTS\t59.0\t32227484\t0.518\t-5.283\n",
      "\t\tpseudo\t1.0\t2085537\t-1.415\t1.368\n",
      "\t\tExon\t51.0\t37015031\t0.108\t-1.155\n",
      "\t\tIntron\t1597.0\t1253662019\t-0.006\t0.854\n",
      "\t\tIntergenic\t1357.0\t1631972721\t-0.621\t281.777\n",
      "\t\tPromoter\t727.0\t35774823\t3.990\t-1398.045\n",
      "\t\t5UTR\t30.0\t2592085\t3.178\t-41.996\n",
      "\t\tsnoRNA\t0.0\t357\t-0.001\t0.000\n",
      "\t\tscRNA\t0.0\t97\t-0.000\t0.000\n",
      "\t\trRNA\t0.0\t25562\t-0.046\t0.033\n",
      "\tNOTE: If this part takes more than 2 minutes, there is a good chance\n",
      "\t\tyour machine ran out of memory: consider hitting ctrl+C and rerunning\n",
      "\t\tthe command with \"-noann\"\n",
      "\tTo capture annotation stats in a file, use \"-annStats <filename>\" next time\n",
      "\tAnnotating:.......................\n",
      "\t\tAnnotation\tNumber of peaks\tTotal size (bp)\tLog2 Ratio (obs/exp)\tLogP enrichment (+values depleted)\n",
      "\t\t3UTR\t35.0\t26786192\t0.032\t-0.753\n",
      "\t\tRetroposon\t0.0\t4044155\t-2.627\t5.173\n",
      "\t\tRC?\t0.0\t59509\t-0.106\t0.076\n",
      "\t\tRNA\t0.0\t107756\t-0.186\t0.138\n",
      "\t\tmiRNA\t0.0\t97618\t-0.170\t0.125\n",
      "\t\tncRNA\t17.0\t6998912\t0.926\t-4.562\n",
      "\t\tTTS\t59.0\t32227484\t0.518\t-5.293\n",
      "\t\tLINE\t306.0\t626703751\t-1.388\t241.813\n",
      "\t\tsrpRNA\t0.0\t261424\t-0.416\t0.334\n",
      "\t\tSINE\t145.0\t377075025\t-1.733\t182.090\n",
      "\t\tRC\t0.0\t359494\t-0.546\t0.460\n",
      "\t\ttRNA\t0.0\t91111\t-0.159\t0.116\n",
      "\t\tDNA?\t2.0\t422285\t1.890\t-2.278\n",
      "\t\tpseudo\t0.0\t2085537\t-1.875\t2.667\n",
      "\t\tDNA\t130.0\t98947449\t0.040\t-0.949\n",
      "\t\tExon\t51.0\t37015031\t0.108\t-1.159\n",
      "\t\tIntron\t1116.0\t654126650\t0.417\t-58.786\n",
      "\t\tIntergenic\t896.0\t742668051\t-0.083\t3.738\n",
      "\t\tPromoter\t727.0\t35774823\t3.991\t-1398.404\n",
      "\t\t5UTR\t30.0\t2592085\t3.179\t-42.010\n",
      "\t\tsnoRNA\t0.0\t357\t-0.001\t0.000\n",
      "\t\tLTR?\t0.0\t1137225\t-1.295\t1.454\n",
      "\t\tscRNA\t1.0\t121379\t2.688\t-1.940\n",
      "\t\tCpG-Island\t96.0\t8917387\t3.074\t-123.964\n",
      "\t\tLow_complexity\t4.0\t5394919\t-0.786\t1.701\n",
      "\t\tLTR\t239.0\t257625099\t-0.462\t17.259\n",
      "\t\tSimple_repeat\t16.0\t33811580\t-1.434\t13.285\n",
      "\t\tsnRNA\t1.0\t311793\t1.327\t-1.113\n",
      "\t\tUnknown\t2.0\t713433\t1.133\t-1.462\n",
      "\t\tSINE?\t0.0\t2674\t-0.005\t0.003\n",
      "\t\tSatellite\t0.0\t74135823\t-6.617\t95.939\n",
      "\t\trRNA\t1.0\t199378\t1.972\t-1.492\n",
      "\tCounting Tags in Peaks from each directory...\n",
      "\tOrganism: human\n",
      "\tLoading Gene Informaiton...\n",
      "\tOutputing Annotation File...\n",
      "\tDone annotating peaks file\n",
      "\n",
      "\n",
      "\tPeak file = Peaks/For_homer/hs_HuhWT_IFNa_pSTAT2_allPeaksSet_nR_topScore_15_final.tsv\n",
      "\tGenome = hg38\n",
      "\tOrganism = human\n",
      "\tPeak/BED file conversion summary:\n",
      "\t\tBED/Header formatted lines: 4218\n",
      "\t\tpeakfile formatted lines: 0\n",
      "\t\tDuplicated Peak IDs: 0\n",
      "\n",
      "\tPeak File Statistics:\n",
      "\t\tTotal Peaks: 4218\n",
      "\t\tRedundant Peak IDs: 0\n",
      "\t\tPeaks lacking information: 0 (need at least 5 columns per peak)\n",
      "\t\tPeaks with misformatted coordinates: 0 (should be integer)\n",
      "\t\tPeaks with misformatted strand: 0 (should be either +/- or 0/1)\n",
      "\n",
      "\tPeak file looks good!\n",
      "\n",
      "\tReading Positions...\n",
      "\t-----------------------\n",
      "\tFinding Closest TSS...\n",
      "\tAnnotating:.......................\n",
      "\t\tAnnotation\tNumber of peaks\tTotal size (bp)\tLog2 Ratio (obs/exp)\tLogP enrichment (+values depleted)\n",
      "\t\t3UTR\t38.0\t26786192\t0.027\t-0.742\n",
      "\t\tmiRNA\t0.0\t97618\t-0.184\t0.136\n",
      "\t\tncRNA\t18.0\t6998912\t0.885\t-4.490\n",
      "\t\tTTS\t72.0\t32227484\t0.682\t-9.140\n",
      "\t\tpseudo\t0.0\t2085537\t-1.966\t2.905\n",
      "\t\tExon\t44.0\t37015031\t-0.228\t1.821\n",
      "\t\tIntron\t1866.0\t1253662019\t0.096\t-9.280\n",
      "\t\tIntergenic\t1491.0\t1631972721\t-0.608\t296.159\n",
      "\t\tPromoter\t669.0\t35774823\t3.747\t-1171.008\n",
      "\t\t5UTR\t20.0\t2592085\t2.470\t-20.118\n",
      "\t\tsnoRNA\t0.0\t357\t-0.001\t0.000\n",
      "\t\tscRNA\t0.0\t97\t-0.000\t0.000\n",
      "\t\trRNA\t0.0\t25562\t-0.050\t0.036\n",
      "\tNOTE: If this part takes more than 2 minutes, there is a good chance\n",
      "\t\tyour machine ran out of memory: consider hitting ctrl+C and rerunning\n",
      "\t\tthe command with \"-noann\"\n",
      "\tTo capture annotation stats in a file, use \"-annStats <filename>\" next time\n",
      "\tAnnotating:.......................\n",
      "\t\tAnnotation\tNumber of peaks\tTotal size (bp)\tLog2 Ratio (obs/exp)\tLogP enrichment (+values depleted)\n",
      "\t\t3UTR\t38.0\t26786192\t0.028\t-0.745\n",
      "\t\tRetroposon\t0.0\t4044155\t-2.730\t5.632\n",
      "\t\tRC?\t0.0\t59509\t-0.115\t0.083\n",
      "\t\tRNA\t0.0\t107756\t-0.202\t0.150\n",
      "\t\tmiRNA\t0.0\t97618\t-0.184\t0.136\n",
      "\t\tncRNA\t18.0\t6998912\t0.886\t-4.495\n",
      "\t\tTTS\t72.0\t32227484\t0.683\t-9.155\n",
      "\t\tLINE\t337.0\t626703751\t-1.372\t258.798\n",
      "\t\tsrpRNA\t0.0\t261424\t-0.448\t0.364\n",
      "\t\tSINE\t187.0\t377075025\t-1.489\t162.933\n",
      "\t\tRC\t0.0\t359494\t-0.585\t0.500\n",
      "\t\ttRNA\t0.0\t91111\t-0.172\t0.127\n",
      "\t\tDNA?\t3.0\t422285\t2.352\t-3.821\n",
      "\t\tpseudo\t0.0\t2085537\t-1.965\t2.903\n",
      "\t\tDNA\t126.0\t98947449\t-0.128\t1.796\n",
      "\t\tExon\t44.0\t37015031\t-0.227\t1.816\n",
      "\t\tIntron\t1342.0\t654126650\t0.560\t-122.080\n",
      "\t\tIntergenic\t1000.0\t742668051\t-0.048\t2.137\n",
      "\t\tPromoter\t669.0\t35774823\t3.748\t-1171.334\n",
      "\t\t5UTR\t20.0\t2592085\t2.471\t-20.127\n",
      "\t\tsnoRNA\t0.0\t357\t-0.001\t0.000\n",
      "\t\tLTR?\t0.0\t1137225\t-1.369\t1.583\n",
      "\t\tscRNA\t2.0\t121379\t3.566\t-4.362\n",
      "\t\tCpG-Island\t80.0\t8917387\t2.688\t-84.974\n",
      "\t\tLow_complexity\t5.0\t5394919\t-0.587\t1.426\n",
      "\t\tLTR\t252.0\t257625099\t-0.509\t21.659\n",
      "\t\tSimple_repeat\t19.0\t33811580\t-1.308\t12.821\n",
      "\t\tsnRNA\t0.0\t311793\t-0.520\t0.434\n",
      "\t\tUnknown\t3.0\t713433\t1.595\t-2.539\n",
      "\t\tSINE?\t0.0\t2674\t-0.005\t0.004\n",
      "\t\tSatellite\t0.0\t74135823\t-6.738\t104.458\n",
      "\t\trRNA\t1.0\t199378\t1.850\t-1.418\n",
      "\tCounting Tags in Peaks from each directory...\n",
      "\tOrganism: human\n",
      "\tLoading Gene Informaiton...\n",
      "\tOutputing Annotation File...\n",
      "\tDone annotating peaks file\n",
      "\n",
      "\n",
      "\tPeak file = Peaks/For_homer/hs_HuhWT_IFNy_pSTAT1_allPeaksSet_nR_topScore_20_final.tsv\n",
      "\tGenome = hg38\n",
      "\tOrganism = human\n",
      "\tPeak/BED file conversion summary:\n",
      "\t\tBED/Header formatted lines: 2796\n",
      "\t\tpeakfile formatted lines: 0\n",
      "\t\tDuplicated Peak IDs: 0\n",
      "\n",
      "\tPeak File Statistics:\n",
      "\t\tTotal Peaks: 2796\n",
      "\t\tRedundant Peak IDs: 0\n",
      "\t\tPeaks lacking information: 0 (need at least 5 columns per peak)\n",
      "\t\tPeaks with misformatted coordinates: 0 (should be integer)\n",
      "\t\tPeaks with misformatted strand: 0 (should be either +/- or 0/1)\n",
      "\n",
      "\tPeak file looks good!\n",
      "\n",
      "\tReading Positions...\n",
      "\t-----------------------\n",
      "\tFinding Closest TSS...\n",
      "\tAnnotating:.......................\n",
      "\t\tAnnotation\tNumber of peaks\tTotal size (bp)\tLog2 Ratio (obs/exp)\tLogP enrichment (+values depleted)\n",
      "\t\t3UTR\t23.0\t26786192\t-0.104\t0.880\n",
      "\t\tmiRNA\t0.0\t97618\t-0.124\t0.090\n",
      "\t\tncRNA\t15.0\t6998912\t1.215\t-5.893\n",
      "\t\tTTS\t43.0\t32227484\t0.532\t-4.371\n",
      "\t\tpseudo\t1.0\t2085537\t-0.945\t0.852\n",
      "\t\tExon\t42.0\t37015031\t0.298\t-2.245\n",
      "\t\tIntron\t1079.0\t1253662019\t-0.101\t6.577\n",
      "\t\tIntergenic\t1046.0\t1631972721\t-0.526\t156.111\n",
      "\t\tPromoter\t521.0\t35774823\t3.980\t-999.035\n",
      "\t\t5UTR\t26.0\t2592085\t3.442\t-40.977\n",
      "\t\tsnoRNA\t0.0\t357\t-0.000\t0.000\n",
      "\t\tscRNA\t0.0\t97\t-0.000\t0.000\n",
      "\t\trRNA\t0.0\t25562\t-0.034\t0.024\n",
      "\tNOTE: If this part takes more than 2 minutes, there is a good chance\n",
      "\t\tyour machine ran out of memory: consider hitting ctrl+C and rerunning\n",
      "\t\tthe command with \"-noann\"\n",
      "\tTo capture annotation stats in a file, use \"-annStats <filename>\" next time\n",
      "\tAnnotating:.......................\n",
      "\t\tAnnotation\tNumber of peaks\tTotal size (bp)\tLog2 Ratio (obs/exp)\tLogP enrichment (+values depleted)\n",
      "\t\t3UTR\t23.0\t26786192\t-0.104\t0.878\n",
      "\t\tRetroposon\t0.0\t4044155\t-2.244\t3.733\n",
      "\t\tRC?\t0.0\t59509\t-0.077\t0.055\n",
      "\t\tRNA\t0.0\t107756\t-0.137\t0.099\n",
      "\t\tmiRNA\t0.0\t97618\t-0.124\t0.090\n",
      "\t\tncRNA\t15.0\t6998912\t1.216\t-5.897\n",
      "\t\tTTS\t43.0\t32227484\t0.532\t-4.379\n",
      "\t\tLINE\t183.0\t626703751\t-1.660\t221.094\n",
      "\t\tsrpRNA\t0.0\t261424\t-0.312\t0.241\n",
      "\t\tSINE\t71.0\t377075025\t-2.293\t181.966\n",
      "\t\tRC\t1.0\t359494\t1.592\t-1.265\n",
      "\t\ttRNA\t0.0\t91111\t-0.116\t0.084\n",
      "\t\tDNA?\t0.0\t422285\t-0.475\t0.390\n",
      "\t\tpseudo\t0.0\t2085537\t-1.549\t1.925\n",
      "\t\tDNA\t104.0\t98947449\t0.188\t-2.317\n",
      "\t\tExon\t41.0\t37015031\t0.264\t-1.981\n",
      "\t\tIntron\t755.0\t654126650\t0.323\t-25.705\n",
      "\t\tIntergenic\t688.0\t742668051\t0.006\t-0.783\n",
      "\t\tPromoter\t521.0\t35774823\t3.981\t-999.292\n",
      "\t\t5UTR\t26.0\t2592085\t3.443\t-40.989\n",
      "\t\tsnoRNA\t0.0\t357\t-0.000\t0.000\n",
      "\t\tLTR?\t0.0\t1137225\t-1.035\t1.049\n",
      "\t\tscRNA\t0.0\t121379\t-0.153\t0.112\n",
      "\t\tCpG-Island\t78.0\t8917387\t3.245\t-109.533\n",
      "\t\tLow_complexity\t1.0\t5394919\t-2.315\t3.192\n",
      "\t\tLTR\t238.0\t257625099\t0.002\t-0.692\n",
      "\t\tSimple_repeat\t7.0\t33811580\t-2.156\t15.499\n",
      "\t\tsnRNA\t1.0\t311793\t1.798\t-1.386\n",
      "\t\tUnknown\t0.0\t713433\t-0.730\t0.658\n",
      "\t\tSINE?\t0.0\t2674\t-0.004\t0.002\n",
      "\t\tSatellite\t0.0\t74135823\t-6.152\t69.242\n",
      "\t\trRNA\t0.0\t199378\t-0.244\t0.184\n",
      "\tCounting Tags in Peaks from each directory...\n",
      "\tOrganism: human\n",
      "\tLoading Gene Informaiton...\n",
      "\tOutputing Annotation File...\n",
      "\tDone annotating peaks file\n",
      "\n"
     ]
    }
   ],
   "source": [
    "%%bash\n",
    "\n",
    "# Running Homer\n",
    "\n",
    "for i in Peaks/For_homer/*IRF* Peaks/For_homer/*pST* ; do perl ../../../../../../homer/bin/annotatePeaks.pl $i hg38 > ${i%%_final.tsv}_genes.tsv ; done "
   ]
  },
  {
   "cell_type": "code",
   "execution_count": 55,
   "metadata": {
    "tags": []
   },
   "outputs": [
    {
     "name": "stdout",
     "output_type": "stream",
     "text": [
      "Running Peaks/For_homer/hs_HuhWT_IFNa_IRF1_allPeaksSet_nR_topScore_10_genes.tsv\n",
      "dim before:  (3498, 19) \n",
      " dim after:  (426, 1)\n",
      "Running Peaks/For_homer/hs_HuhWT_IFNa_IRF9_allPeaksSet_nR_topScore_5_genes.tsv\n",
      "dim before:  (1178, 19) \n",
      " dim after:  (286, 1)\n",
      "Running Peaks/For_homer/hs_HuhWT_IFNa_pSTAT1_allPeaksSet_nR_topScore_20_genes.tsv\n",
      "dim before:  (3874, 19) \n",
      " dim after:  (757, 1)\n",
      "Running Peaks/For_homer/hs_HuhWT_IFNa_pSTAT2_allPeaksSet_nR_topScore_15_genes.tsv\n",
      "dim before:  (4218, 19) \n",
      " dim after:  (689, 1)\n",
      "Running Peaks/For_homer/hs_HuhWT_IFNy_IRF1_allPeaksSet_nR_topScore_10_genes.tsv\n",
      "dim before:  (6217, 19) \n",
      " dim after:  (496, 1)\n",
      "Running Peaks/For_homer/hs_HuhWT_IFNy_IRF9_allPeaksSet_nR_topScore_5_genes.tsv\n",
      "dim before:  (358, 19) \n",
      " dim after:  (139, 1)\n",
      "Running Peaks/For_homer/hs_HuhWT_IFNy_pSTAT1_allPeaksSet_nR_topScore_20_genes.tsv\n",
      "dim before:  (2796, 19) \n",
      " dim after:  (547, 1)\n"
     ]
    }
   ],
   "source": [
    "# iterate over files, extract file name, pass to pandas logic, and change the name! \n",
    "\n",
    "in_dir = 'Peaks/For_homer/'\n",
    "out_dir = 'Peaks/'\n",
    "\n",
    "for file in os.listdir(in_dir):\n",
    "    if fnmatch.fnmatch(file, '*genes.tsv'):\n",
    "        print('Running {}'.format(in_dir + file))\n",
    "        hmr = pd.read_csv(in_dir + file, sep='\\t')\n",
    "        hmr_g = hmr[hmr['Annotation'].str.contains(\"promoter|5' UTR\", regex=True)]\n",
    "        hmr_g = hmr_g[['Gene Name']]\n",
    "        hmr_g.to_csv(out_dir + str('Homr_') + file, index=False, header=None, sep='\\t')\n",
    "        print(\"dim before: \", hmr.shape ,\"\\n\", \"dim after: \", hmr_g.shape)    "
   ]
  },
  {
   "cell_type": "code",
   "execution_count": 59,
   "metadata": {},
   "outputs": [
    {
     "name": "stdout",
     "output_type": "stream",
     "text": [
      "All Files Renamed\n",
      "New Names are\n",
      "['Homr_homr_hmr_IFNa_IRF1_genes.tsv', 'Homr_homr_hmr_IFNa_IRF9_genes.tsv', 'Homr_homr_hmr_IFNa_pSTAT1_genes.tsv', 'Homr_homr_hmr_IFNa_pSTAT2_genes.tsv', 'Homr_IFNa_IRF1_genes.tsv', 'Homr_IFNa_IRF9_genes.tsv', 'Homr_IFNa_pSTAT1_genes.tsv', 'Homr_IFNa_pSTAT2_genes.tsv']\n"
     ]
    }
   ],
   "source": [
    "# Optional\n",
    "\n",
    "# Change the file names\n",
    "\n",
    "# From: https://pynative.com/python-rename-file/\n",
    "\n",
    "folder = 'Peaks/test1/'\n",
    "\n",
    "# iterate all files from a directory\n",
    "for file_name in os.listdir(folder):\n",
    "    if file.endswith('.tsv'):\n",
    "        # Construct old file name\n",
    "        source = folder + file_name\n",
    "\n",
    "        # Adding the count to the new file name and extension\n",
    "        destination = folder + \"Homr_\" +  file_name\n",
    "\n",
    "        # Renaming the file\n",
    "        os.rename(source, destination)\n",
    "    \n",
    "print('All Files Renamed')\n",
    "\n",
    "print('New Names are')\n",
    "\n",
    "# verify the result\n",
    "res = os.listdir(folder)\n",
    "print(res)"
   ]
  },
  {
   "cell_type": "markdown",
   "metadata": {
    "id": "h9_ikJ7c0wYs"
   },
   "source": [
    "# Prepare the motif files"
   ]
  },
  {
   "cell_type": "code",
   "execution_count": 26,
   "metadata": {
    "colab": {
     "base_uri": "https://localhost:8080/"
    },
    "id": "I2PXKzelyXLn",
    "outputId": "d769fa13-d7f1-4a18-c45a-19ce8be9311d"
   },
   "outputs": [
    {
     "name": "stdout",
     "output_type": "stream",
     "text": [
      "(220, 2)\n",
      "Index(['Gene', 'Motif'], dtype='object')\n"
     ]
    },
    {
     "data": {
      "text/html": [
       "<div>\n",
       "<style scoped>\n",
       "    .dataframe tbody tr th:only-of-type {\n",
       "        vertical-align: middle;\n",
       "    }\n",
       "\n",
       "    .dataframe tbody tr th {\n",
       "        vertical-align: top;\n",
       "    }\n",
       "\n",
       "    .dataframe thead th {\n",
       "        text-align: right;\n",
       "    }\n",
       "</style>\n",
       "<table border=\"1\" class=\"dataframe\">\n",
       "  <thead>\n",
       "    <tr style=\"text-align: right;\">\n",
       "      <th></th>\n",
       "      <th>Symbol</th>\n",
       "      <th>Motif</th>\n",
       "    </tr>\n",
       "  </thead>\n",
       "  <tbody>\n",
       "    <tr>\n",
       "      <th>0</th>\n",
       "      <td>APOL1</td>\n",
       "      <td>composite</td>\n",
       "    </tr>\n",
       "    <tr>\n",
       "      <th>1</th>\n",
       "      <td>ACOT7</td>\n",
       "      <td>ISRE</td>\n",
       "    </tr>\n",
       "    <tr>\n",
       "      <th>2</th>\n",
       "      <td>A2M</td>\n",
       "      <td>GAS</td>\n",
       "    </tr>\n",
       "  </tbody>\n",
       "</table>\n",
       "</div>"
      ],
      "text/plain": [
       "  Symbol      Motif\n",
       "0  APOL1  composite\n",
       "1  ACOT7       ISRE\n",
       "2    A2M        GAS"
      ]
     },
     "execution_count": 26,
     "metadata": {},
     "output_type": "execute_result"
    }
   ],
   "source": [
    "# Load the latest version of motif file\n",
    "\n",
    "dfm = pd.read_csv(\"motifs_IFNag_latest.tsv\", sep=\"\\t\")\n",
    "print(dfm.shape); print(dfm.columns)\n",
    "dfm.rename(columns={'Gene':'Symbol'}, inplace=True)\n",
    "dfm.head(3)"
   ]
  },
  {
   "cell_type": "code",
   "execution_count": 5,
   "metadata": {
    "colab": {
     "base_uri": "https://localhost:8080/",
     "height": 204
    },
    "id": "aLvIJ4f19lKy",
    "outputId": "b3eaaa6c-6664-4277-af58-fe435c2fe847"
   },
   "outputs": [
    {
     "data": {
      "text/html": [
       "<div>\n",
       "<style scoped>\n",
       "    .dataframe tbody tr th:only-of-type {\n",
       "        vertical-align: middle;\n",
       "    }\n",
       "\n",
       "    .dataframe tbody tr th {\n",
       "        vertical-align: top;\n",
       "    }\n",
       "\n",
       "    .dataframe thead th {\n",
       "        text-align: right;\n",
       "    }\n",
       "</style>\n",
       "<table border=\"1\" class=\"dataframe\">\n",
       "  <thead>\n",
       "    <tr style=\"text-align: right;\">\n",
       "      <th></th>\n",
       "      <th>Symbol</th>\n",
       "      <th>Motif</th>\n",
       "      <th>motfcol</th>\n",
       "    </tr>\n",
       "  </thead>\n",
       "  <tbody>\n",
       "    <tr>\n",
       "      <th>0</th>\n",
       "      <td>APOL1</td>\n",
       "      <td>composite</td>\n",
       "      <td>blue</td>\n",
       "    </tr>\n",
       "    <tr>\n",
       "      <th>1</th>\n",
       "      <td>ACOT7</td>\n",
       "      <td>ISRE</td>\n",
       "      <td>orange</td>\n",
       "    </tr>\n",
       "    <tr>\n",
       "      <th>2</th>\n",
       "      <td>A2M</td>\n",
       "      <td>GAS</td>\n",
       "      <td>green</td>\n",
       "    </tr>\n",
       "    <tr>\n",
       "      <th>3</th>\n",
       "      <td>APOL2</td>\n",
       "      <td>composite</td>\n",
       "      <td>blue</td>\n",
       "    </tr>\n",
       "    <tr>\n",
       "      <th>4</th>\n",
       "      <td>ACSL5</td>\n",
       "      <td>ISRE</td>\n",
       "      <td>orange</td>\n",
       "    </tr>\n",
       "  </tbody>\n",
       "</table>\n",
       "</div>"
      ],
      "text/plain": [
       "  Symbol      Motif motfcol\n",
       "0  APOL1  composite    blue\n",
       "1  ACOT7       ISRE  orange\n",
       "2    A2M        GAS   green\n",
       "3  APOL2  composite    blue\n",
       "4  ACSL5       ISRE  orange"
      ]
     },
     "execution_count": 5,
     "metadata": {},
     "output_type": "execute_result"
    }
   ],
   "source": [
    "# Optional\n",
    "\n",
    "# Giving colors to Motifs\n",
    "# Creating IF condition\n",
    "dfm.loc[dfm['Motif'] == \"composite\", \"motfcol\"] = \"blue\"\n",
    "dfm.loc[dfm['Motif'] == \"GAS\", \"motfcol\"] = \"green\"\n",
    "dfm.loc[dfm['Motif'] == \"ISRE\", \"motfcol\"] = \"orange\"\n",
    "\n",
    "dfm['Symbol'] = dfm['Symbol'].str.strip()\n",
    "dfm.head()"
   ]
  },
  {
   "cell_type": "markdown",
   "metadata": {
    "id": "xG9ISi-2HxNt"
   },
   "source": [
    "# Finding Mutual genes between the integrative list & motif genes"
   ]
  },
  {
   "cell_type": "code",
   "execution_count": 4,
   "metadata": {
    "collapsed": true,
    "jupyter": {
     "outputs_hidden": true
    },
    "tags": []
   },
   "outputs": [
    {
     "name": "stdout",
     "output_type": "stream",
     "text": [
      "['IFNa_genes.txt', 'IFNy_genes.txt']\n",
      "File name is:  IFNa_genes.txt\n",
      "File name is:  IFNy_genes.txt\n",
      "('IFNa_genes',            Symbol\n",
      "0             A2M\n",
      "1            AAAS\n",
      "2         AADACP1\n",
      "3            AASS\n",
      "4           ABCA9\n",
      "...           ...\n",
      "2088        ZNRF2\n",
      "2089       ZRANB2\n",
      "2090  ZSCAN16-AS1\n",
      "2091       ZSCAN2\n",
      "2092       ZWILCH\n",
      "\n",
      "[2093 rows x 1 columns])\n",
      "('IFNy_genes',       Symbol\n",
      "0        A2M\n",
      "1       AAAS\n",
      "2       AAMP\n",
      "3      ABCA9\n",
      "4      ABCB4\n",
      "...      ...\n",
      "1906   ZNRD1\n",
      "1907   ZNRF2\n",
      "1908  ZRANB2\n",
      "1909  ZSWIM6\n",
      "1910  ZWILCH\n",
      "\n",
      "[1911 rows x 1 columns])\n"
     ]
    }
   ],
   "source": [
    "# Read BETA files\n",
    "\n",
    "## (Recommended) 1st solution using Next function and dictionary and specific names \n",
    "\n",
    "path, dirs, files = next(os.walk('./BETA_files/'))\n",
    "print(files)\n",
    "\n",
    "### Create empty dictionary\n",
    "df_dict = {}\n",
    "\n",
    "for i, df in enumerate(files):\n",
    "    df_dict[files[i].split('.')[0]] = pd.read_csv('./BETA_files/'+files[i], sep='\\t', header=None, names=['Symbol'])\n",
    "    print(\"File name is: \", files[i])\n",
    "\n",
    "for item in df_dict.items():\n",
    "    print(item)"
   ]
  },
  {
   "cell_type": "code",
   "execution_count": 20,
   "metadata": {},
   "outputs": [
    {
     "name": "stdout",
     "output_type": "stream",
     "text": [
      "File name is:  IFNa_genes.txt The dimension is :  (2093, 1)\n",
      "File name is:  IFNy_genes.txt The dimension is :  (1911, 1)\n"
     ]
    }
   ],
   "source": [
    "# Optional\n",
    "# Read BETA files\n",
    "\n",
    "# 2nd solution using Next function & list\n",
    "# Ref: https://www.geeksforgeeks.org/read-multiple-csv-files-into-separate-dataframes-in-python/\n",
    "\n",
    "# Assign path\n",
    "path, dirs, files = next(os.walk(\"./BETA_files/\"))\n",
    "file_count = len(files)\n",
    "\n",
    "# create empty list\n",
    "dataframes_list = []\n",
    "\n",
    "# append dfs to the list\n",
    "for i in range(file_count):\n",
    "    temp_df = pd.read_csv(\"./BETA_files/\"+files[i], sep=\"\\t\", header=None, names=['Symbol'])\n",
    "    print(\"File name is: \", files[i], \"The dimension is : \", temp_df.shape)\n",
    "    dataframes_list.append(temp_df)\n",
    "\n",
    "# display dataframes or access the individual dataframes with list_of_dfs[0], list_of_dfs[1]\n",
    "#for df in dataframes_list:\n",
    "    #display(df)\n",
    "\n",
    "    "
   ]
  },
  {
   "cell_type": "code",
   "execution_count": 24,
   "metadata": {},
   "outputs": [
    {
     "name": "stdout",
     "output_type": "stream",
     "text": [
      "File name:  IFNa_genes.txt the Dimension is:  (2093, 1)\n",
      "File name:  IFNy_genes.txt the Dimension is:  (1911, 1)\n"
     ]
    }
   ],
   "source": [
    "# Optional\n",
    "# Read BETA files\n",
    "\n",
    "# 3rd solution using For loop & list\n",
    "\n",
    "path = os.getcwd()\n",
    "files = glob.glob(os.path.join(r'./BETA_files/', \"*.txt\" ))\n",
    "\n",
    "df_list= []\n",
    "for f in files:\n",
    "    temp_df = pd.read_csv(f, sep=\"\\t\", header=None, names=['Symbol'])\n",
    "    print('File name: ', f.split('/')[-1], 'the Dimension is: ', temp_df.shape)\n",
    "    df_list.append(temp_df)\n"
   ]
  },
  {
   "cell_type": "code",
   "execution_count": 5,
   "metadata": {
    "colab": {
     "base_uri": "https://localhost:8080/"
    },
    "id": "N1zrI_PbHwOA",
    "outputId": "768b0447-81bf-4b3a-c0a1-906911b2247f"
   },
   "outputs": [
    {
     "name": "stdout",
     "output_type": "stream",
     "text": [
      "(220, 2)\n",
      "Index(['Symbol', 'Motif'], dtype='object')\n"
     ]
    }
   ],
   "source": [
    "# load the motif file (prepared above)\n",
    "# dfm\n",
    "print(dfm.shape); print(dfm.columns)"
   ]
  },
  {
   "cell_type": "code",
   "execution_count": 7,
   "metadata": {},
   "outputs": [
    {
     "name": "stdout",
     "output_type": "stream",
     "text": [
      "<class 'pandas.core.frame.DataFrame'>\n",
      "<class 'pandas.core.frame.DataFrame'>\n",
      "<class 'str'>\n",
      "<class 'str'>\n"
     ]
    }
   ],
   "source": [
    "# Ref: https://realpython.com/iterate-through-dictionary-python/\n",
    "# The type of \"value\" is a dataframe\n",
    "\n",
    "for value in df_dict.values():\n",
    "    print(type(value))\n",
    "    \n",
    "# The type of \"key\" is string\n",
    "for key in df_dict.keys():\n",
    "    print(type(key))"
   ]
  },
  {
   "cell_type": "code",
   "execution_count": 28,
   "metadata": {},
   "outputs": [
    {
     "name": "stdout",
     "output_type": "stream",
     "text": [
      "(217, 2)\n",
      "(216, 2)\n"
     ]
    }
   ],
   "source": [
    "# Otional: when using list\n",
    "\n",
    "for i in df_list:\n",
    "    df_mrg = pd.merge(i, dfm, on='Symbol')\n",
    "    df_mrg.to_csv(i)\n",
    "    print(df_mrg.shape)\n",
    "    "
   ]
  },
  {
   "cell_type": "code",
   "execution_count": 9,
   "metadata": {},
   "outputs": [
    {
     "name": "stdout",
     "output_type": "stream",
     "text": [
      "The file is: IFNa_genes\n",
      "The dimention is: (217, 2) and the columns are : Index(['Symbol', 'Motif'], dtype='object')\n",
      "The file is: IFNy_genes\n",
      "The dimention is: (216, 2) and the columns are : Index(['Symbol', 'Motif'], dtype='object')\n"
     ]
    }
   ],
   "source": [
    "# Merging using dictionary\n",
    "\n",
    "for key, value in df_dict.items():\n",
    "    print('The file is: {}'.format(key))\n",
    "    df_mrg = pd.merge(value, dfm, on='Symbol')  # This is merging!\n",
    "    print('The dimention is: {} and the columns are : {}'.format(df_mrg.shape, df_mrg.columns))\n",
    "    df_mrg.to_csv('Mrgd_' + key + '.tsv', index=False, sep='\\t') # Save\n",
    "    "
   ]
  },
  {
   "cell_type": "code",
   "execution_count": null,
   "metadata": {
    "tags": []
   },
   "outputs": [],
   "source": [
    "# Genes are not in the motif list \n",
    "# # To get unique values see https://stackoverflow.com/questions/23460345/selecting-unique-rows-between-two-dataframes-in-pandas\n",
    "# # How to implement 'in' and 'not in' for a pandas DataFrame \n",
    "# https://stackoverflow.com/questions/19960077/how-to-filter-pandas-dataframe-using-in-and-not-in-like-in-sql\n",
    "\n",
    "for key, value in df_dict.items():\n",
    "    print('Genes that are not in motif list for {}'. format(key))\n",
    "    print(dfm[~dfm['Symbol'].isin(value['Symbol'])])\n",
    "    "
   ]
  },
  {
   "cell_type": "code",
   "execution_count": 34,
   "metadata": {},
   "outputs": [
    {
     "name": "stdout",
     "output_type": "stream",
     "text": [
      "Name: Mrgd_IFNa_genes, Size: (217, 2) \n",
      "\n",
      "Name: Mrgd_IFNy_genes, Size: (216, 2) \n",
      "\n"
     ]
    },
    {
     "data": {
      "text/plain": [
       "(214, 2)"
      ]
     },
     "execution_count": 34,
     "metadata": {},
     "output_type": "execute_result"
    }
   ],
   "source": [
    "# Load Mrgd Files\n",
    "\n",
    "NewAna_dict = {}\n",
    "\n",
    "path, dirs, files = next(os.walk('.'))\n",
    "\n",
    "for i, df in enumerate(files):\n",
    "    if fnmatch.fnmatch(files[i], 'Mrg*'):\n",
    "        temp_df = files[i].split('.')[0]\n",
    "        NewAna_dict[temp_df] = pd.read_csv(files[i], sep='\\t')\n",
    "        \n",
    "for key, value in NewAna_dict.items():\n",
    "    print('Name: {}, Size: {} \\n'.format(key, value.shape))\n",
    "    \n",
    "    \n",
    "ovlp_IFNay = pd.merge(NewAna_dict['Mrgd_IFNa_genes'], NewAna_dict['Mrgd_IFNy_genes'], how='inner', on='Symbol')\n",
    "\n",
    "ovlp_IFNay.rename(columns={\"Motif_x\" : \"Motif\"}, inplace=True)\n",
    "ovlp_IFNay = ovlp_IFNay[['Symbol', 'Motif']]\n",
    "ovlp_IFNay.shape"
   ]
  },
  {
   "cell_type": "markdown",
   "metadata": {
    "jupyter": {
     "source_hidden": true
    },
    "tags": []
   },
   "source": [
    "# Compare Old analysis with new one (This is NOT part of analysis!)"
   ]
  },
  {
   "cell_type": "code",
   "execution_count": 54,
   "metadata": {
    "jupyter": {
     "source_hidden": true
    },
    "tags": []
   },
   "outputs": [],
   "source": [
    "# Create txt files with one column\n",
    "\n",
    "folder = 'Old_New_analysis/'\n",
    "\n",
    "path, dirs, files = next(os.walk(folder))\n",
    "\n",
    "for i, df in enumerate(files):\n",
    "    if files[i].endswith('.tsv'):\n",
    "        df_temp = pd.read_csv(folder + files[i], sep='\\t')\n",
    "        df_temp['Symbol'].to_csv(folder + files[i].split('.')[0] + '.txt', index=False, header=None) \n",
    "        "
   ]
  },
  {
   "cell_type": "code",
   "execution_count": 7,
   "metadata": {
    "collapsed": true,
    "jupyter": {
     "outputs_hidden": true,
     "source_hidden": true
    },
    "tags": []
   },
   "outputs": [
    {
     "name": "stdout",
     "output_type": "stream",
     "text": [
      "Running Mrgd_IFNa_genes.txt\n",
      "Running Mrgd_IFNy_genes.txt\n",
      "Running Old_IFNa_geneList.txt\n",
      "Running Old_IFNy_geneList.txt\n",
      "Mrgd_IFNa_genes\n",
      "Mrgd_IFNy_genes\n",
      "Old_IFNa_geneList\n",
      "Old_IFNy_geneList\n",
      "('Mrgd_IFNa_genes',       Symbol\n",
      "0        A2M\n",
      "1      ACOT7\n",
      "2      ACSL5\n",
      "3       ACY3\n",
      "4       ADAR\n",
      "..       ...\n",
      "212    YPEL2\n",
      "213   ZC3H7B\n",
      "214  ZC3HAV1\n",
      "215  ZFYVE26\n",
      "216    ZNF24\n",
      "\n",
      "[217 rows x 1 columns])\n",
      "('Mrgd_IFNy_genes',       Symbol\n",
      "0        A2M\n",
      "1      ACOT7\n",
      "2      ACSL5\n",
      "3       ACY3\n",
      "4       ADAR\n",
      "..       ...\n",
      "211    YPEL2\n",
      "212   ZC3H7B\n",
      "213  ZC3HAV1\n",
      "214  ZFYVE26\n",
      "215    ZNF24\n",
      "\n",
      "[216 rows x 1 columns])\n",
      "('Old_IFNa_geneList',       Symbol\n",
      "0     EPSTI1\n",
      "1     ANKFY1\n",
      "2      BAZ2A\n",
      "3    ZC3HAV1\n",
      "4      ZNF24\n",
      "..       ...\n",
      "325   BTN3A2\n",
      "326   ZC3H7B\n",
      "327    PRRG4\n",
      "328    HADHB\n",
      "329    CCND1\n",
      "\n",
      "[330 rows x 1 columns])\n",
      "('Old_IFNy_geneList',        Symbol\n",
      "0      EPSTI1\n",
      "1    TMEM126B\n",
      "2     ZC3HAV1\n",
      "3       ZNF24\n",
      "4      RNF213\n",
      "..        ...\n",
      "303    SUCLG1\n",
      "304   CAPRIN1\n",
      "305     CCND1\n",
      "306      VTA1\n",
      "307      PSPH\n",
      "\n",
      "[308 rows x 1 columns])\n"
     ]
    }
   ],
   "source": [
    "# load old & new files \n",
    "\n",
    "folder = 'Old_New_analysis/'\n",
    "\n",
    "all_dict = {}\n",
    "path, dirs, files = next(os.walk(folder))\n",
    "\n",
    "for i, df in enumerate(files):\n",
    "    if files[i].endswith('.txt'):\n",
    "        temp_df = files[i].split('.')[0]\n",
    "        all_dict[temp_df] = pd.read_csv(folder + files[i], header=None, names=['Symbol'])\n",
    "        print('Running {}'. format(files[i]))\n",
    "\n",
    "for key, value in all_dict.items():\n",
    "    print(key)\n",
    "    value['Symbol'] = value['Symbol'].str.strip()\n",
    "\n",
    "for item in all_dict.items():\n",
    "    print(item)\n"
   ]
  },
  {
   "cell_type": "code",
   "execution_count": 8,
   "metadata": {
    "collapsed": true,
    "jupyter": {
     "outputs_hidden": true,
     "source_hidden": true
    },
    "tags": []
   },
   "outputs": [
    {
     "name": "stdout",
     "output_type": "stream",
     "text": [
      "The file is: Mrgd_IFNa_genes\n"
     ]
    },
    {
     "data": {
      "text/html": [
       "<div>\n",
       "<style scoped>\n",
       "    .dataframe tbody tr th:only-of-type {\n",
       "        vertical-align: middle;\n",
       "    }\n",
       "\n",
       "    .dataframe tbody tr th {\n",
       "        vertical-align: top;\n",
       "    }\n",
       "\n",
       "    .dataframe thead th {\n",
       "        text-align: right;\n",
       "    }\n",
       "</style>\n",
       "<table border=\"1\" class=\"dataframe\">\n",
       "  <thead>\n",
       "    <tr style=\"text-align: right;\">\n",
       "      <th></th>\n",
       "      <th>Symbol</th>\n",
       "    </tr>\n",
       "  </thead>\n",
       "  <tbody>\n",
       "  </tbody>\n",
       "</table>\n",
       "</div>"
      ],
      "text/plain": [
       "Empty DataFrame\n",
       "Columns: [Symbol]\n",
       "Index: []"
      ]
     },
     "metadata": {},
     "output_type": "display_data"
    },
    {
     "name": "stdout",
     "output_type": "stream",
     "text": [
      "The file is: Mrgd_IFNy_genes\n"
     ]
    },
    {
     "data": {
      "text/html": [
       "<div>\n",
       "<style scoped>\n",
       "    .dataframe tbody tr th:only-of-type {\n",
       "        vertical-align: middle;\n",
       "    }\n",
       "\n",
       "    .dataframe tbody tr th {\n",
       "        vertical-align: top;\n",
       "    }\n",
       "\n",
       "    .dataframe thead th {\n",
       "        text-align: right;\n",
       "    }\n",
       "</style>\n",
       "<table border=\"1\" class=\"dataframe\">\n",
       "  <thead>\n",
       "    <tr style=\"text-align: right;\">\n",
       "      <th></th>\n",
       "      <th>Symbol</th>\n",
       "    </tr>\n",
       "  </thead>\n",
       "  <tbody>\n",
       "    <tr>\n",
       "      <th>197</th>\n",
       "      <td>TLCD2</td>\n",
       "    </tr>\n",
       "    <tr>\n",
       "      <th>201</th>\n",
       "      <td>TP53BP1</td>\n",
       "    </tr>\n",
       "  </tbody>\n",
       "</table>\n",
       "</div>"
      ],
      "text/plain": [
       "      Symbol\n",
       "197    TLCD2\n",
       "201  TP53BP1"
      ]
     },
     "metadata": {},
     "output_type": "display_data"
    },
    {
     "name": "stdout",
     "output_type": "stream",
     "text": [
      "The file is: Old_IFNa_geneList\n"
     ]
    },
    {
     "data": {
      "text/html": [
       "<div>\n",
       "<style scoped>\n",
       "    .dataframe tbody tr th:only-of-type {\n",
       "        vertical-align: middle;\n",
       "    }\n",
       "\n",
       "    .dataframe tbody tr th {\n",
       "        vertical-align: top;\n",
       "    }\n",
       "\n",
       "    .dataframe thead th {\n",
       "        text-align: right;\n",
       "    }\n",
       "</style>\n",
       "<table border=\"1\" class=\"dataframe\">\n",
       "  <thead>\n",
       "    <tr style=\"text-align: right;\">\n",
       "      <th></th>\n",
       "      <th>Symbol</th>\n",
       "    </tr>\n",
       "  </thead>\n",
       "  <tbody>\n",
       "    <tr>\n",
       "      <th>1</th>\n",
       "      <td>ANKFY1</td>\n",
       "    </tr>\n",
       "    <tr>\n",
       "      <th>2</th>\n",
       "      <td>BAZ2A</td>\n",
       "    </tr>\n",
       "    <tr>\n",
       "      <th>16</th>\n",
       "      <td>SRSF4</td>\n",
       "    </tr>\n",
       "    <tr>\n",
       "      <th>19</th>\n",
       "      <td>CREM</td>\n",
       "    </tr>\n",
       "    <tr>\n",
       "      <th>21</th>\n",
       "      <td>NADK</td>\n",
       "    </tr>\n",
       "    <tr>\n",
       "      <th>...</th>\n",
       "      <td>...</td>\n",
       "    </tr>\n",
       "    <tr>\n",
       "      <th>313</th>\n",
       "      <td>NT5C3A</td>\n",
       "    </tr>\n",
       "    <tr>\n",
       "      <th>316</th>\n",
       "      <td>APH1A</td>\n",
       "    </tr>\n",
       "    <tr>\n",
       "      <th>317</th>\n",
       "      <td>FKBP11</td>\n",
       "    </tr>\n",
       "    <tr>\n",
       "      <th>321</th>\n",
       "      <td>RPS8</td>\n",
       "    </tr>\n",
       "    <tr>\n",
       "      <th>328</th>\n",
       "      <td>HADHB</td>\n",
       "    </tr>\n",
       "  </tbody>\n",
       "</table>\n",
       "<p>113 rows × 1 columns</p>\n",
       "</div>"
      ],
      "text/plain": [
       "     Symbol\n",
       "1    ANKFY1\n",
       "2     BAZ2A\n",
       "16    SRSF4\n",
       "19     CREM\n",
       "21     NADK\n",
       "..      ...\n",
       "313  NT5C3A\n",
       "316   APH1A\n",
       "317  FKBP11\n",
       "321    RPS8\n",
       "328   HADHB\n",
       "\n",
       "[113 rows x 1 columns]"
      ]
     },
     "metadata": {},
     "output_type": "display_data"
    },
    {
     "name": "stdout",
     "output_type": "stream",
     "text": [
      "The file is: Old_IFNy_geneList\n"
     ]
    },
    {
     "data": {
      "text/html": [
       "<div>\n",
       "<style scoped>\n",
       "    .dataframe tbody tr th:only-of-type {\n",
       "        vertical-align: middle;\n",
       "    }\n",
       "\n",
       "    .dataframe tbody tr th {\n",
       "        vertical-align: top;\n",
       "    }\n",
       "\n",
       "    .dataframe thead th {\n",
       "        text-align: right;\n",
       "    }\n",
       "</style>\n",
       "<table border=\"1\" class=\"dataframe\">\n",
       "  <thead>\n",
       "    <tr style=\"text-align: right;\">\n",
       "      <th></th>\n",
       "      <th>Symbol</th>\n",
       "    </tr>\n",
       "  </thead>\n",
       "  <tbody>\n",
       "    <tr>\n",
       "      <th>1</th>\n",
       "      <td>TMEM126B</td>\n",
       "    </tr>\n",
       "    <tr>\n",
       "      <th>6</th>\n",
       "      <td>IL18BP</td>\n",
       "    </tr>\n",
       "    <tr>\n",
       "      <th>7</th>\n",
       "      <td>SULT1C2</td>\n",
       "    </tr>\n",
       "    <tr>\n",
       "      <th>11</th>\n",
       "      <td>ATAD5</td>\n",
       "    </tr>\n",
       "    <tr>\n",
       "      <th>18</th>\n",
       "      <td>NEK8</td>\n",
       "    </tr>\n",
       "    <tr>\n",
       "      <th>...</th>\n",
       "      <td>...</td>\n",
       "    </tr>\n",
       "    <tr>\n",
       "      <th>302</th>\n",
       "      <td>PHB2</td>\n",
       "    </tr>\n",
       "    <tr>\n",
       "      <th>303</th>\n",
       "      <td>SUCLG1</td>\n",
       "    </tr>\n",
       "    <tr>\n",
       "      <th>304</th>\n",
       "      <td>CAPRIN1</td>\n",
       "    </tr>\n",
       "    <tr>\n",
       "      <th>306</th>\n",
       "      <td>VTA1</td>\n",
       "    </tr>\n",
       "    <tr>\n",
       "      <th>307</th>\n",
       "      <td>PSPH</td>\n",
       "    </tr>\n",
       "  </tbody>\n",
       "</table>\n",
       "<p>91 rows × 1 columns</p>\n",
       "</div>"
      ],
      "text/plain": [
       "       Symbol\n",
       "1    TMEM126B\n",
       "6      IL18BP\n",
       "7     SULT1C2\n",
       "11      ATAD5\n",
       "18       NEK8\n",
       "..        ...\n",
       "302      PHB2\n",
       "303    SUCLG1\n",
       "304   CAPRIN1\n",
       "306      VTA1\n",
       "307      PSPH\n",
       "\n",
       "[91 rows x 1 columns]"
      ]
     },
     "metadata": {},
     "output_type": "display_data"
    }
   ],
   "source": [
    "# Statistical report\n",
    "\n",
    "# Compare all to \"Mrgd_IFNa_genes\"\n",
    "\n",
    "folder = 'Old_New_analysis/Comparison/'\n",
    "\n",
    "for key, value in all_dict.items():\n",
    "    print('The file is: {}'.format(key))\n",
    "    tmp = value[~value['Symbol'].isin(all_dict['Mrgd_IFNa_genes']['Symbol'])]\n",
    "    display(tmp)\n",
    "    #tmp.to_csv(folder + key + str('_vs_Mrgd_IFNa_genes.tsv'), sep='\\t', index=False) # Save\n",
    "    "
   ]
  },
  {
   "cell_type": "code",
   "execution_count": 9,
   "metadata": {
    "collapsed": true,
    "jupyter": {
     "outputs_hidden": true,
     "source_hidden": true
    },
    "tags": []
   },
   "outputs": [
    {
     "name": "stdout",
     "output_type": "stream",
     "text": [
      "The file is: Mrgd_IFNa_genes\n"
     ]
    },
    {
     "data": {
      "text/html": [
       "<div>\n",
       "<style scoped>\n",
       "    .dataframe tbody tr th:only-of-type {\n",
       "        vertical-align: middle;\n",
       "    }\n",
       "\n",
       "    .dataframe tbody tr th {\n",
       "        vertical-align: top;\n",
       "    }\n",
       "\n",
       "    .dataframe thead th {\n",
       "        text-align: right;\n",
       "    }\n",
       "</style>\n",
       "<table border=\"1\" class=\"dataframe\">\n",
       "  <thead>\n",
       "    <tr style=\"text-align: right;\">\n",
       "      <th></th>\n",
       "      <th>Symbol</th>\n",
       "    </tr>\n",
       "  </thead>\n",
       "  <tbody>\n",
       "    <tr>\n",
       "      <th>58</th>\n",
       "      <td>EPSTI1</td>\n",
       "    </tr>\n",
       "    <tr>\n",
       "      <th>199</th>\n",
       "      <td>TMEM62</td>\n",
       "    </tr>\n",
       "    <tr>\n",
       "      <th>203</th>\n",
       "      <td>TRIM22</td>\n",
       "    </tr>\n",
       "  </tbody>\n",
       "</table>\n",
       "</div>"
      ],
      "text/plain": [
       "     Symbol\n",
       "58   EPSTI1\n",
       "199  TMEM62\n",
       "203  TRIM22"
      ]
     },
     "metadata": {},
     "output_type": "display_data"
    },
    {
     "name": "stdout",
     "output_type": "stream",
     "text": [
      "The file is: Mrgd_IFNy_genes\n"
     ]
    },
    {
     "data": {
      "text/html": [
       "<div>\n",
       "<style scoped>\n",
       "    .dataframe tbody tr th:only-of-type {\n",
       "        vertical-align: middle;\n",
       "    }\n",
       "\n",
       "    .dataframe tbody tr th {\n",
       "        vertical-align: top;\n",
       "    }\n",
       "\n",
       "    .dataframe thead th {\n",
       "        text-align: right;\n",
       "    }\n",
       "</style>\n",
       "<table border=\"1\" class=\"dataframe\">\n",
       "  <thead>\n",
       "    <tr style=\"text-align: right;\">\n",
       "      <th></th>\n",
       "      <th>Symbol</th>\n",
       "    </tr>\n",
       "  </thead>\n",
       "  <tbody>\n",
       "  </tbody>\n",
       "</table>\n",
       "</div>"
      ],
      "text/plain": [
       "Empty DataFrame\n",
       "Columns: [Symbol]\n",
       "Index: []"
      ]
     },
     "metadata": {},
     "output_type": "display_data"
    },
    {
     "name": "stdout",
     "output_type": "stream",
     "text": [
      "The file is: Old_IFNa_geneList\n"
     ]
    },
    {
     "data": {
      "text/html": [
       "<div>\n",
       "<style scoped>\n",
       "    .dataframe tbody tr th:only-of-type {\n",
       "        vertical-align: middle;\n",
       "    }\n",
       "\n",
       "    .dataframe tbody tr th {\n",
       "        vertical-align: top;\n",
       "    }\n",
       "\n",
       "    .dataframe thead th {\n",
       "        text-align: right;\n",
       "    }\n",
       "</style>\n",
       "<table border=\"1\" class=\"dataframe\">\n",
       "  <thead>\n",
       "    <tr style=\"text-align: right;\">\n",
       "      <th></th>\n",
       "      <th>Symbol</th>\n",
       "    </tr>\n",
       "  </thead>\n",
       "  <tbody>\n",
       "    <tr>\n",
       "      <th>0</th>\n",
       "      <td>EPSTI1</td>\n",
       "    </tr>\n",
       "    <tr>\n",
       "      <th>1</th>\n",
       "      <td>ANKFY1</td>\n",
       "    </tr>\n",
       "    <tr>\n",
       "      <th>2</th>\n",
       "      <td>BAZ2A</td>\n",
       "    </tr>\n",
       "    <tr>\n",
       "      <th>16</th>\n",
       "      <td>SRSF4</td>\n",
       "    </tr>\n",
       "    <tr>\n",
       "      <th>19</th>\n",
       "      <td>CREM</td>\n",
       "    </tr>\n",
       "    <tr>\n",
       "      <th>...</th>\n",
       "      <td>...</td>\n",
       "    </tr>\n",
       "    <tr>\n",
       "      <th>313</th>\n",
       "      <td>NT5C3A</td>\n",
       "    </tr>\n",
       "    <tr>\n",
       "      <th>316</th>\n",
       "      <td>APH1A</td>\n",
       "    </tr>\n",
       "    <tr>\n",
       "      <th>317</th>\n",
       "      <td>FKBP11</td>\n",
       "    </tr>\n",
       "    <tr>\n",
       "      <th>321</th>\n",
       "      <td>RPS8</td>\n",
       "    </tr>\n",
       "    <tr>\n",
       "      <th>328</th>\n",
       "      <td>HADHB</td>\n",
       "    </tr>\n",
       "  </tbody>\n",
       "</table>\n",
       "<p>114 rows × 1 columns</p>\n",
       "</div>"
      ],
      "text/plain": [
       "     Symbol\n",
       "0    EPSTI1\n",
       "1    ANKFY1\n",
       "2     BAZ2A\n",
       "16    SRSF4\n",
       "19     CREM\n",
       "..      ...\n",
       "313  NT5C3A\n",
       "316   APH1A\n",
       "317  FKBP11\n",
       "321    RPS8\n",
       "328   HADHB\n",
       "\n",
       "[114 rows x 1 columns]"
      ]
     },
     "metadata": {},
     "output_type": "display_data"
    },
    {
     "name": "stdout",
     "output_type": "stream",
     "text": [
      "The file is: Old_IFNy_geneList\n"
     ]
    },
    {
     "data": {
      "text/html": [
       "<div>\n",
       "<style scoped>\n",
       "    .dataframe tbody tr th:only-of-type {\n",
       "        vertical-align: middle;\n",
       "    }\n",
       "\n",
       "    .dataframe tbody tr th {\n",
       "        vertical-align: top;\n",
       "    }\n",
       "\n",
       "    .dataframe thead th {\n",
       "        text-align: right;\n",
       "    }\n",
       "</style>\n",
       "<table border=\"1\" class=\"dataframe\">\n",
       "  <thead>\n",
       "    <tr style=\"text-align: right;\">\n",
       "      <th></th>\n",
       "      <th>Symbol</th>\n",
       "    </tr>\n",
       "  </thead>\n",
       "  <tbody>\n",
       "    <tr>\n",
       "      <th>0</th>\n",
       "      <td>EPSTI1</td>\n",
       "    </tr>\n",
       "    <tr>\n",
       "      <th>1</th>\n",
       "      <td>TMEM126B</td>\n",
       "    </tr>\n",
       "    <tr>\n",
       "      <th>6</th>\n",
       "      <td>IL18BP</td>\n",
       "    </tr>\n",
       "    <tr>\n",
       "      <th>7</th>\n",
       "      <td>SULT1C2</td>\n",
       "    </tr>\n",
       "    <tr>\n",
       "      <th>11</th>\n",
       "      <td>ATAD5</td>\n",
       "    </tr>\n",
       "    <tr>\n",
       "      <th>...</th>\n",
       "      <td>...</td>\n",
       "    </tr>\n",
       "    <tr>\n",
       "      <th>302</th>\n",
       "      <td>PHB2</td>\n",
       "    </tr>\n",
       "    <tr>\n",
       "      <th>303</th>\n",
       "      <td>SUCLG1</td>\n",
       "    </tr>\n",
       "    <tr>\n",
       "      <th>304</th>\n",
       "      <td>CAPRIN1</td>\n",
       "    </tr>\n",
       "    <tr>\n",
       "      <th>306</th>\n",
       "      <td>VTA1</td>\n",
       "    </tr>\n",
       "    <tr>\n",
       "      <th>307</th>\n",
       "      <td>PSPH</td>\n",
       "    </tr>\n",
       "  </tbody>\n",
       "</table>\n",
       "<p>92 rows × 1 columns</p>\n",
       "</div>"
      ],
      "text/plain": [
       "       Symbol\n",
       "0      EPSTI1\n",
       "1    TMEM126B\n",
       "6      IL18BP\n",
       "7     SULT1C2\n",
       "11      ATAD5\n",
       "..        ...\n",
       "302      PHB2\n",
       "303    SUCLG1\n",
       "304   CAPRIN1\n",
       "306      VTA1\n",
       "307      PSPH\n",
       "\n",
       "[92 rows x 1 columns]"
      ]
     },
     "metadata": {},
     "output_type": "display_data"
    }
   ],
   "source": [
    "# Statistical report\n",
    "\n",
    "# Compare all to \"Mrgd_IFNy_genes\"\n",
    "\n",
    "folder = 'Old_New_analysis/Comparison/'\n",
    "\n",
    "for key, value in all_dict.items():\n",
    "    print('The file is: {}'.format(key))\n",
    "    tmp = value[~value['Symbol'].isin(all_dict['Mrgd_IFNy_genes']['Symbol'])]\n",
    "    display(tmp)\n",
    "    #tmp.to_csv(folder + key + str('_vs_Mrgd_IFNy_genes.tsv'), sep='\\t', index=False) # Save\n",
    "    "
   ]
  },
  {
   "cell_type": "code",
   "execution_count": 10,
   "metadata": {
    "jupyter": {
     "source_hidden": true
    },
    "tags": []
   },
   "outputs": [
    {
     "name": "stdout",
     "output_type": "stream",
     "text": [
      "Mrgd_IFNa_genes\n",
      "Mrgd_IFNy_genes\n",
      "Old_IFNa_geneList\n",
      "Old_IFNy_geneList\n",
      "*************************\n",
      "New analysis: The size of overlaping for IFNa:  (214, 1) The size of IFNa:  (217, 1) The size of IFNy:  (216, 1)\n",
      "*************************\n",
      "Old analysis: The size of overlaping for IFNa:  (220, 1) The size of IFNa:  (330, 1) The size of IFNy:  (308, 1)\n",
      "*************************\n",
      "The overlaps between Old vs New analysis:  (214, 1)\n"
     ]
    }
   ],
   "source": [
    "# Statistical report\n",
    "\n",
    "# Finding overlaps\n",
    "\n",
    "folder = 'Old_New_analysis/Comparison/'\n",
    "\n",
    "for key, value in all_dict.items():\n",
    "    print(key)\n",
    "\n",
    "print('*************************')\n",
    "\n",
    "ovrlp_a = pd.merge(all_dict['Mrgd_IFNa_genes'], all_dict['Mrgd_IFNy_genes'], how='inner', on='Symbol')\n",
    "print('New analysis: The size of overlaping for IFNa: ', ovrlp_a.shape, 'The size of IFNa: ', all_dict['Mrgd_IFNa_genes'].shape,\n",
    "     'The size of IFNy: ', all_dict['Mrgd_IFNy_genes'].shape)\n",
    "ovrlp_a.to_csv(folder + str('New_ovrlp_IFay.tsv'), sep='\\t', index = False)\n",
    "\n",
    "print('*************************')\n",
    "ovrlp_y = pd.merge(all_dict['Old_IFNa_geneList'], all_dict['Old_IFNy_geneList'], how='inner', on='Symbol')\n",
    "print('Old analysis: The size of overlaping for IFNa: ', ovrlp_y.shape, 'The size of IFNa: ', all_dict['Old_IFNa_geneList'].shape,\n",
    "     'The size of IFNy: ', all_dict['Old_IFNy_geneList'].shape)\n",
    "ovrlp_y.to_csv(folder + str('Old_ovrlp_IFay.tsv'), sep='\\t', index = False)\n",
    "\n",
    "print('*************************')\n",
    "ovrlp_ay = pd.merge(ovrlp_a, ovrlp_y, how='inner', on='Symbol')\n",
    "print('The overlaps between Old vs New analysis: ', ovrlp_ay.shape)"
   ]
  },
  {
   "cell_type": "markdown",
   "metadata": {
    "id": "2UPvFJqJ9rjh",
    "tags": []
   },
   "source": [
    "# Overlapping antibody-specific genes with the integrative list"
   ]
  },
  {
   "cell_type": "code",
   "execution_count": 35,
   "metadata": {
    "tags": []
   },
   "outputs": [
    {
     "name": "stdout",
     "output_type": "stream",
     "text": [
      "The file is:  Homr_hs_HuhWT_IFNa_IRF1_allPeaksSet_nR_topScore_10_genes.tsv The dimension is:  (426, 1)\n",
      "After merging the size is:  (123, 2)\n",
      "The file is:  Homr_hs_HuhWT_IFNa_IRF9_allPeaksSet_nR_topScore_5_genes.tsv The dimension is:  (286, 1)\n",
      "After merging the size is:  (90, 2)\n",
      "The file is:  Homr_hs_HuhWT_IFNa_pSTAT1_allPeaksSet_nR_topScore_20_genes.tsv The dimension is:  (757, 1)\n",
      "After merging the size is:  (182, 2)\n",
      "The file is:  Homr_hs_HuhWT_IFNa_pSTAT2_allPeaksSet_nR_topScore_15_genes.tsv The dimension is:  (689, 1)\n",
      "After merging the size is:  (143, 2)\n"
     ]
    }
   ],
   "source": [
    "## IFNa\n",
    "\n",
    "in_dir = 'Peaks/'\n",
    "out_dir = 'TFs_4_Networks/'\n",
    "\n",
    "for file in os.listdir(in_dir):\n",
    "    if fnmatch.fnmatch(file, '*IFNa*'):\n",
    "        tf_tmp = pd.read_csv(in_dir + file, sep='\\t', header=None, names=['Symbol'] )\n",
    "        print('The file is: ', file, 'The dimension is: ', tf_tmp.shape)\n",
    "        tf_tmp['Symbol'] = tf_tmp['Symbol'].str.strip()\n",
    "        tf_mrg = pd.merge(ovlp_IFNay, tf_tmp, on='Symbol')  # This is merging!\n",
    "        tf_mrg.drop_duplicates(subset=['Symbol'], inplace=True, ignore_index=True)\n",
    "        print('After merging the size is: ', tf_mrg.shape)\n",
    "        tf_mrg.to_csv(out_dir + str('Integ_') + file, sep='\\t', index=False) ########SAVE\n",
    "        "
   ]
  },
  {
   "cell_type": "code",
   "execution_count": 3,
   "metadata": {},
   "outputs": [
    {
     "name": "stdout",
     "output_type": "stream",
     "text": [
      "The file is:  Homr_hs_HuhWT_IFNy_IRF1_allPeaksSet_nR_topScore_10_genes.tsv The dimension is:  (496, 1)\n",
      "After merging the size is:  (126, 2)\n",
      "The file is:  Homr_hs_HuhWT_IFNy_IRF9_allPeaksSet_nR_topScore_5_genes.tsv The dimension is:  (139, 1)\n",
      "After merging the size is:  (43, 2)\n",
      "The file is:  Homr_hs_HuhWT_IFNy_pSTAT1_allPeaksSet_nR_topScore_20_genes.tsv The dimension is:  (547, 1)\n",
      "After merging the size is:  (137, 2)\n"
     ]
    }
   ],
   "source": [
    "## IFNy\n",
    "\n",
    "in_dir = 'Peaks/'\n",
    "out_dir = 'TFs_4_Networks/'\n",
    "\n",
    "for file in os.listdir(in_dir):\n",
    "    if fnmatch.fnmatch(file, '*IFNy*'):\n",
    "        tf_tmp = pd.read_csv(in_dir + file, sep='\\t', header=None, names=['Symbol'] )\n",
    "        print('The file is: ', file, 'The dimension is: ', tf_tmp.shape)\n",
    "        tf_tmp['Symbol'] = tf_tmp['Symbol'].str.strip()\n",
    "        tf_mrg = pd.merge(ovlp_IFNay, tf_tmp, on='Symbol') # This is merging!\n",
    "        tf_mrg.drop_duplicates(subset=['Symbol'], inplace=True, ignore_index=True)\n",
    "        print('After merging the size is: ', tf_mrg.shape)\n",
    "        tf_mrg.to_csv(out_dir + str('Integ_') + file, sep='\\t', index=False) #######SAVE"
   ]
  },
  {
   "cell_type": "markdown",
   "metadata": {
    "id": "rGN2G3Vd8dky"
   },
   "source": [
    "# Task: Networks "
   ]
  },
  {
   "cell_type": "markdown",
   "metadata": {
    "tags": []
   },
   "source": [
    "## IFNa"
   ]
  },
  {
   "cell_type": "code",
   "execution_count": 36,
   "metadata": {
    "tags": []
   },
   "outputs": [],
   "source": [
    "\n",
    "in_dir = 'TFs_4_Networks/'\n",
    "out_dir = 'TFs_4_Networks/Cytoscape_files/'"
   ]
  },
  {
   "cell_type": "code",
   "execution_count": 37,
   "metadata": {
    "tags": []
   },
   "outputs": [
    {
     "name": "stdout",
     "output_type": "stream",
     "text": [
      "File name is: Integ_Homr_hs_HuhWT_IFNa_IRF1_allPeaksSet_nR_topScore_10_genes.tsv\n",
      "File name is: Integ_Homr_hs_HuhWT_IFNa_IRF9_allPeaksSet_nR_topScore_5_genes.tsv\n",
      "File name is: Integ_Homr_hs_HuhWT_IFNa_pSTAT1_allPeaksSet_nR_topScore_20_genes.tsv\n",
      "File name is: Integ_Homr_hs_HuhWT_IFNa_pSTAT2_allPeaksSet_nR_topScore_15_genes.tsv\n",
      "Integ_Homr_hs_HuhWT_IFNa_IRF1_allPeaksSet_nR_topScore_10_genes\n",
      "       0     1\n",
      "0  ACOT7  ISRE\n",
      "(123, 2)\n",
      "Integ_Homr_hs_HuhWT_IFNa_IRF9_allPeaksSet_nR_topScore_5_genes\n",
      "       0     1\n",
      "0  ACOT7  ISRE\n",
      "(90, 2)\n",
      "Integ_Homr_hs_HuhWT_IFNa_pSTAT1_allPeaksSet_nR_topScore_20_genes\n",
      "       0     1\n",
      "0  ACOT7  ISRE\n",
      "(182, 2)\n",
      "Integ_Homr_hs_HuhWT_IFNa_pSTAT2_allPeaksSet_nR_topScore_15_genes\n",
      "       0     1\n",
      "0  ACOT7  ISRE\n",
      "(143, 2)\n"
     ]
    }
   ],
   "source": [
    "# Create a dictionary\n",
    "\n",
    "path, dirs, files = next(os.walk(in_dir))\n",
    "Integ_dict_a = {}\n",
    "\n",
    "for i, df in enumerate(files):\n",
    "    if fnmatch.fnmatch(files[i], '*IFNa*'):\n",
    "        Integ_dict_a[files[i].split('.')[0]] = pd.read_csv(in_dir + files[i], sep='\\t', header=None, skiprows=[0])\n",
    "        print('File name is: {}'.format(files[i]))\n",
    "        \n",
    "for key, value in Integ_dict_a.items():\n",
    "    print(key)\n",
    "    print(value.head(1))\n",
    "    print(value.shape)"
   ]
  },
  {
   "cell_type": "code",
   "execution_count": 38,
   "metadata": {
    "tags": []
   },
   "outputs": [
    {
     "name": "stdout",
     "output_type": "stream",
     "text": [
      "ir1_ov_a\n",
      "       0     1\n",
      "0  ACOT7  ISRE\n",
      "(123, 2)\n",
      "ir9_ov_a\n",
      "       0     1\n",
      "0  ACOT7  ISRE\n",
      "(90, 2)\n",
      "st1_ov_a\n",
      "       0     1\n",
      "0  ACOT7  ISRE\n",
      "(182, 2)\n",
      "st2_ov_a\n",
      "       0     1\n",
      "0  ACOT7  ISRE\n",
      "(143, 2)\n"
     ]
    }
   ],
   "source": [
    "# Change the name of dictionary key\n",
    "Integ_dict_a['ir1_ov_a'] = Integ_dict_a.pop('Integ_Homr_hs_HuhWT_IFNa_IRF1_allPeaksSet_nR_topScore_10_genes')\n",
    "Integ_dict_a['ir9_ov_a'] = Integ_dict_a.pop ('Integ_Homr_hs_HuhWT_IFNa_IRF9_allPeaksSet_nR_topScore_5_genes')\n",
    "Integ_dict_a['st1_ov_a'] = Integ_dict_a.pop('Integ_Homr_hs_HuhWT_IFNa_pSTAT1_allPeaksSet_nR_topScore_20_genes')\n",
    "Integ_dict_a['st2_ov_a'] = Integ_dict_a.pop('Integ_Homr_hs_HuhWT_IFNa_pSTAT2_allPeaksSet_nR_topScore_15_genes')\n",
    "\n",
    "for key, value in Integ_dict_a.items():\n",
    "    print(key)\n",
    "    print(value.head(1))\n",
    "    print(value.shape)\n"
   ]
  },
  {
   "cell_type": "markdown",
   "metadata": {},
   "source": [
    "# Create node files for each Ab"
   ]
  },
  {
   "cell_type": "code",
   "execution_count": 8,
   "metadata": {
    "id": "4avssl1DO3IJ"
   },
   "outputs": [],
   "source": [
    "#INa ST1\n",
    "\n",
    "columns = [\"#node1\", \"node2\"]\n",
    "dfs1 = pd.DataFrame(columns=columns)\n",
    "dfs1['node2'] = Integ_dict_a['st1_ov_a'][0]\n",
    "dfs1['#node1'] = \"STAT1\"\n",
    "\n",
    "# Saving Network File\n",
    "dfs1.to_csv(out_dir + \"IFNa_ST1_ov.tsv\", sep=\"\\t\", index=False)"
   ]
  },
  {
   "cell_type": "code",
   "execution_count": 9,
   "metadata": {
    "id": "dvfmqw-eO4FW"
   },
   "outputs": [],
   "source": [
    "# IFNa ST2\n",
    "\n",
    "columns = [\"#node1\", \"node2\"]\n",
    "dfs2 = pd.DataFrame(columns=columns)\n",
    "dfs2['node2'] = Integ_dict_a['st2_ov_a'][0]\n",
    "dfs2[\"#node1\"] = \"STAT2\"\n",
    "\n",
    "dfs2.to_csv(out_dir + \"IFNa_ST2_ov.tsv\", sep=\"\\t\", index=False)"
   ]
  },
  {
   "cell_type": "code",
   "execution_count": 10,
   "metadata": {
    "id": "VxAerxdUO4Ab"
   },
   "outputs": [],
   "source": [
    "# IFNa IRF1\n",
    "\n",
    "columns = [\"#node1\", \"node2\"]\n",
    "dfir1 = pd.DataFrame(columns = columns)\n",
    "dfir1['node2'] = Integ_dict_a['ir1_ov_a'][0]\n",
    "dfir1['#node1'] = \"IRF1\"\n",
    "\n",
    "dfir1.to_csv(out_dir + \"IFNa_IRF1_ov.tsv\", sep=\"\\t\", index=False)"
   ]
  },
  {
   "cell_type": "code",
   "execution_count": 11,
   "metadata": {
    "id": "6_lIhHNzeEAM"
   },
   "outputs": [],
   "source": [
    "# IFNa IRF9\n",
    "\n",
    "columns = [\"#node1\", \"node2\"]\n",
    "dfir9 = pd.DataFrame(columns=columns)\n",
    "dfir9[\"node2\"] = Integ_dict_a['ir9_ov_a'][0]\n",
    "dfir9[\"#node1\"] = \"IRF9\"\n",
    "\n",
    "dfir9.to_csv(out_dir + \"IFNa_IRF9_ov.tsv\", index= False, sep=\"\\t\")"
   ]
  },
  {
   "cell_type": "code",
   "execution_count": 12,
   "metadata": {},
   "outputs": [
    {
     "name": "stdout",
     "output_type": "stream",
     "text": [
      "(182, 2)\n",
      "(143, 2)\n",
      "(123, 2)\n",
      "(90, 2)\n"
     ]
    }
   ],
   "source": [
    "# To confrim\n",
    "x = [dfs1, dfs2, dfir1, dfir9]\n",
    "for i in x:\n",
    "    print(i.shape)"
   ]
  },
  {
   "cell_type": "markdown",
   "metadata": {},
   "source": [
    "## Different combinations of TFS for IFNa"
   ]
  },
  {
   "cell_type": "code",
   "execution_count": 39,
   "metadata": {},
   "outputs": [],
   "source": [
    "from functools import reduce"
   ]
  },
  {
   "cell_type": "code",
   "execution_count": 40,
   "metadata": {},
   "outputs": [],
   "source": [
    "# Creating dataframes\n",
    "st1_ov_a = pd.DataFrame(data=Integ_dict_a['st1_ov_a'][0].values, columns=['symbol'])\n",
    "st2_ov_a = pd.DataFrame(data=Integ_dict_a['st2_ov_a'][0].values, columns=['symbol'])\n",
    "ir1_ov_a = pd.DataFrame(data=Integ_dict_a['ir1_ov_a'][0].values, columns=['symbol'])\n",
    "ir9_ov_a = pd.DataFrame(data=Integ_dict_a['ir9_ov_a'][0].values, columns=['symbol'])\n"
   ]
  },
  {
   "cell_type": "code",
   "execution_count": 41,
   "metadata": {},
   "outputs": [
    {
     "name": "stdout",
     "output_type": "stream",
     "text": [
      "(182, 1)\n",
      "(143, 1)\n",
      "(123, 1)\n",
      "(90, 1)\n"
     ]
    }
   ],
   "source": [
    "# Checking\n",
    "dfs = [st1_ov_a, st2_ov_a, ir1_ov_a, ir9_ov_a]\n",
    "for i in dfs:\n",
    "    print(i.shape)"
   ]
  },
  {
   "cell_type": "code",
   "execution_count": 42,
   "metadata": {},
   "outputs": [
    {
     "data": {
      "text/plain": [
       "(9,)"
      ]
     },
     "execution_count": 42,
     "metadata": {},
     "output_type": "execute_result"
    }
   ],
   "source": [
    "# overlapping between ST1, ST2 and IRF9\n",
    "\n",
    "dfs = [st1_ov_a, st2_ov_a, ir9_ov_a]\n",
    "isgf3 = reduce(lambda left,right: pd.merge(left,right, on=\"symbol\"), dfs)\n",
    "isgf3_only = pd.merge(isgf3, ir1_ov_a, how=\"left\", indicator=True).loc[lambda x:x[\"_merge\"] == \"left_only\"].reset_index(drop=True).iloc[:,0]\n",
    "isgf3_only.shape\n"
   ]
  },
  {
   "cell_type": "code",
   "execution_count": 43,
   "metadata": {},
   "outputs": [
    {
     "data": {
      "text/plain": [
       "(14,)"
      ]
     },
     "execution_count": 43,
     "metadata": {},
     "output_type": "execute_result"
    }
   ],
   "source": [
    "# overlapping between ST1, ST2 and IRF1\n",
    "\n",
    "dfs = [st1_ov_a, st2_ov_a, ir1_ov_a]\n",
    "s1_2_ir1 = reduce(lambda left,right: pd.merge(left,right, on=\"symbol\"), dfs)\n",
    "s1_2_ir1_only = pd.merge(s1_2_ir1, ir9_ov_a, how=\"left\", indicator=True).loc[lambda x:x[\"_merge\"] == \"left_only\"].reset_index(drop=True).iloc[:,0]\n",
    "s1_2_ir1_only.shape\n"
   ]
  },
  {
   "cell_type": "code",
   "execution_count": 44,
   "metadata": {},
   "outputs": [
    {
     "data": {
      "text/plain": [
       "(94, 1)"
      ]
     },
     "execution_count": 44,
     "metadata": {},
     "output_type": "execute_result"
    }
   ],
   "source": [
    "s1_2_ir1.shape"
   ]
  },
  {
   "cell_type": "code",
   "execution_count": 45,
   "metadata": {},
   "outputs": [
    {
     "data": {
      "text/plain": [
       "(80, 1)"
      ]
     },
     "execution_count": 45,
     "metadata": {},
     "output_type": "execute_result"
    }
   ],
   "source": [
    "# overlapping between ISGF3 and IRF1\n",
    "\n",
    "dfs = [isgf3, ir1_ov_a]\n",
    "isgf3_irf1 = reduce(lambda left,right: pd.merge(left,right, on=\"symbol\"),dfs)\n",
    "isgf3_irf1.shape\n"
   ]
  },
  {
   "cell_type": "code",
   "execution_count": 46,
   "metadata": {},
   "outputs": [
    {
     "data": {
      "text/plain": [
       "(0,)"
      ]
     },
     "execution_count": 46,
     "metadata": {},
     "output_type": "execute_result"
    }
   ],
   "source": [
    "# overlapping between ST1 and IRF1\n",
    "\n",
    "dfs = [st1_ov_a, ir1_ov_a]\n",
    "st1_ir1 = reduce(lambda left,right: pd.merge(left, right, on=\"symbol\"), dfs)\n",
    "st1_ir1_only = pd.merge(st1_ir1, st2_ov_a, how=\"left\", indicator=True).loc[lambda x:x[\"_merge\"] == \"left_only\"].iloc[:,0]\n",
    "st1_ir1_only.shape"
   ]
  },
  {
   "cell_type": "code",
   "execution_count": 47,
   "metadata": {},
   "outputs": [
    {
     "data": {
      "text/plain": [
       "(5,)"
      ]
     },
     "execution_count": 47,
     "metadata": {},
     "output_type": "execute_result"
    }
   ],
   "source": [
    "# overlapping between ST2 and IRF1\n",
    "\n",
    "dfs = [st2_ov_a, ir1_ov_a]\n",
    "st2_ir1 = reduce(lambda left,right: pd.merge(left, right, on=\"symbol\"), dfs)\n",
    "st2_ir1_only = pd.merge(st2_ir1, st1_ov_a, how=\"left\", indicator=True).loc[lambda x:x[\"_merge\"] == \"left_only\"].iloc[:,0]\n",
    "st2_ir1_only.shape"
   ]
  },
  {
   "cell_type": "code",
   "execution_count": 48,
   "metadata": {},
   "outputs": [
    {
     "name": "stdout",
     "output_type": "stream",
     "text": [
      "(137, 1)\n",
      "(34,)\n"
     ]
    }
   ],
   "source": [
    "# overlapping between ST1 & ST2 \n",
    "\n",
    "dfs = [st1_ov_a, st2_ov_a]\n",
    "st1_2 = reduce(lambda left,right: pd.merge(left, right, on=\"symbol\"),dfs)\n",
    "print(st1_2.shape)\n",
    "st1_2_only = pd.merge(st1_2, ir9_ov_a, how='left', indicator=True).loc[lambda x: x['_merge'] == 'left_only'].reset_index(drop=True).iloc[:,0]\n",
    "st1_2_only_1 = pd.merge(st1_2_only, ir1_ov_a, how='left', indicator=True).loc[lambda x: x['_merge'] == 'left_only'].reset_index(drop=True).iloc[:,0]\n",
    "print(st1_2_only_1.shape)"
   ]
  },
  {
   "cell_type": "code",
   "execution_count": 49,
   "metadata": {},
   "outputs": [
    {
     "data": {
      "text/plain": [
       "(23,)"
      ]
     },
     "execution_count": 49,
     "metadata": {},
     "output_type": "execute_result"
    }
   ],
   "source": [
    "# Finding IRF1_only genes\n",
    "dfs = [st1_ov_a, st2_ov_a, ir9_ov_a]\n",
    "st1_2_ir9 = reduce(lambda left,right : pd.merge(left,right, how=\"outer\"),dfs) # Note it is \"outer\"\n",
    "\n",
    "# https://stackoverflow.com/questions/48647534/python-pandas-find-difference-between-two-data-frames\n",
    "ir1_only=pd.merge(ir1_ov_a, st1_2_ir9, how=\"left\", indicator=True).loc[lambda x: x['_merge'] != 'both'].reset_index(drop=True).iloc[:,0]\n",
    "ir1_only.shape"
   ]
  },
  {
   "cell_type": "code",
   "execution_count": 50,
   "metadata": {},
   "outputs": [
    {
     "data": {
      "text/plain": [
       "(45,)"
      ]
     },
     "execution_count": 50,
     "metadata": {},
     "output_type": "execute_result"
    }
   ],
   "source": [
    "# Finding ST1_only genes\n",
    "dfs = [st2_ov_a, ir1_ov_a, ir9_ov_a]\n",
    "\n",
    "st2_ir1_9 = reduce(lambda left,right: pd.merge(left,right, how=\"outer\"), dfs)\n",
    "\n",
    "st1_only=pd.merge(st1_ov_a, st2_ir1_9, how=\"left\", indicator=True).loc[lambda x: x['_merge'] == \"left_only\"].reset_index(drop=True).iloc[:,0]\n",
    "st1_only.shape"
   ]
  },
  {
   "cell_type": "code",
   "execution_count": 51,
   "metadata": {},
   "outputs": [
    {
     "data": {
      "text/plain": [
       "(1,)"
      ]
     },
     "execution_count": 51,
     "metadata": {},
     "output_type": "execute_result"
    }
   ],
   "source": [
    "# Finding ST2_only genes\n",
    "dfs = [st1_ov_a, ir1_ov_a, ir9_ov_a]\n",
    "\n",
    "st1_ir1_9 = reduce(lambda left,right: pd.merge(left,right, how=\"outer\"), dfs)\n",
    "\n",
    "st2_only=pd.merge(st2_ov_a, st1_ir1_9, how=\"left\", indicator=True).loc[lambda x: x['_merge'] == \"left_only\"].reset_index(drop=True).iloc[:,0]\n",
    "st2_only.shape\n"
   ]
  },
  {
   "cell_type": "code",
   "execution_count": 52,
   "metadata": {},
   "outputs": [
    {
     "data": {
      "text/plain": [
       "(1,)"
      ]
     },
     "execution_count": 52,
     "metadata": {},
     "output_type": "execute_result"
    }
   ],
   "source": [
    "# overlapping between IRF1 and IRF9\n",
    "\n",
    "dfs = [ir1_ov_a, ir9_ov_a]\n",
    "ir1_9 = reduce(lambda left, right: pd.merge(left, right, on=\"symbol\"), dfs)\n",
    "ir1_9_only = pd.merge(ir1_9, st1_ov_a, how='left', indicator=True).loc[lambda x: x['_merge'] == 'left_only'].reset_index(drop=True).iloc[:,0]\n",
    "ir1_9_only.shape"
   ]
  },
  {
   "cell_type": "code",
   "execution_count": null,
   "metadata": {},
   "outputs": [],
   "source": [
    "######R code ###\n",
    "\n",
    "# Create an empty plot\n",
    "plot(NULL ,xaxt='n',yaxt='n',bty='n',ylab='',xlab='', xlim=0:1, ylim=0:1)\n",
    "# xaxt=\"n\" and yaxt=\"n\" suppress the x and y axis respectively\n",
    "\n",
    "# use legend as you would if there were a plot\n",
    "legend(\"topleft\", legend =c('ISGF3+IRF1', 'ISGF3', 'IRF1-only',\n",
    "    'STAT1-STAT2', 'STAT1 homodimer', 'STAT1-IRF1'), pch=16, pt.cex=3, cex=1.5, bty='n',\n",
    "    col = c('#FA8072', '#ADFF2F', '#40E0D0', '#FF0000', '#DAA520', '#FFD700'))\n",
    "mtext(\"Gene targets\", at=0.2, cex=2)"
   ]
  },
  {
   "cell_type": "markdown",
   "metadata": {},
   "source": [
    "# Generating Style Table _ IFNa"
   ]
  },
  {
   "cell_type": "code",
   "execution_count": 54,
   "metadata": {
    "tags": []
   },
   "outputs": [],
   "source": [
    "# Preparing the colour table \n",
    "# Colours From: https://betterfigures.org/2015/06/23/picking-a-colour-scale-for-scientific-graphics/\n",
    "\n",
    "#1\n",
    "columns = [\"symbol\", \"col\", \"Target\"]\n",
    "df_isgf3_irf1 = pd.DataFrame(columns=columns)\n",
    "df_isgf3_irf1['symbol'] = isgf3_irf1\n",
    "df_isgf3_irf1['col'] = \"#ffadad\"\n",
    "df_isgf3_irf1['Target'] = \"STAT1+STAT2+IRF9+IRF1\"\n",
    "\n",
    "#2\n",
    "#columns = [\"symbol\", \"col\", \"Target\"]\n",
    "#df_s1_2_ir1_only = pd.DataFrame(columns=columns)\n",
    "#df_s1_2_ir1_only['symbol'] = s1_2_ir1_only\n",
    "#df_s1_2_ir1_only['col'] = \"#99d8c9\"\n",
    "#df_s1_2_ir1_only['Target'] = \"STAT1 + STAT2 + IRF1\"\n",
    "\n",
    "#3\n",
    "columns = [\"symbol\", \"col\", \"Target\"]\n",
    "df_isgf3_only = pd.DataFrame(columns=columns)\n",
    "df_isgf3_only['symbol'] = isgf3_only\n",
    "df_isgf3_only['col'] = \"#ffd6a5\"\n",
    "df_isgf3_only['Target'] = \"STAT1 + STAT2 + IRF9\"\n",
    "\n",
    "#4\n",
    "columns = [\"symbol\", \"col\", \"Target\"]\n",
    "df_ir1_only = pd.DataFrame(columns=columns)\n",
    "df_ir1_only['symbol'] = ir1_only\n",
    "df_ir1_only['col'] = \"#fdffb6\"\n",
    "df_ir1_only['Target'] = \"IRF1\"\n",
    "\n",
    "#5\n",
    "columns = [\"symbol\", \"col\", \"Target\"]\n",
    "df_st1_2_only_1 = pd.DataFrame(columns=columns)\n",
    "df_st1_2_only_1['symbol'] = st1_2_only_1\n",
    "df_st1_2_only_1['col'] = \"#caffbf\"\n",
    "df_st1_2_only_1['Target'] = \"STAT1 + STAT2\"\n",
    "\n",
    "#6\n",
    "columns = [\"symbol\", \"col\", \"Target\"]\n",
    "df_st1_only = pd.DataFrame(columns=columns)\n",
    "df_st1_only['symbol'] = st1_only\n",
    "df_st1_only['col'] = \"#9bf6ff\"\n",
    "df_st1_only['Target'] = \"STAT1\"\n",
    "\n",
    "#7\n",
    "#columns = [\"symbol\", \"col\", \"Target\"]\n",
    "#df_ir1_9_only = pd.DataFrame(columns=columns)\n",
    "#df_ir1_9_only['symbol'] = ir1_9_only\n",
    "#df_ir1_9_only['col'] = \"#e5f5f9\"\n",
    "#df_ir1_9_only['Target'] = \"IRF1 + IRF9\"\n",
    "\n",
    "#8\n",
    "#columns = [\"symbol\", \"col\", \"Target\"]\n",
    "#df_st2_only = pd.DataFrame(columns=columns)\n",
    "#df_st2_only['symbol'] = st2_only\n",
    "#df_st2_only['col'] = \"#4eb3d3\"\n",
    "#df_st2_only['Target'] = \"STAT2\"\n",
    "\n",
    "#9\n",
    "#columns = [\"symbol\", \"col\", \"Target\"]\n",
    "#df_st2_ir1_only = pd.DataFrame(columns=columns)\n",
    "#df_st2_ir1_only['symbol'] = st2_ir1_only\n",
    "#df_st2_ir1_only['col'] = \"#c994c7\"\n",
    "#df_st2_ir1_only['Target'] = 'STAT2 + IRF1'\n",
    "\n",
    "# Collect all #s\n",
    "col_tabl = pd.concat([df_isgf3_irf1, df_s1_2_ir1_only, df_isgf3_only, df_ir1_only, df_st1_2_only_1, df_st1_only,\n",
    "                     df_ir1_9_only, df_st2_only, df_st2_ir1_only], ignore_index=True)\n",
    "\n",
    "\n",
    "\n",
    "# col_tabl.to_csv(out_dir + \"col_tabl_Modf.tsv\", index=False, sep=\"\\t\")"
   ]
  },
  {
   "cell_type": "code",
   "execution_count": 55,
   "metadata": {
    "tags": []
   },
   "outputs": [
    {
     "name": "stdout",
     "output_type": "stream",
     "text": [
      "Sum of the elements:  212\n",
      "the size: 80\n",
      "the size: 14\n",
      "the size: 9\n",
      "the size: 23\n",
      "the size: 34\n",
      "the size: 45\n",
      "the size: 1\n",
      "the size: 1\n",
      "the size: 5\n"
     ]
    }
   ],
   "source": [
    "# Calculating sum of the elements \n",
    "\n",
    "dfs = [df_isgf3_irf1, df_s1_2_ir1_only, df_isgf3_only, df_ir1_only, df_st1_2_only_1, df_st1_only,\n",
    "                     df_ir1_9_only, df_st2_only, df_st2_ir1_only]\n",
    "\n",
    "con=[]\n",
    "for i in dfs:\n",
    "    cn = i['col'].count()\n",
    "    con.append(cn)\n",
    "print('Sum of the elements: ', sum(con))\n",
    "\n",
    "for i in dfs:\n",
    "    print('the size: {}'.format(i.shape[0]))"
   ]
  },
  {
   "cell_type": "code",
   "execution_count": 56,
   "metadata": {},
   "outputs": [
    {
     "name": "stdout",
     "output_type": "stream",
     "text": [
      "(212, 3)\n"
     ]
    },
    {
     "data": {
      "text/html": [
       "<div>\n",
       "<style scoped>\n",
       "    .dataframe tbody tr th:only-of-type {\n",
       "        vertical-align: middle;\n",
       "    }\n",
       "\n",
       "    .dataframe tbody tr th {\n",
       "        vertical-align: top;\n",
       "    }\n",
       "\n",
       "    .dataframe thead th {\n",
       "        text-align: right;\n",
       "    }\n",
       "</style>\n",
       "<table border=\"1\" class=\"dataframe\">\n",
       "  <thead>\n",
       "    <tr style=\"text-align: right;\">\n",
       "      <th></th>\n",
       "      <th>Symbol</th>\n",
       "      <th>col</th>\n",
       "      <th>Target</th>\n",
       "    </tr>\n",
       "  </thead>\n",
       "  <tbody>\n",
       "    <tr>\n",
       "      <th>0</th>\n",
       "      <td>ACOT7</td>\n",
       "      <td>#ffadad</td>\n",
       "      <td>STAT1+STAT2+IRF9+IRF1</td>\n",
       "    </tr>\n",
       "    <tr>\n",
       "      <th>1</th>\n",
       "      <td>ACY3</td>\n",
       "      <td>#ffadad</td>\n",
       "      <td>STAT1+STAT2+IRF9+IRF1</td>\n",
       "    </tr>\n",
       "  </tbody>\n",
       "</table>\n",
       "</div>"
      ],
      "text/plain": [
       "  Symbol      col                 Target\n",
       "0  ACOT7  #ffadad  STAT1+STAT2+IRF9+IRF1\n",
       "1   ACY3  #ffadad  STAT1+STAT2+IRF9+IRF1"
      ]
     },
     "execution_count": 56,
     "metadata": {},
     "output_type": "execute_result"
    }
   ],
   "source": [
    "# Load color table\n",
    "col_tabl['Symbol'] = col_tabl['symbol'].str.strip()\n",
    "\n",
    "col_tabl = col_tabl[['Symbol', 'col', 'Target']]\n",
    "\n",
    "print(col_tabl.shape)\n",
    "col_tabl.head(2)"
   ]
  },
  {
   "cell_type": "code",
   "execution_count": 57,
   "metadata": {},
   "outputs": [
    {
     "name": "stdout",
     "output_type": "stream",
     "text": [
      "(220, 2)\n",
      "Index(['Gene', 'Motif'], dtype='object')\n"
     ]
    },
    {
     "data": {
      "text/html": [
       "<div>\n",
       "<style scoped>\n",
       "    .dataframe tbody tr th:only-of-type {\n",
       "        vertical-align: middle;\n",
       "    }\n",
       "\n",
       "    .dataframe tbody tr th {\n",
       "        vertical-align: top;\n",
       "    }\n",
       "\n",
       "    .dataframe thead th {\n",
       "        text-align: right;\n",
       "    }\n",
       "</style>\n",
       "<table border=\"1\" class=\"dataframe\">\n",
       "  <thead>\n",
       "    <tr style=\"text-align: right;\">\n",
       "      <th></th>\n",
       "      <th>Symbol</th>\n",
       "      <th>Motif</th>\n",
       "    </tr>\n",
       "  </thead>\n",
       "  <tbody>\n",
       "    <tr>\n",
       "      <th>0</th>\n",
       "      <td>APOL1</td>\n",
       "      <td>composite</td>\n",
       "    </tr>\n",
       "    <tr>\n",
       "      <th>1</th>\n",
       "      <td>ACOT7</td>\n",
       "      <td>ISRE</td>\n",
       "    </tr>\n",
       "    <tr>\n",
       "      <th>2</th>\n",
       "      <td>A2M</td>\n",
       "      <td>GAS</td>\n",
       "    </tr>\n",
       "  </tbody>\n",
       "</table>\n",
       "</div>"
      ],
      "text/plain": [
       "  Symbol      Motif\n",
       "0  APOL1  composite\n",
       "1  ACOT7       ISRE\n",
       "2    A2M        GAS"
      ]
     },
     "execution_count": 57,
     "metadata": {},
     "output_type": "execute_result"
    }
   ],
   "source": [
    "# Load the latest version of motif file\n",
    "\n",
    "dfm = pd.read_csv(\"motifs_IFNag_latest.tsv\", sep=\"\\t\")\n",
    "print(dfm.shape); print(dfm.columns)\n",
    "dfm.rename(columns={'Gene':'Symbol'}, inplace=True)\n",
    "dfm.head(3)"
   ]
  },
  {
   "cell_type": "code",
   "execution_count": 58,
   "metadata": {},
   "outputs": [
    {
     "data": {
      "text/plain": [
       "(212, 4)"
      ]
     },
     "execution_count": 58,
     "metadata": {},
     "output_type": "execute_result"
    }
   ],
   "source": [
    "# Generate style table file\n",
    "# Add colour\n",
    "styl_tbl_a = pd.merge(dfm, col_tabl, on=\"Symbol\", how=\"inner\")\n",
    "styl_tbl_a.shape"
   ]
  },
  {
   "cell_type": "code",
   "execution_count": 59,
   "metadata": {},
   "outputs": [
    {
     "data": {
      "text/html": [
       "<div>\n",
       "<style scoped>\n",
       "    .dataframe tbody tr th:only-of-type {\n",
       "        vertical-align: middle;\n",
       "    }\n",
       "\n",
       "    .dataframe tbody tr th {\n",
       "        vertical-align: top;\n",
       "    }\n",
       "\n",
       "    .dataframe thead th {\n",
       "        text-align: right;\n",
       "    }\n",
       "</style>\n",
       "<table border=\"1\" class=\"dataframe\">\n",
       "  <thead>\n",
       "    <tr style=\"text-align: right;\">\n",
       "      <th></th>\n",
       "      <th>Symbol</th>\n",
       "      <th>Motif</th>\n",
       "      <th>col</th>\n",
       "      <th>Target</th>\n",
       "    </tr>\n",
       "  </thead>\n",
       "  <tbody>\n",
       "  </tbody>\n",
       "</table>\n",
       "</div>"
      ],
      "text/plain": [
       "Empty DataFrame\n",
       "Columns: [Symbol, Motif, col, Target]\n",
       "Index: []"
      ]
     },
     "execution_count": 59,
     "metadata": {},
     "output_type": "execute_result"
    }
   ],
   "source": [
    "styl_tbl_a[styl_tbl_a.duplicated(subset=['Symbol'])]"
   ]
  },
  {
   "cell_type": "code",
   "execution_count": 60,
   "metadata": {},
   "outputs": [
    {
     "data": {
      "text/plain": [
       "212"
      ]
     },
     "execution_count": 60,
     "metadata": {},
     "output_type": "execute_result"
    }
   ],
   "source": [
    "styl_tbl_a['Symbol'].nunique()"
   ]
  },
  {
   "cell_type": "code",
   "execution_count": 61,
   "metadata": {},
   "outputs": [
    {
     "data": {
      "text/plain": [
       "array(['composite', 'ISRE', 'GAS'], dtype=object)"
      ]
     },
     "execution_count": 61,
     "metadata": {},
     "output_type": "execute_result"
    }
   ],
   "source": [
    "styl_tbl_a['Motif'].unique()"
   ]
  },
  {
   "cell_type": "code",
   "execution_count": 62,
   "metadata": {},
   "outputs": [
    {
     "data": {
      "text/html": [
       "<div>\n",
       "<style scoped>\n",
       "    .dataframe tbody tr th:only-of-type {\n",
       "        vertical-align: middle;\n",
       "    }\n",
       "\n",
       "    .dataframe tbody tr th {\n",
       "        vertical-align: top;\n",
       "    }\n",
       "\n",
       "    .dataframe thead th {\n",
       "        text-align: right;\n",
       "    }\n",
       "</style>\n",
       "<table border=\"1\" class=\"dataframe\">\n",
       "  <thead>\n",
       "    <tr style=\"text-align: right;\">\n",
       "      <th></th>\n",
       "      <th>Symbol</th>\n",
       "      <th>Motif</th>\n",
       "      <th>col</th>\n",
       "      <th>Target</th>\n",
       "      <th>Shape</th>\n",
       "    </tr>\n",
       "  </thead>\n",
       "  <tbody>\n",
       "    <tr>\n",
       "      <th>0</th>\n",
       "      <td>APOL1</td>\n",
       "      <td>composite</td>\n",
       "      <td>#fdffb6</td>\n",
       "      <td>IRF1</td>\n",
       "      <td>rectangle</td>\n",
       "    </tr>\n",
       "    <tr>\n",
       "      <th>1</th>\n",
       "      <td>ACOT7</td>\n",
       "      <td>ISRE</td>\n",
       "      <td>#ffadad</td>\n",
       "      <td>STAT1+STAT2+IRF9+IRF1</td>\n",
       "      <td>ellipse</td>\n",
       "    </tr>\n",
       "  </tbody>\n",
       "</table>\n",
       "</div>"
      ],
      "text/plain": [
       "  Symbol      Motif      col                 Target      Shape\n",
       "0  APOL1  composite  #fdffb6                   IRF1  rectangle\n",
       "1  ACOT7       ISRE  #ffadad  STAT1+STAT2+IRF9+IRF1    ellipse"
      ]
     },
     "execution_count": 62,
     "metadata": {},
     "output_type": "execute_result"
    }
   ],
   "source": [
    "# Add shape\n",
    "\n",
    "styl_tbl_a.loc[styl_tbl_a['Motif'] == 'GAS', 'Shape'] = 'diamond'\n",
    "styl_tbl_a.loc[styl_tbl_a['Motif'] == 'ISRE', 'Shape'] = 'ellipse'\n",
    "styl_tbl_a.loc[styl_tbl_a['Motif'] == 'composite', 'Shape'] = 'rectangle'\n",
    "\n",
    "styl_tbl_a.head(2)"
   ]
  },
  {
   "cell_type": "code",
   "execution_count": 63,
   "metadata": {},
   "outputs": [],
   "source": [
    "styl_tbl_a.to_csv(out_dir + \"Style_table_IFNa.tsv\", sep=\"\\t\", index=False)"
   ]
  },
  {
   "cell_type": "markdown",
   "metadata": {
    "tags": []
   },
   "source": [
    "## IFNg"
   ]
  },
  {
   "cell_type": "code",
   "execution_count": 4,
   "metadata": {
    "tags": []
   },
   "outputs": [],
   "source": [
    "\n",
    "in_dir = 'TFs_4_Networks/'\n",
    "out_dir = 'TFs_4_Networks/Cytoscape_files/'"
   ]
  },
  {
   "cell_type": "code",
   "execution_count": 5,
   "metadata": {
    "tags": []
   },
   "outputs": [
    {
     "name": "stdout",
     "output_type": "stream",
     "text": [
      "File name is: Integ_Homr_hs_HuhWT_IFNy_IRF1_allPeaksSet_nR_topScore_10_genes.tsv\n",
      "File name is: Integ_Homr_hs_HuhWT_IFNy_IRF9_allPeaksSet_nR_topScore_5_genes.tsv\n",
      "File name is: Integ_Homr_hs_HuhWT_IFNy_pSTAT1_allPeaksSet_nR_topScore_20_genes.tsv\n",
      "Integ_Homr_hs_HuhWT_IFNy_IRF1_allPeaksSet_nR_topScore_10_genes\n",
      "       0     1\n",
      "0  ACOT7  ISRE\n",
      "(126, 2)\n",
      "Integ_Homr_hs_HuhWT_IFNy_IRF9_allPeaksSet_nR_topScore_5_genes\n",
      "      0     1\n",
      "0  ACY3  ISRE\n",
      "(43, 2)\n",
      "Integ_Homr_hs_HuhWT_IFNy_pSTAT1_allPeaksSet_nR_topScore_20_genes\n",
      "     0    1\n",
      "0  A2M  GAS\n",
      "(137, 2)\n"
     ]
    }
   ],
   "source": [
    "# Create a dictionary\n",
    "\n",
    "path, dirs, files = next(os.walk(in_dir))\n",
    "Integ_dict_y = {}\n",
    "\n",
    "for i, df in enumerate(files):\n",
    "    if fnmatch.fnmatch(files[i], '*IFNy*'):\n",
    "        Integ_dict_y[files[i].split('.')[0]] = pd.read_csv(in_dir + files[i], sep='\\t', header=None, skiprows=[0])\n",
    "        print('File name is: {}'.format(files[i]))\n",
    "        \n",
    "for key, value in Integ_dict_y.items():\n",
    "    print(key)\n",
    "    print(value.head(1))\n",
    "    print(value.shape)"
   ]
  },
  {
   "cell_type": "code",
   "execution_count": 6,
   "metadata": {
    "tags": []
   },
   "outputs": [
    {
     "name": "stdout",
     "output_type": "stream",
     "text": [
      "ir1_ov_y\n",
      "       0     1\n",
      "0  ACOT7  ISRE\n",
      "(126, 2)\n",
      "ir9_ov_y\n",
      "      0     1\n",
      "0  ACY3  ISRE\n",
      "(43, 2)\n",
      "st1_ov_y\n",
      "     0    1\n",
      "0  A2M  GAS\n",
      "(137, 2)\n"
     ]
    }
   ],
   "source": [
    "# Change the name of dictionary key\n",
    "Integ_dict_y['ir1_ov_y'] = Integ_dict_y.pop('Integ_Homr_hs_HuhWT_IFNy_IRF1_allPeaksSet_nR_topScore_10_genes')\n",
    "Integ_dict_y['ir9_ov_y'] = Integ_dict_y.pop('Integ_Homr_hs_HuhWT_IFNy_IRF9_allPeaksSet_nR_topScore_5_genes')\n",
    "Integ_dict_y['st1_ov_y'] = Integ_dict_y.pop('Integ_Homr_hs_HuhWT_IFNy_pSTAT1_allPeaksSet_nR_topScore_20_genes')\n",
    "\n",
    "\n",
    "for key, value in Integ_dict_y.items():\n",
    "    print(key)\n",
    "    print(value.head(1))\n",
    "    print(value.shape)\n"
   ]
  },
  {
   "cell_type": "markdown",
   "metadata": {},
   "source": [
    "# Create node files for each Ab"
   ]
  },
  {
   "cell_type": "code",
   "execution_count": 7,
   "metadata": {
    "id": "4avssl1DO3IJ"
   },
   "outputs": [],
   "source": [
    "#IFNy ST1\n",
    "\n",
    "columns = [\"#node1\", \"node2\"]\n",
    "dfs1 = pd.DataFrame(columns=columns)\n",
    "dfs1['node2'] = Integ_dict_y['st1_ov_y'][0]\n",
    "dfs1['#node1'] = \"STAT1\"\n",
    "\n",
    "# Saving Network File\n",
    "dfs1.to_csv(out_dir + \"IFNy_ST1_ov.tsv\", sep=\"\\t\", index=False)"
   ]
  },
  {
   "cell_type": "code",
   "execution_count": 8,
   "metadata": {
    "id": "VxAerxdUO4Ab"
   },
   "outputs": [],
   "source": [
    "# IFNy IRF1\n",
    "\n",
    "columns = [\"#node1\", \"node2\"]\n",
    "dfir1 = pd.DataFrame(columns = columns)\n",
    "dfir1['node2'] = Integ_dict_y['ir1_ov_y'][0]\n",
    "dfir1['#node1'] = \"IRF1\"\n",
    "\n",
    "dfir1.to_csv(out_dir + \"IFNy_IRF1_ov.tsv\", sep=\"\\t\", index=False)"
   ]
  },
  {
   "cell_type": "code",
   "execution_count": 9,
   "metadata": {
    "id": "6_lIhHNzeEAM"
   },
   "outputs": [],
   "source": [
    "# IFNy IRF9\n",
    "\n",
    "columns = [\"#node1\", \"node2\"]\n",
    "dfir9 = pd.DataFrame(columns=columns)\n",
    "dfir9[\"node2\"] = Integ_dict_y['ir9_ov_y'][0]\n",
    "dfir9[\"#node1\"] = \"IRF9\"\n",
    "\n",
    "dfir9.to_csv(out_dir + \"IFNy_IRF9_ov.tsv\", index= False, sep=\"\\t\")"
   ]
  },
  {
   "cell_type": "code",
   "execution_count": 10,
   "metadata": {},
   "outputs": [
    {
     "name": "stdout",
     "output_type": "stream",
     "text": [
      "(137, 2)\n",
      "(126, 2)\n",
      "(43, 2)\n"
     ]
    }
   ],
   "source": [
    "# To confrim\n",
    "x = [dfs1, dfir1, dfir9]\n",
    "for i in x:\n",
    "    print(i.shape)"
   ]
  },
  {
   "cell_type": "markdown",
   "metadata": {},
   "source": [
    "## Different combinations of TFS for IFNy"
   ]
  },
  {
   "cell_type": "code",
   "execution_count": 11,
   "metadata": {},
   "outputs": [],
   "source": [
    "from functools import reduce"
   ]
  },
  {
   "cell_type": "code",
   "execution_count": 12,
   "metadata": {},
   "outputs": [],
   "source": [
    "# Creating dataframes\n",
    "st1_ov_y = pd.DataFrame(data=Integ_dict_y['st1_ov_y'][0].values, columns=['symbol'])\n",
    "ir1_ov_y = pd.DataFrame(data=Integ_dict_y['ir1_ov_y'][0].values, columns=['symbol'])\n",
    "ir9_ov_y = pd.DataFrame(data=Integ_dict_y['ir9_ov_y'][0].values, columns=['symbol'])\n"
   ]
  },
  {
   "cell_type": "code",
   "execution_count": 13,
   "metadata": {},
   "outputs": [
    {
     "name": "stdout",
     "output_type": "stream",
     "text": [
      "(137, 1)\n",
      "(126, 1)\n",
      "(43, 1)\n"
     ]
    }
   ],
   "source": [
    "# Checking\n",
    "dfs = [st1_ov_y, ir1_ov_y, ir9_ov_y]\n",
    "for i in dfs:\n",
    "    print(i.shape)"
   ]
  },
  {
   "cell_type": "code",
   "execution_count": 14,
   "metadata": {},
   "outputs": [
    {
     "data": {
      "text/plain": [
       "(34,)"
      ]
     },
     "execution_count": 14,
     "metadata": {},
     "output_type": "execute_result"
    }
   ],
   "source": [
    "# overlapping between ST1, IRF1 and IRF9\n",
    "\n",
    "dfs = [st1_ov_y, ir1_ov_y, ir9_ov_y]\n",
    "st1_ir1_9 = reduce(lambda left,right: pd.merge(left,right, on=\"symbol\"), dfs).reset_index(drop=True).iloc[:,0]\n",
    "st1_ir1_9.shape\n",
    "\n",
    "#isgf3_only = pd.merge(isgf3, ir1_ov_a, how=\"left\", indicator=True).loc[lambda x:x[\"_merge\"] == \"left_only\"].reset_index(drop=True).iloc[:,0]\n",
    "#isgf3_only.shape\n"
   ]
  },
  {
   "cell_type": "code",
   "execution_count": 15,
   "metadata": {},
   "outputs": [
    {
     "data": {
      "text/plain": [
       "(18,)"
      ]
     },
     "execution_count": 15,
     "metadata": {},
     "output_type": "execute_result"
    }
   ],
   "source": [
    "# overlapping between ST1 and IRF1\n",
    "\n",
    "dfs = [st1_ov_y, ir1_ov_y]\n",
    "st1_ir1_only = reduce(lambda left,right: pd.merge(left, right, on=\"symbol\"), dfs).reset_index(drop=True).iloc[:,0]\n",
    "st1_ir1_only.shape\n",
    "st1_ir1_only_only = pd.merge(st1_ir1_only, st1_ir1_9, how='left', indicator=True).loc[lambda x: x['_merge'] == \"left_only\"].iloc[:,0]\n",
    "#st1_ir1_only = pd.merge(st1_ir1, st2_ov_a, how=\"left\", indicator=True).loc[lambda x:x[\"_merge\"] == \"left_only\"].iloc[:,0]\n",
    "#st1_ir1_only.shape\n",
    "st1_ir1_only_only.shape"
   ]
  },
  {
   "cell_type": "code",
   "execution_count": 16,
   "metadata": {},
   "outputs": [
    {
     "data": {
      "text/plain": [
       "(2,)"
      ]
     },
     "execution_count": 16,
     "metadata": {},
     "output_type": "execute_result"
    }
   ],
   "source": [
    "# overlapping between ST1 and IRF9\n",
    "\n",
    "dfs = [st1_ov_y, ir9_ov_y]\n",
    "st1_ir9_only = reduce(lambda left,right: pd.merge(left, right, on=\"symbol\"), dfs).reset_index(drop=True).iloc[:,0]\n",
    "st1_ir9_only.shape\n",
    "st1_ir9_only_only = pd.merge(st1_ir9_only, st1_ir1_9, how='left', indicator=True).loc[lambda x: x['_merge'] == \"left_only\"].iloc[:,0]\n",
    "#st1_ir1_only = pd.merge(st1_ir1, st2_ov_a, how=\"left\", indicator=True).loc[lambda x:x[\"_merge\"] == \"left_only\"].iloc[:,0]\n",
    "#st1_ir1_only.shape\n",
    "st1_ir9_only_only.shape"
   ]
  },
  {
   "cell_type": "code",
   "execution_count": 17,
   "metadata": {},
   "outputs": [
    {
     "data": {
      "text/plain": [
       "(6,)"
      ]
     },
     "execution_count": 17,
     "metadata": {},
     "output_type": "execute_result"
    }
   ],
   "source": [
    "# overlapping between IRF1 and IRF9\n",
    "\n",
    "dfs = [ir1_ov_y, ir9_ov_y]\n",
    "ir1_9 = reduce(lambda left,right: pd.merge(left, right, on=\"symbol\"), dfs).reset_index(drop=True).iloc[:,0]\n",
    "ir1_9_only = pd.merge(ir1_9, st1_ov_y, how='left', indicator=True).loc[lambda x: x['_merge'] == \"left_only\"].iloc[:,0]\n",
    "ir1_9_only.shape"
   ]
  },
  {
   "cell_type": "code",
   "execution_count": 18,
   "metadata": {},
   "outputs": [
    {
     "data": {
      "text/plain": [
       "array(['IRF9', 'SERPING1'], dtype=object)"
      ]
     },
     "execution_count": 18,
     "metadata": {},
     "output_type": "execute_result"
    }
   ],
   "source": [
    "st1_ir9_only_only.values"
   ]
  },
  {
   "cell_type": "code",
   "execution_count": 19,
   "metadata": {},
   "outputs": [
    {
     "data": {
      "text/plain": [
       "(83,)"
      ]
     },
     "execution_count": 19,
     "metadata": {},
     "output_type": "execute_result"
    }
   ],
   "source": [
    "# Finding ST1_only genes\n",
    "dfs = [ir1_ov_y, ir9_ov_y]\n",
    "\n",
    "ir1_9 = reduce(lambda left,right: pd.merge(left,right, how=\"outer\"), dfs)\n",
    "\n",
    "st1_only=pd.merge(st1_ov_y, ir1_9, how=\"left\", indicator=True).loc[lambda x: x['_merge'] == \"left_only\"].reset_index(drop=True).iloc[:,0]\n",
    "st1_only.shape"
   ]
  },
  {
   "cell_type": "code",
   "execution_count": 20,
   "metadata": {},
   "outputs": [
    {
     "data": {
      "text/plain": [
       "(68,)"
      ]
     },
     "execution_count": 20,
     "metadata": {},
     "output_type": "execute_result"
    }
   ],
   "source": [
    "# Finding IRF1_only genes\n",
    "dfs = [st1_ov_y, ir9_ov_y]\n",
    "st1_ir9 = reduce(lambda left,right : pd.merge(left,right, how=\"outer\"),dfs)\n",
    "\n",
    "# https://stackoverflow.com/questions/48647534/python-pandas-find-difference-between-two-data-frames\n",
    "ir1_only=pd.merge(ir1_ov_y, st1_ir9, how=\"left\", indicator=True).loc[lambda x: x['_merge'] != 'both'].reset_index(drop=True).iloc[:,0]\n",
    "ir1_only.shape"
   ]
  },
  {
   "cell_type": "code",
   "execution_count": 21,
   "metadata": {},
   "outputs": [
    {
     "data": {
      "text/plain": [
       "(1,)"
      ]
     },
     "execution_count": 21,
     "metadata": {},
     "output_type": "execute_result"
    }
   ],
   "source": [
    "# Finding IRF9_only genes\n",
    "dfs = [st1_ov_y, ir1_ov_y]\n",
    "st1_ir1 = reduce(lambda left,right : pd.merge(left,right, how=\"outer\"),dfs)\n",
    "\n",
    "# https://stackoverflow.com/questions/48647534/python-pandas-find-difference-between-two-data-frames\n",
    "ir9_only=pd.merge(ir9_ov_y, st1_ir1, how=\"left\", indicator=True).loc[lambda x: x['_merge'] != 'both'].reset_index(drop=True).iloc[:,0]\n",
    "ir9_only.shape"
   ]
  },
  {
   "cell_type": "markdown",
   "metadata": {},
   "source": [
    "# Generating Style Table _ IFNy"
   ]
  },
  {
   "cell_type": "code",
   "execution_count": 22,
   "metadata": {
    "tags": []
   },
   "outputs": [],
   "source": [
    "# Preparing the colour table ***Modified version***\n",
    "\n",
    "#1\n",
    "columns = [\"symbol\", \"col\", \"Target\"]\n",
    "df_st1_ir1_9 = pd.DataFrame(columns=columns)\n",
    "df_st1_ir1_9['symbol'] = st1_ir1_9\n",
    "df_st1_ir1_9['col'] = \"#ffadad\"\n",
    "df_st1_ir1_9['Target'] = \"STAT1 + IRF1 + IRF9\"\n",
    "\n",
    "#2\n",
    "columns = [\"symbol\", \"col\", \"Target\"]\n",
    "df_ir1_only = pd.DataFrame(columns=columns)\n",
    "df_ir1_only['symbol'] = ir1_only\n",
    "df_ir1_only['col'] = \"#ffd6a5\"\n",
    "df_ir1_only['Target'] = \"IRF1\"\n",
    "#3\n",
    "columns = [\"symbol\", \"col\", \"Target\"]\n",
    "df_st1_only = pd.DataFrame(columns=columns)\n",
    "df_st1_only['symbol'] = st1_only\n",
    "df_st1_only['col'] = \"#fdffb6\"\n",
    "df_st1_only['Target'] = \"STAT1\"\n",
    "\n",
    "#4\n",
    "columns = [\"symbol\", \"col\", \"Target\"]\n",
    "df_st1_ir1_only = pd.DataFrame(columns=columns)\n",
    "df_st1_ir1_only['symbol'] = st1_ir1_only_only\n",
    "df_st1_ir1_only['col'] = \"#caffbf\"\n",
    "df_st1_ir1_only['Target'] = \"STAT1 + IRF1\"\n",
    "\n",
    "#5\n",
    "columns = [\"symbol\", \"col\", \"Target\"]\n",
    "df_st1_ir9_only = pd.DataFrame(columns=columns)\n",
    "df_st1_ir9_only['symbol'] = st1_ir9_only_only\n",
    "df_st1_ir9_only['col'] = \"#9bf6ff\"\n",
    "df_st1_ir9_only['Target'] = \"STAT1 + IRF9\"\n",
    "\n",
    "#6 We are Not interested in this group!!\n",
    "#columns = [\"symbol\", \"col\", \"Target\"]\n",
    "#df_ir9_only = pd.DataFrame(columns=columns)\n",
    "#df_ir9_only['symbol'] = ir9_only\n",
    "#df_ir9_only['col'] = \"#e5f5f9\"\n",
    "#df_ir9_only['Target'] = \"IRF9\"\n",
    "\n",
    "#7\n",
    "columns = [\"symbol\", \"col\", \"Target\"]\n",
    "df_ir1_9_only = pd.DataFrame(columns=columns)\n",
    "df_ir1_9_only['symbol'] = ir1_9_only\n",
    "df_ir1_9_only['col'] = \"#66c2a4\"\n",
    "df_ir1_9_only['Target'] = \"IRF1 + IRF9\"\n",
    "\n",
    "\n",
    "# Collect all #s\n",
    "col_tabl = pd.concat([df_st1_ir1_9, df_ir1_only, df_st1_only, df_st1_ir1_only, df_st1_ir9_only, df_ir1_9_only ], ignore_index=True)\n",
    "\n",
    "\n",
    "\n",
    "#col_tabl.to_csv(\"col_tabl_INFy_Modf.tsv\", index=False, sep=\"\\t\")"
   ]
  },
  {
   "cell_type": "code",
   "execution_count": 23,
   "metadata": {},
   "outputs": [
    {
     "data": {
      "text/plain": [
       "array(['#ffadad', '#ffd6a5', '#fdffb6', '#caffbf', '#9bf6ff', '#66c2a4'],\n",
       "      dtype=object)"
      ]
     },
     "execution_count": 23,
     "metadata": {},
     "output_type": "execute_result"
    }
   ],
   "source": [
    "col_tabl['col'].unique()"
   ]
  },
  {
   "cell_type": "code",
   "execution_count": 24,
   "metadata": {},
   "outputs": [
    {
     "data": {
      "text/plain": [
       "Index(['symbol', 'col', 'Target'], dtype='object')"
      ]
     },
     "execution_count": 24,
     "metadata": {},
     "output_type": "execute_result"
    }
   ],
   "source": [
    "col_tabl.columns"
   ]
  },
  {
   "cell_type": "code",
   "execution_count": 67,
   "metadata": {
    "tags": []
   },
   "outputs": [
    {
     "name": "stdout",
     "output_type": "stream",
     "text": [
      "Sum of the elements:  203\n"
     ]
    }
   ],
   "source": [
    "# Calculating sum of the elements \n",
    "\n",
    "df = [df_st1_ir1_9, df_ir1_only, df_st1_only, df_st1_ir1_only]\n",
    "\n",
    "con=[]\n",
    "for i in df:\n",
    "    cn = i['col'].count()\n",
    "    con.append(cn)\n",
    "print('Sum of the elements: ', sum(con))"
   ]
  },
  {
   "cell_type": "code",
   "execution_count": 25,
   "metadata": {},
   "outputs": [
    {
     "name": "stdout",
     "output_type": "stream",
     "text": [
      "(211, 3)\n"
     ]
    },
    {
     "data": {
      "text/html": [
       "<div>\n",
       "<style scoped>\n",
       "    .dataframe tbody tr th:only-of-type {\n",
       "        vertical-align: middle;\n",
       "    }\n",
       "\n",
       "    .dataframe tbody tr th {\n",
       "        vertical-align: top;\n",
       "    }\n",
       "\n",
       "    .dataframe thead th {\n",
       "        text-align: right;\n",
       "    }\n",
       "</style>\n",
       "<table border=\"1\" class=\"dataframe\">\n",
       "  <thead>\n",
       "    <tr style=\"text-align: right;\">\n",
       "      <th></th>\n",
       "      <th>Symbol</th>\n",
       "      <th>col</th>\n",
       "      <th>Target</th>\n",
       "    </tr>\n",
       "  </thead>\n",
       "  <tbody>\n",
       "    <tr>\n",
       "      <th>0</th>\n",
       "      <td>ADAR</td>\n",
       "      <td>#ffadad</td>\n",
       "      <td>STAT1 + IRF1 + IRF9</td>\n",
       "    </tr>\n",
       "    <tr>\n",
       "      <th>1</th>\n",
       "      <td>APOL2</td>\n",
       "      <td>#ffadad</td>\n",
       "      <td>STAT1 + IRF1 + IRF9</td>\n",
       "    </tr>\n",
       "  </tbody>\n",
       "</table>\n",
       "</div>"
      ],
      "text/plain": [
       "  Symbol      col               Target\n",
       "0   ADAR  #ffadad  STAT1 + IRF1 + IRF9\n",
       "1  APOL2  #ffadad  STAT1 + IRF1 + IRF9"
      ]
     },
     "execution_count": 25,
     "metadata": {},
     "output_type": "execute_result"
    }
   ],
   "source": [
    "# Load colur table\n",
    "col_tabl['Symbol'] = col_tabl['symbol'].str.strip()\n",
    "\n",
    "col_tabl = col_tabl[['Symbol', 'col', 'Target']]\n",
    "\n",
    "print(col_tabl.shape)\n",
    "col_tabl.head(2)"
   ]
  },
  {
   "cell_type": "code",
   "execution_count": 26,
   "metadata": {},
   "outputs": [
    {
     "name": "stdout",
     "output_type": "stream",
     "text": [
      "(220, 2)\n",
      "Index(['Gene', 'Motif'], dtype='object')\n"
     ]
    },
    {
     "data": {
      "text/html": [
       "<div>\n",
       "<style scoped>\n",
       "    .dataframe tbody tr th:only-of-type {\n",
       "        vertical-align: middle;\n",
       "    }\n",
       "\n",
       "    .dataframe tbody tr th {\n",
       "        vertical-align: top;\n",
       "    }\n",
       "\n",
       "    .dataframe thead th {\n",
       "        text-align: right;\n",
       "    }\n",
       "</style>\n",
       "<table border=\"1\" class=\"dataframe\">\n",
       "  <thead>\n",
       "    <tr style=\"text-align: right;\">\n",
       "      <th></th>\n",
       "      <th>Symbol</th>\n",
       "      <th>Motif</th>\n",
       "    </tr>\n",
       "  </thead>\n",
       "  <tbody>\n",
       "    <tr>\n",
       "      <th>0</th>\n",
       "      <td>APOL1</td>\n",
       "      <td>composite</td>\n",
       "    </tr>\n",
       "    <tr>\n",
       "      <th>1</th>\n",
       "      <td>ACOT7</td>\n",
       "      <td>ISRE</td>\n",
       "    </tr>\n",
       "    <tr>\n",
       "      <th>2</th>\n",
       "      <td>A2M</td>\n",
       "      <td>GAS</td>\n",
       "    </tr>\n",
       "  </tbody>\n",
       "</table>\n",
       "</div>"
      ],
      "text/plain": [
       "  Symbol      Motif\n",
       "0  APOL1  composite\n",
       "1  ACOT7       ISRE\n",
       "2    A2M        GAS"
      ]
     },
     "execution_count": 26,
     "metadata": {},
     "output_type": "execute_result"
    }
   ],
   "source": [
    "# Load the latest version of motif file\n",
    "\n",
    "dfm = pd.read_csv(\"motifs_IFNag_latest.tsv\", sep=\"\\t\")\n",
    "print(dfm.shape); print(dfm.columns)\n",
    "dfm.rename(columns={'Gene':'Symbol'}, inplace=True)\n",
    "dfm.head(3)"
   ]
  },
  {
   "cell_type": "code",
   "execution_count": 28,
   "metadata": {},
   "outputs": [
    {
     "data": {
      "text/plain": [
       "(211, 4)"
      ]
     },
     "execution_count": 28,
     "metadata": {},
     "output_type": "execute_result"
    }
   ],
   "source": [
    "# Generate style table file\n",
    "# Add colour\n",
    "\n",
    "styl_tbl_y = pd.merge(dfm, col_tabl, on=\"Symbol\", how=\"inner\")\n",
    "styl_tbl_y.shape"
   ]
  },
  {
   "cell_type": "code",
   "execution_count": 29,
   "metadata": {},
   "outputs": [
    {
     "data": {
      "text/html": [
       "<div>\n",
       "<style scoped>\n",
       "    .dataframe tbody tr th:only-of-type {\n",
       "        vertical-align: middle;\n",
       "    }\n",
       "\n",
       "    .dataframe tbody tr th {\n",
       "        vertical-align: top;\n",
       "    }\n",
       "\n",
       "    .dataframe thead th {\n",
       "        text-align: right;\n",
       "    }\n",
       "</style>\n",
       "<table border=\"1\" class=\"dataframe\">\n",
       "  <thead>\n",
       "    <tr style=\"text-align: right;\">\n",
       "      <th></th>\n",
       "      <th>Symbol</th>\n",
       "      <th>Motif</th>\n",
       "      <th>col</th>\n",
       "      <th>Target</th>\n",
       "    </tr>\n",
       "  </thead>\n",
       "  <tbody>\n",
       "  </tbody>\n",
       "</table>\n",
       "</div>"
      ],
      "text/plain": [
       "Empty DataFrame\n",
       "Columns: [Symbol, Motif, col, Target]\n",
       "Index: []"
      ]
     },
     "execution_count": 29,
     "metadata": {},
     "output_type": "execute_result"
    }
   ],
   "source": [
    "styl_tbl_y[styl_tbl_y.duplicated(subset=['Symbol'])]"
   ]
  },
  {
   "cell_type": "code",
   "execution_count": 30,
   "metadata": {},
   "outputs": [
    {
     "data": {
      "text/plain": [
       "211"
      ]
     },
     "execution_count": 30,
     "metadata": {},
     "output_type": "execute_result"
    }
   ],
   "source": [
    "styl_tbl_y['Symbol'].nunique()"
   ]
  },
  {
   "cell_type": "code",
   "execution_count": 31,
   "metadata": {},
   "outputs": [
    {
     "data": {
      "text/plain": [
       "array(['composite', 'ISRE', 'GAS'], dtype=object)"
      ]
     },
     "execution_count": 31,
     "metadata": {},
     "output_type": "execute_result"
    }
   ],
   "source": [
    "styl_tbl_y['Motif'].unique()"
   ]
  },
  {
   "cell_type": "code",
   "execution_count": 32,
   "metadata": {},
   "outputs": [
    {
     "data": {
      "text/html": [
       "<div>\n",
       "<style scoped>\n",
       "    .dataframe tbody tr th:only-of-type {\n",
       "        vertical-align: middle;\n",
       "    }\n",
       "\n",
       "    .dataframe tbody tr th {\n",
       "        vertical-align: top;\n",
       "    }\n",
       "\n",
       "    .dataframe thead th {\n",
       "        text-align: right;\n",
       "    }\n",
       "</style>\n",
       "<table border=\"1\" class=\"dataframe\">\n",
       "  <thead>\n",
       "    <tr style=\"text-align: right;\">\n",
       "      <th></th>\n",
       "      <th>Symbol</th>\n",
       "      <th>Motif</th>\n",
       "      <th>col</th>\n",
       "      <th>Target</th>\n",
       "      <th>Shape</th>\n",
       "    </tr>\n",
       "  </thead>\n",
       "  <tbody>\n",
       "    <tr>\n",
       "      <th>0</th>\n",
       "      <td>APOL1</td>\n",
       "      <td>composite</td>\n",
       "      <td>#caffbf</td>\n",
       "      <td>STAT1 + IRF1</td>\n",
       "      <td>rectangle</td>\n",
       "    </tr>\n",
       "    <tr>\n",
       "      <th>1</th>\n",
       "      <td>ACOT7</td>\n",
       "      <td>ISRE</td>\n",
       "      <td>#ffd6a5</td>\n",
       "      <td>IRF1</td>\n",
       "      <td>ellipse</td>\n",
       "    </tr>\n",
       "  </tbody>\n",
       "</table>\n",
       "</div>"
      ],
      "text/plain": [
       "  Symbol      Motif      col        Target      Shape\n",
       "0  APOL1  composite  #caffbf  STAT1 + IRF1  rectangle\n",
       "1  ACOT7       ISRE  #ffd6a5          IRF1    ellipse"
      ]
     },
     "execution_count": 32,
     "metadata": {},
     "output_type": "execute_result"
    }
   ],
   "source": [
    "# Add shape\n",
    "\n",
    "styl_tbl_y.loc[styl_tbl_y['Motif'] == 'GAS', 'Shape'] = 'diamond'\n",
    "styl_tbl_y.loc[styl_tbl_y['Motif'] == 'ISRE', 'Shape'] = 'ellipse'\n",
    "styl_tbl_y.loc[styl_tbl_y['Motif'] == 'composite', 'Shape'] = 'rectangle'\n",
    "\n",
    "styl_tbl_y.head(2)"
   ]
  },
  {
   "cell_type": "code",
   "execution_count": 33,
   "metadata": {},
   "outputs": [],
   "source": [
    "styl_tbl_y.to_csv(out_dir + \"Style_table_IFNy_rev1.tsv\", sep=\"\\t\", index=False)"
   ]
  },
  {
   "cell_type": "code",
   "execution_count": 50,
   "metadata": {
    "collapsed": true,
    "jupyter": {
     "outputs_hidden": true
    },
    "tags": []
   },
   "outputs": [
    {
     "ename": "NameError",
     "evalue": "name 'styl_tbl_a' is not defined",
     "output_type": "error",
     "traceback": [
      "\u001b[0;31m---------------------------------------------------------------------------\u001b[0m",
      "\u001b[0;31mNameError\u001b[0m                                 Traceback (most recent call last)",
      "\u001b[0;32m/tmp/ipykernel_33647/1769316485.py\u001b[0m in \u001b[0;36m<module>\u001b[0;34m\u001b[0m\n\u001b[0;32m----> 1\u001b[0;31m \u001b[0mstyl_tbl_a\u001b[0m\u001b[0;34m.\u001b[0m\u001b[0mshape\u001b[0m\u001b[0;34m\u001b[0m\u001b[0;34m\u001b[0m\u001b[0m\n\u001b[0m",
      "\u001b[0;31mNameError\u001b[0m: name 'styl_tbl_a' is not defined"
     ]
    }
   ],
   "source": [
    "styl_tbl_a.shape"
   ]
  },
  {
   "cell_type": "code",
   "execution_count": 51,
   "metadata": {},
   "outputs": [
    {
     "data": {
      "text/plain": [
       "(212, 4)"
      ]
     },
     "execution_count": 51,
     "metadata": {},
     "output_type": "execute_result"
    }
   ],
   "source": [
    "styl_tbl_y.shape"
   ]
  },
  {
   "cell_type": "code",
   "execution_count": 68,
   "metadata": {},
   "outputs": [
    {
     "data": {
      "text/plain": [
       "(394, 4)"
      ]
     },
     "execution_count": 68,
     "metadata": {},
     "output_type": "execute_result"
    }
   ],
   "source": [
    "styl_tbl = pd.concat([styl_tbl_a, styl_tbl_y], ignore_index=True)\n",
    "styl_tbl.shape"
   ]
  },
  {
   "cell_type": "code",
   "execution_count": 69,
   "metadata": {},
   "outputs": [
    {
     "data": {
      "text/plain": [
       "Symbol    181\n",
       "Motif     181\n",
       "col       181\n",
       "Shape     181\n",
       "dtype: int64"
      ]
     },
     "execution_count": 69,
     "metadata": {},
     "output_type": "execute_result"
    }
   ],
   "source": [
    "styl_tbl[styl_tbl.duplicated(subset=['Symbol'])].count()"
   ]
  },
  {
   "cell_type": "code",
   "execution_count": 165,
   "metadata": {},
   "outputs": [],
   "source": [
    "styl_tbl.to_csv(out_dir + 'Style_table.tsv', sep='\\t', index=False)"
   ]
  },
  {
   "cell_type": "markdown",
   "metadata": {
    "id": "xTY3PbUNKfcb"
   },
   "source": [
    "# Task: Enrichment analysis"
   ]
  },
  {
   "cell_type": "code",
   "execution_count": null,
   "metadata": {
    "colab": {
     "base_uri": "https://localhost:8080/",
     "height": 142
    },
    "id": "-QEt62Zxm3ro",
    "outputId": "41c4d9d1-9a74-4bae-8131-b651efbe9782"
   },
   "outputs": [],
   "source": [
    "g = pd.read_csv(\"overlap_IFNa_y/jVenn_IFNa_IFNy_GAS.csv\")\n",
    "c = pd.read_csv(\"overlap_IFNa_y/jVenn_IFNa_IFNy_composite.csv\")\n",
    "i = pd.read_csv(\"overlap_IFNa_y/jVenn_IFNa_IFNy_ISRE.csv\")\n",
    "g.head(3)"
   ]
  },
  {
   "cell_type": "code",
   "execution_count": null,
   "metadata": {
    "colab": {
     "base_uri": "https://localhost:8080/"
    },
    "id": "LIC9Tk4hMUds",
    "outputId": "1a081a39-a598-436f-aef2-a49a742e0329"
   },
   "outputs": [],
   "source": [
    "# Finding overlapping elements between two columns\n",
    "# https://stackoverflow.com/questions/18079563/finding-the-intersection-between-two-series-in-pandas\n",
    "\n",
    "s1 = pd.Series(g['IFNa_GAS']).dropna()\n",
    "s2 = pd.Series(g['IFNy_GAS']).dropna()\n",
    "pd.Series(np.intersect1d(s1,s2))"
   ]
  },
  {
   "cell_type": "code",
   "execution_count": null,
   "metadata": {
    "id": "6tM-2FLIPGFJ"
   },
   "outputs": [],
   "source": [
    "# saving\n",
    "g['IFNa_GAS|IFNy_GAS'].to_csv(\"overlap_IFNa_y/GAS.txt\", sep=\"\\t\", index=False, header=None)\n",
    "c['IFNa_comp|IFNy_comp'].to_csv(\"overlap_IFNa_y/Comp.txt\", sep=\"\\t\", index=False, header=None)\n",
    "i['IFNa_ISRE|IFNy_ISRE'].to_csv(\"overlap_IFNa_y/ISRE.txt\", sep=\"\\t\", index=False, header=None)"
   ]
  },
  {
   "cell_type": "code",
   "execution_count": null,
   "metadata": {
    "id": "sjVfJhNNaSq9"
   },
   "outputs": [],
   "source": []
  }
 ],
 "metadata": {
  "colab": {
   "collapsed_sections": [
    "U_8XBNL6d-mx",
    "xTY3PbUNKfcb"
   ],
   "name": "Networks.ipynb",
   "provenance": []
  },
  "kernelspec": {
   "display_name": "Python 3 (ipykernel)",
   "language": "python",
   "name": "python3"
  },
  "language_info": {
   "codemirror_mode": {
    "name": "ipython",
    "version": 3
   },
   "file_extension": ".py",
   "mimetype": "text/x-python",
   "name": "python",
   "nbconvert_exporter": "python",
   "pygments_lexer": "ipython3",
   "version": "3.7.12"
  },
  "toc-autonumbering": false,
  "toc-showmarkdowntxt": false,
  "toc-showtags": false
 },
 "nbformat": 4,
 "nbformat_minor": 4
}
