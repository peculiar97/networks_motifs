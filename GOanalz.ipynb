{
 "cells": [
  {
   "cell_type": "markdown",
   "id": "b931ee84-e853-48ef-b7bb-2b463d571660",
   "metadata": {},
   "source": [
    "# Aim: Preparing motif file and IFN-specific genes"
   ]
  },
  {
   "cell_type": "code",
   "execution_count": 1,
   "id": "7f6919ae-5436-4ba4-9651-4fa575ff5bde",
   "metadata": {},
   "outputs": [],
   "source": [
    "import pandas as pd\n",
    "import numpy as np"
   ]
  },
  {
   "cell_type": "code",
   "execution_count": 2,
   "id": "6da7b0bc-82e5-4f2f-bb0f-59838cc00451",
   "metadata": {},
   "outputs": [
    {
     "data": {
      "text/plain": [
       "(220,)"
      ]
     },
     "execution_count": 2,
     "metadata": {},
     "output_type": "execute_result"
    }
   ],
   "source": [
    "# Loading overlapping genes\n",
    "\n",
    "ovr = pd.read_csv('padj05/ovrlp/ovrlp_genes.txt', sep=\"\\t\")\n",
    "\n",
    "ovrlp = pd.DataFrame(data=ovr['elements'].values, columns=['symbol'])\n",
    "\n",
    "#saving\n",
    "#ovrlp.to_csv(\"ovrlap_genes_a_g.tsv\", sep=\"\\t\", index=False, header=None)\n",
    "\n",
    "ovr['elements'].shape"
   ]
  },
  {
   "cell_type": "code",
   "execution_count": 3,
   "id": "4cf6e0d0-b00d-40d6-81d9-e57170244936",
   "metadata": {},
   "outputs": [
    {
     "data": {
      "text/html": [
       "<div>\n",
       "<style scoped>\n",
       "    .dataframe tbody tr th:only-of-type {\n",
       "        vertical-align: middle;\n",
       "    }\n",
       "\n",
       "    .dataframe tbody tr th {\n",
       "        vertical-align: top;\n",
       "    }\n",
       "\n",
       "    .dataframe thead th {\n",
       "        text-align: right;\n",
       "    }\n",
       "</style>\n",
       "<table border=\"1\" class=\"dataframe\">\n",
       "  <thead>\n",
       "    <tr style=\"text-align: right;\">\n",
       "      <th></th>\n",
       "      <th>Names</th>\n",
       "      <th>total</th>\n",
       "      <th>elements</th>\n",
       "      <th>Unnamed: 3</th>\n",
       "      <th>IFNa</th>\n",
       "      <th>110</th>\n",
       "      <th>AASS</th>\n",
       "      <th>Unnamed: 7</th>\n",
       "      <th>IFNy</th>\n",
       "      <th>88</th>\n",
       "      <th>ANP32E</th>\n",
       "    </tr>\n",
       "  </thead>\n",
       "  <tbody>\n",
       "    <tr>\n",
       "      <th>0</th>\n",
       "      <td>IFNa IFNy</td>\n",
       "      <td>220.0</td>\n",
       "      <td>A2M</td>\n",
       "      <td>NaN</td>\n",
       "      <td>NaN</td>\n",
       "      <td>NaN</td>\n",
       "      <td>ANAPC4</td>\n",
       "      <td>NaN</td>\n",
       "      <td>NaN</td>\n",
       "      <td>NaN</td>\n",
       "      <td>APOL3</td>\n",
       "    </tr>\n",
       "    <tr>\n",
       "      <th>1</th>\n",
       "      <td>NaN</td>\n",
       "      <td>NaN</td>\n",
       "      <td>ACOT7</td>\n",
       "      <td>NaN</td>\n",
       "      <td>NaN</td>\n",
       "      <td>NaN</td>\n",
       "      <td>ANKFY1</td>\n",
       "      <td>NaN</td>\n",
       "      <td>NaN</td>\n",
       "      <td>NaN</td>\n",
       "      <td>ARF6</td>\n",
       "    </tr>\n",
       "  </tbody>\n",
       "</table>\n",
       "</div>"
      ],
      "text/plain": [
       "       Names  total elements  Unnamed: 3  IFNa  110    AASS  Unnamed: 7  IFNy  \\\n",
       "0  IFNa IFNy  220.0      A2M         NaN   NaN  NaN  ANAPC4         NaN   NaN   \n",
       "1        NaN    NaN    ACOT7         NaN   NaN  NaN  ANKFY1         NaN   NaN   \n",
       "\n",
       "   88 ANP32E  \n",
       "0 NaN  APOL3  \n",
       "1 NaN   ARF6  "
      ]
     },
     "execution_count": 3,
     "metadata": {},
     "output_type": "execute_result"
    }
   ],
   "source": [
    "ovr.head(2)"
   ]
  },
  {
   "cell_type": "code",
   "execution_count": 22,
   "id": "e3a1bed6-b18e-41ae-974d-55f6d4174d0c",
   "metadata": {},
   "outputs": [
    {
     "name": "stdout",
     "output_type": "stream",
     "text": [
      "(0,)\n",
      "(0,)\n",
      "***********\n",
      "(0, 11)\n",
      "(0, 11)\n"
     ]
    }
   ],
   "source": [
    "only_IFa = ovr['AASS'].iloc[0:109]\n",
    "only_IFy = ovr['ANP32E'].iloc[:87]\n",
    "\n",
    "print(only_IFa[only_IFa.isin(only_IFy)].shape)\n",
    "print(only_IFy[only_IFy.isin(only_IFa)].shape)\n",
    "\n",
    "print('***********')\n",
    "print(ovr[ovr['elements'].isin(only_IFa)].shape)\n",
    "print(ovr[ovr['elements'].isin(only_IFy)].shape)"
   ]
  },
  {
   "cell_type": "code",
   "execution_count": 23,
   "id": "0ab83aa8-8b5a-4e85-b35e-1e427feabf53",
   "metadata": {},
   "outputs": [],
   "source": [
    "only_IFa.to_csv('only_IFa.tsv', sep='\\t', index=False, header=None)\n",
    "only_IFy.to_csv('only_IFy.tsv', sep='\\t', index=False, header=None)\n"
   ]
  },
  {
   "cell_type": "markdown",
   "id": "7aef993d-88fe-4436-bb2a-5403aa4359c2",
   "metadata": {},
   "source": [
    "## IFNa"
   ]
  },
  {
   "cell_type": "code",
   "execution_count": 24,
   "id": "54c83981-0b74-4aaa-a2a5-960b2784aa86",
   "metadata": {},
   "outputs": [
    {
     "data": {
      "text/plain": [
       "Index(['level_0', 'level_1', 'gene', 'motfcol'], dtype='object')"
      ]
     },
     "execution_count": 24,
     "metadata": {},
     "output_type": "execute_result"
    }
   ],
   "source": [
    "# Loading motifs\n",
    "\n",
    "mtf = pd.read_csv(\"padj05/motifs_IFNa.tsv\", sep=\"\\t\")\n",
    "mtf.columns"
   ]
  },
  {
   "cell_type": "code",
   "execution_count": 25,
   "id": "160fde8b-0cbd-41c5-af20-676be1330535",
   "metadata": {},
   "outputs": [
    {
     "data": {
      "text/plain": [
       "array(['blue', 'orange', 'green'], dtype=object)"
      ]
     },
     "execution_count": 25,
     "metadata": {},
     "output_type": "execute_result"
    }
   ],
   "source": [
    "mtf['motfcol'].unique()"
   ]
  },
  {
   "cell_type": "code",
   "execution_count": 26,
   "id": "8f776f3d-1d18-4e58-bb68-a2fd592f9e4a",
   "metadata": {},
   "outputs": [
    {
     "data": {
      "text/plain": [
       "array(['composite', 'ISRE', 'GAS'], dtype=object)"
      ]
     },
     "execution_count": 26,
     "metadata": {},
     "output_type": "execute_result"
    }
   ],
   "source": [
    "mtf['level_1'].unique()"
   ]
  },
  {
   "cell_type": "code",
   "execution_count": 27,
   "id": "0e393ea3-36e7-4a57-9949-1357375f0ae3",
   "metadata": {},
   "outputs": [
    {
     "name": "stdout",
     "output_type": "stream",
     "text": [
      "Size:  (145,)\n",
      "Size:  (130,)\n",
      "Size:  (64,)\n"
     ]
    }
   ],
   "source": [
    "#GAS\n",
    "gas = mtf[mtf['motfcol'] == 'green'].iloc[:,2]\n",
    "\n",
    "#ISRE\n",
    "isre = mtf[mtf['motfcol'] == 'orange'].iloc[:,2]\n",
    "\n",
    "#COM\n",
    "comp = mtf[mtf['motfcol'] == 'blue'].iloc[:,2]\n",
    "\n",
    "for i in gas, isre, comp:\n",
    "    print('Size: ', i.shape)"
   ]
  },
  {
   "cell_type": "code",
   "execution_count": 28,
   "id": "fcc308dd-7599-4ac1-abea-686cdb7af938",
   "metadata": {},
   "outputs": [
    {
     "name": "stdout",
     "output_type": "stream",
     "text": [
      "Size:  (90,)\n",
      "Size:  (82,)\n",
      "Size:  (50,)\n"
     ]
    }
   ],
   "source": [
    "ovrlp_gas = ovrlp[ovrlp['symbol'].isin(gas)]\n",
    "ovrlp_isre = ovrlp[ovrlp['symbol'].isin(isre)]\n",
    "ovrlp_comp = ovrlp[ovrlp['symbol'].isin(comp)]\n",
    "\n",
    "for i in ovrlp_gas, ovrlp_isre, ovrlp_comp:\n",
    "    print('Size: ', i['symbol'].shape)"
   ]
  },
  {
   "cell_type": "code",
   "execution_count": 29,
   "id": "b2798fd0-cd43-4f15-8699-61c1e3637c3b",
   "metadata": {},
   "outputs": [
    {
     "name": "stdout",
     "output_type": "stream",
     "text": [
      "Empty DataFrame\n",
      "Columns: [symbol]\n",
      "Index: []\n",
      "Empty DataFrame\n",
      "Columns: [symbol]\n",
      "Index: []\n",
      "Empty DataFrame\n",
      "Columns: [symbol]\n",
      "Index: []\n"
     ]
    }
   ],
   "source": [
    "# Checking duplicates\n",
    "print(ovrlp_gas[ovrlp_gas.duplicated(subset=['symbol'])])\n",
    "print(ovrlp_isre[ovrlp_isre.duplicated(subset=['symbol'])])\n",
    "print(ovrlp_comp[ovrlp_comp.duplicated(subset=['symbol'])])"
   ]
  },
  {
   "cell_type": "code",
   "execution_count": 30,
   "id": "33ecb4fb-3c39-4a37-b145-da4d7f6cc9d8",
   "metadata": {},
   "outputs": [
    {
     "data": {
      "text/html": [
       "<div>\n",
       "<style scoped>\n",
       "    .dataframe tbody tr th:only-of-type {\n",
       "        vertical-align: middle;\n",
       "    }\n",
       "\n",
       "    .dataframe tbody tr th {\n",
       "        vertical-align: top;\n",
       "    }\n",
       "\n",
       "    .dataframe thead th {\n",
       "        text-align: right;\n",
       "    }\n",
       "</style>\n",
       "<table border=\"1\" class=\"dataframe\">\n",
       "  <thead>\n",
       "    <tr style=\"text-align: right;\">\n",
       "      <th></th>\n",
       "      <th>symbol</th>\n",
       "    </tr>\n",
       "  </thead>\n",
       "  <tbody>\n",
       "    <tr>\n",
       "      <th>0</th>\n",
       "      <td>NCOA7</td>\n",
       "    </tr>\n",
       "    <tr>\n",
       "      <th>1</th>\n",
       "      <td>NFKBIZ</td>\n",
       "    </tr>\n",
       "  </tbody>\n",
       "</table>\n",
       "</div>"
      ],
      "text/plain": [
       "   symbol\n",
       "0   NCOA7\n",
       "1  NFKBIZ"
      ]
     },
     "execution_count": 30,
     "metadata": {},
     "output_type": "execute_result"
    }
   ],
   "source": [
    "# Finding overlaps\n",
    "pd.merge(ovrlp_gas, ovrlp_isre, on=['symbol'])"
   ]
  },
  {
   "cell_type": "code",
   "execution_count": 31,
   "id": "1a362a2a-ec94-4c60-b407-c1b99d5a4403",
   "metadata": {},
   "outputs": [
    {
     "data": {
      "text/html": [
       "<div>\n",
       "<style scoped>\n",
       "    .dataframe tbody tr th:only-of-type {\n",
       "        vertical-align: middle;\n",
       "    }\n",
       "\n",
       "    .dataframe tbody tr th {\n",
       "        vertical-align: top;\n",
       "    }\n",
       "\n",
       "    .dataframe thead th {\n",
       "        text-align: right;\n",
       "    }\n",
       "</style>\n",
       "<table border=\"1\" class=\"dataframe\">\n",
       "  <thead>\n",
       "    <tr style=\"text-align: right;\">\n",
       "      <th></th>\n",
       "      <th>level_0</th>\n",
       "      <th>level_1</th>\n",
       "      <th>gene</th>\n",
       "      <th>motfcol</th>\n",
       "    </tr>\n",
       "  </thead>\n",
       "  <tbody>\n",
       "    <tr>\n",
       "      <th>119</th>\n",
       "      <td>39</td>\n",
       "      <td>GAS</td>\n",
       "      <td>FGB</td>\n",
       "      <td>green</td>\n",
       "    </tr>\n",
       "    <tr>\n",
       "      <th>194</th>\n",
       "      <td>65</td>\n",
       "      <td>ISRE</td>\n",
       "      <td>NCOA7</td>\n",
       "      <td>orange</td>\n",
       "    </tr>\n",
       "    <tr>\n",
       "      <th>198</th>\n",
       "      <td>67</td>\n",
       "      <td>ISRE</td>\n",
       "      <td>NFKBIZ</td>\n",
       "      <td>orange</td>\n",
       "    </tr>\n",
       "    <tr>\n",
       "      <th>221</th>\n",
       "      <td>78</td>\n",
       "      <td>GAS</td>\n",
       "      <td>NCOA7</td>\n",
       "      <td>green</td>\n",
       "    </tr>\n",
       "    <tr>\n",
       "      <th>225</th>\n",
       "      <td>80</td>\n",
       "      <td>GAS</td>\n",
       "      <td>NFKBIZ</td>\n",
       "      <td>green</td>\n",
       "    </tr>\n",
       "    <tr>\n",
       "      <th>262</th>\n",
       "      <td>99</td>\n",
       "      <td>ISRE</td>\n",
       "      <td>SHISA5</td>\n",
       "      <td>orange</td>\n",
       "    </tr>\n",
       "  </tbody>\n",
       "</table>\n",
       "</div>"
      ],
      "text/plain": [
       "     level_0 level_1    gene motfcol\n",
       "119       39     GAS     FGB   green\n",
       "194       65    ISRE   NCOA7  orange\n",
       "198       67    ISRE  NFKBIZ  orange\n",
       "221       78     GAS   NCOA7   green\n",
       "225       80     GAS  NFKBIZ   green\n",
       "262       99    ISRE  SHISA5  orange"
      ]
     },
     "execution_count": 31,
     "metadata": {},
     "output_type": "execute_result"
    }
   ],
   "source": [
    "mtf[mtf['gene'].isin(['NCOA7', 'NFKBIZ', 'FGB', 'SHISA5'])]"
   ]
  },
  {
   "cell_type": "code",
   "execution_count": 32,
   "id": "f7edaf33-5a4b-440c-8872-ea926c2714ad",
   "metadata": {},
   "outputs": [],
   "source": [
    "# Removing\n",
    "mtf.drop(index=[221,198], inplace=True)"
   ]
  },
  {
   "cell_type": "code",
   "execution_count": 33,
   "id": "1931d83e-33a1-4865-97bd-a7a916340ee0",
   "metadata": {},
   "outputs": [
    {
     "data": {
      "text/html": [
       "<div>\n",
       "<style scoped>\n",
       "    .dataframe tbody tr th:only-of-type {\n",
       "        vertical-align: middle;\n",
       "    }\n",
       "\n",
       "    .dataframe tbody tr th {\n",
       "        vertical-align: top;\n",
       "    }\n",
       "\n",
       "    .dataframe thead th {\n",
       "        text-align: right;\n",
       "    }\n",
       "</style>\n",
       "<table border=\"1\" class=\"dataframe\">\n",
       "  <thead>\n",
       "    <tr style=\"text-align: right;\">\n",
       "      <th></th>\n",
       "      <th>level_0</th>\n",
       "      <th>level_1</th>\n",
       "      <th>gene</th>\n",
       "      <th>motfcol</th>\n",
       "    </tr>\n",
       "  </thead>\n",
       "  <tbody>\n",
       "    <tr>\n",
       "      <th>119</th>\n",
       "      <td>39</td>\n",
       "      <td>GAS</td>\n",
       "      <td>FGB</td>\n",
       "      <td>green</td>\n",
       "    </tr>\n",
       "    <tr>\n",
       "      <th>194</th>\n",
       "      <td>65</td>\n",
       "      <td>ISRE</td>\n",
       "      <td>NCOA7</td>\n",
       "      <td>orange</td>\n",
       "    </tr>\n",
       "    <tr>\n",
       "      <th>225</th>\n",
       "      <td>80</td>\n",
       "      <td>GAS</td>\n",
       "      <td>NFKBIZ</td>\n",
       "      <td>green</td>\n",
       "    </tr>\n",
       "    <tr>\n",
       "      <th>262</th>\n",
       "      <td>99</td>\n",
       "      <td>ISRE</td>\n",
       "      <td>SHISA5</td>\n",
       "      <td>orange</td>\n",
       "    </tr>\n",
       "  </tbody>\n",
       "</table>\n",
       "</div>"
      ],
      "text/plain": [
       "     level_0 level_1    gene motfcol\n",
       "119       39     GAS     FGB   green\n",
       "194       65    ISRE   NCOA7  orange\n",
       "225       80     GAS  NFKBIZ   green\n",
       "262       99    ISRE  SHISA5  orange"
      ]
     },
     "execution_count": 33,
     "metadata": {},
     "output_type": "execute_result"
    }
   ],
   "source": [
    "mtf[mtf['gene'].isin(['NCOA7', 'NFKBIZ', 'FGB', 'SHISA5'])]"
   ]
  },
  {
   "cell_type": "code",
   "execution_count": 34,
   "id": "e4a256f9-40c5-470c-b8e1-33129ed5cdf2",
   "metadata": {},
   "outputs": [],
   "source": [
    "mtf.loc[119,['level_1', 'motfcol']] = ['ISRE', 'orange']"
   ]
  },
  {
   "cell_type": "code",
   "execution_count": 35,
   "id": "79ebd354-ccac-4967-8e40-a573cabc1714",
   "metadata": {},
   "outputs": [],
   "source": [
    "mtf.loc[262, ['level_1', 'motfcol']] = ['composite', 'blue']\n"
   ]
  },
  {
   "cell_type": "code",
   "execution_count": 36,
   "id": "5c7a6acf-f1d0-4a17-8ccd-fe9ec5a8a19d",
   "metadata": {},
   "outputs": [],
   "source": [
    "mtf.loc[194,['level_1', 'motfcol']] = ['composite', 'blue']\n"
   ]
  },
  {
   "cell_type": "code",
   "execution_count": 37,
   "id": "5321eda1-4595-4c84-9567-ba390ff89034",
   "metadata": {},
   "outputs": [
    {
     "data": {
      "text/html": [
       "<div>\n",
       "<style scoped>\n",
       "    .dataframe tbody tr th:only-of-type {\n",
       "        vertical-align: middle;\n",
       "    }\n",
       "\n",
       "    .dataframe tbody tr th {\n",
       "        vertical-align: top;\n",
       "    }\n",
       "\n",
       "    .dataframe thead th {\n",
       "        text-align: right;\n",
       "    }\n",
       "</style>\n",
       "<table border=\"1\" class=\"dataframe\">\n",
       "  <thead>\n",
       "    <tr style=\"text-align: right;\">\n",
       "      <th></th>\n",
       "      <th>level_0</th>\n",
       "      <th>level_1</th>\n",
       "      <th>gene</th>\n",
       "      <th>motfcol</th>\n",
       "    </tr>\n",
       "  </thead>\n",
       "  <tbody>\n",
       "    <tr>\n",
       "      <th>119</th>\n",
       "      <td>39</td>\n",
       "      <td>ISRE</td>\n",
       "      <td>FGB</td>\n",
       "      <td>orange</td>\n",
       "    </tr>\n",
       "    <tr>\n",
       "      <th>194</th>\n",
       "      <td>65</td>\n",
       "      <td>composite</td>\n",
       "      <td>NCOA7</td>\n",
       "      <td>blue</td>\n",
       "    </tr>\n",
       "    <tr>\n",
       "      <th>225</th>\n",
       "      <td>80</td>\n",
       "      <td>GAS</td>\n",
       "      <td>NFKBIZ</td>\n",
       "      <td>green</td>\n",
       "    </tr>\n",
       "    <tr>\n",
       "      <th>262</th>\n",
       "      <td>99</td>\n",
       "      <td>composite</td>\n",
       "      <td>SHISA5</td>\n",
       "      <td>blue</td>\n",
       "    </tr>\n",
       "  </tbody>\n",
       "</table>\n",
       "</div>"
      ],
      "text/plain": [
       "     level_0    level_1    gene motfcol\n",
       "119       39       ISRE     FGB  orange\n",
       "194       65  composite   NCOA7    blue\n",
       "225       80        GAS  NFKBIZ   green\n",
       "262       99  composite  SHISA5    blue"
      ]
     },
     "execution_count": 37,
     "metadata": {},
     "output_type": "execute_result"
    }
   ],
   "source": [
    "mtf[mtf['gene'].isin(['NCOA7', 'NFKBIZ', 'FGB', 'SHISA5'])]"
   ]
  },
  {
   "cell_type": "code",
   "execution_count": 38,
   "id": "21a489e2-e5a9-4de4-b875-a2eb42fcfb88",
   "metadata": {},
   "outputs": [
    {
     "data": {
      "text/html": [
       "<div>\n",
       "<style scoped>\n",
       "    .dataframe tbody tr th:only-of-type {\n",
       "        vertical-align: middle;\n",
       "    }\n",
       "\n",
       "    .dataframe tbody tr th {\n",
       "        vertical-align: top;\n",
       "    }\n",
       "\n",
       "    .dataframe thead th {\n",
       "        text-align: right;\n",
       "    }\n",
       "</style>\n",
       "<table border=\"1\" class=\"dataframe\">\n",
       "  <thead>\n",
       "    <tr style=\"text-align: right;\">\n",
       "      <th></th>\n",
       "      <th>symbol</th>\n",
       "    </tr>\n",
       "  </thead>\n",
       "  <tbody>\n",
       "  </tbody>\n",
       "</table>\n",
       "</div>"
      ],
      "text/plain": [
       "Empty DataFrame\n",
       "Columns: [symbol]\n",
       "Index: []"
      ]
     },
     "execution_count": 38,
     "metadata": {},
     "output_type": "execute_result"
    }
   ],
   "source": [
    "pd.merge(ovrlp_gas, ovrlp_comp, on=[\"symbol\"])"
   ]
  },
  {
   "cell_type": "code",
   "execution_count": 39,
   "id": "e1b42e90-f9a3-4555-afe9-ee510af7d0ee",
   "metadata": {},
   "outputs": [
    {
     "data": {
      "text/html": [
       "<div>\n",
       "<style scoped>\n",
       "    .dataframe tbody tr th:only-of-type {\n",
       "        vertical-align: middle;\n",
       "    }\n",
       "\n",
       "    .dataframe tbody tr th {\n",
       "        vertical-align: top;\n",
       "    }\n",
       "\n",
       "    .dataframe thead th {\n",
       "        text-align: right;\n",
       "    }\n",
       "</style>\n",
       "<table border=\"1\" class=\"dataframe\">\n",
       "  <thead>\n",
       "    <tr style=\"text-align: right;\">\n",
       "      <th></th>\n",
       "      <th>symbol</th>\n",
       "    </tr>\n",
       "  </thead>\n",
       "  <tbody>\n",
       "  </tbody>\n",
       "</table>\n",
       "</div>"
      ],
      "text/plain": [
       "Empty DataFrame\n",
       "Columns: [symbol]\n",
       "Index: []"
      ]
     },
     "execution_count": 39,
     "metadata": {},
     "output_type": "execute_result"
    }
   ],
   "source": [
    "pd.merge(ovrlp_isre, ovrlp_comp, on=['symbol'])"
   ]
  },
  {
   "cell_type": "code",
   "execution_count": 40,
   "id": "aa36a0aa-fd08-4086-95be-684463341f58",
   "metadata": {},
   "outputs": [],
   "source": [
    "mtf_a = mtf.copy()\n",
    "\n",
    "# Saving motif annotations for IFNa\n",
    "# mtf.to_csv(\"motifs_IFNa_latest.tsv\", index=False, sep=\"\\t\")"
   ]
  },
  {
   "cell_type": "code",
   "execution_count": 41,
   "id": "f4e79aa8-2ed0-4668-af32-c2158f799540",
   "metadata": {},
   "outputs": [
    {
     "name": "stdout",
     "output_type": "stream",
     "text": [
      "Size:  (143,)\n",
      "Size:  (128,)\n",
      "Size:  (66,)\n"
     ]
    }
   ],
   "source": [
    "#GAS\n",
    "gas = mtf_a[mtf_a['motfcol'] == 'green'].iloc[:,2]\n",
    "\n",
    "#ISRE\n",
    "isre = mtf_a[mtf_a['motfcol'] == 'orange'].iloc[:,2]\n",
    "\n",
    "#COM\n",
    "comp = mtf_a[mtf_a['motfcol'] == 'blue'].iloc[:,2]\n",
    "\n",
    "for i in gas, isre, comp:\n",
    "    print('Size: ', i.shape)"
   ]
  },
  {
   "cell_type": "code",
   "execution_count": 42,
   "id": "8a46d2e0-e3f1-41bc-8d66-bec2ad99301b",
   "metadata": {},
   "outputs": [
    {
     "name": "stdout",
     "output_type": "stream",
     "text": [
      "Size:  (88,)\n",
      "Size:  (80,)\n",
      "Size:  (52,)\n"
     ]
    }
   ],
   "source": [
    "ovrlp_gas = ovrlp[ovrlp['symbol'].isin(gas)]\n",
    "ovrlp_isre = ovrlp[ovrlp['symbol'].isin(isre)]\n",
    "ovrlp_comp = ovrlp[ovrlp['symbol'].isin(comp)]\n",
    "\n",
    "for i in ovrlp_gas, ovrlp_isre, ovrlp_comp:\n",
    "    print('Size: ', i['symbol'].shape)"
   ]
  },
  {
   "cell_type": "code",
   "execution_count": 43,
   "id": "256102dc-d35d-4a87-b3d1-e6a02bfda0d8",
   "metadata": {},
   "outputs": [
    {
     "data": {
      "text/plain": [
       "220"
      ]
     },
     "execution_count": 43,
     "metadata": {},
     "output_type": "execute_result"
    }
   ],
   "source": [
    "89 + 80 + 51"
   ]
  },
  {
   "cell_type": "code",
   "execution_count": 279,
   "id": "480a206b-52b6-419a-b7d3-031743d5c6f2",
   "metadata": {},
   "outputs": [],
   "source": [
    "# Saving\n",
    "\n",
    "ovrlp_gas.to_csv(\"ovrlp_gas_a.tsv\", index=False, sep=\"\\t\", header=None)\n",
    "ovrlp_isre.to_csv(\"ovrlp_isre_a.tsv\", index=False, sep=\"\\t\", header=None)\n",
    "ovrlp_comp.to_csv(\"ovrlp_comp_a.tsv\", index=False, sep=\"\\t\", header=None)"
   ]
  },
  {
   "cell_type": "markdown",
   "id": "7362eab3-18d5-4f1c-ba52-3d0e9efb1c6e",
   "metadata": {},
   "source": [
    "## IFNg "
   ]
  },
  {
   "cell_type": "code",
   "execution_count": 23,
   "id": "856e129f-8f6e-4e9a-86f6-ec1b5f6ea703",
   "metadata": {},
   "outputs": [
    {
     "data": {
      "text/plain": [
       "Index(['level_0', 'level_1', 'symbol', 'motfcol'], dtype='object')"
      ]
     },
     "execution_count": 23,
     "metadata": {},
     "output_type": "execute_result"
    }
   ],
   "source": [
    "# Loading motifs\n",
    "\n",
    "mtf = pd.read_csv(\"padj05/motifs_IFNy.tsv\", sep=\"\\t\")\n",
    "mtf.columns"
   ]
  },
  {
   "cell_type": "code",
   "execution_count": 24,
   "id": "df7b4523-e477-453c-a6d7-c371b2cd8394",
   "metadata": {},
   "outputs": [
    {
     "data": {
      "text/plain": [
       "array(['blue', 'green', 'orange'], dtype=object)"
      ]
     },
     "execution_count": 24,
     "metadata": {},
     "output_type": "execute_result"
    }
   ],
   "source": [
    "mtf['motfcol'].unique()"
   ]
  },
  {
   "cell_type": "code",
   "execution_count": 25,
   "id": "7969f121-f534-4d1e-98e1-c34199a86a58",
   "metadata": {},
   "outputs": [
    {
     "name": "stdout",
     "output_type": "stream",
     "text": [
      "Size:  (141,)\n",
      "Size:  (123,)\n",
      "Size:  (55,)\n"
     ]
    }
   ],
   "source": [
    "#GAS\n",
    "gas = mtf[mtf['motfcol'] == 'green'].iloc[:,2]\n",
    "\n",
    "#ISRE\n",
    "isre = mtf[mtf['motfcol'] == 'orange'].iloc[:,2]\n",
    "\n",
    "#COM\n",
    "comp = mtf[mtf['motfcol'] == 'blue'].iloc[:,2]\n",
    "\n",
    "for i in gas, isre, comp:\n",
    "    print('Size: ', i.shape)"
   ]
  },
  {
   "cell_type": "code",
   "execution_count": 26,
   "id": "627ec760-82e3-4ee6-b9c7-63e08467bed0",
   "metadata": {},
   "outputs": [
    {
     "name": "stdout",
     "output_type": "stream",
     "text": [
      "Size:  (91, 1)\n",
      "Size:  (89, 1)\n",
      "Size:  (44, 1)\n"
     ]
    }
   ],
   "source": [
    "################# Ovelapping genes between IFa & IFg\n",
    "ovrlp_gas = ovrlp[ovrlp['symbol'].isin(gas)]\n",
    "ovrlp_isre = ovrlp[ovrlp['symbol'].isin(isre)]\n",
    "ovrlp_comp = ovrlp[ovrlp['symbol'].isin(comp)]\n",
    "\n",
    "for i in ovrlp_gas, ovrlp_isre, ovrlp_comp:\n",
    "    print('Size: ', i.shape)"
   ]
  },
  {
   "cell_type": "code",
   "execution_count": 27,
   "id": "d9f8dd14-3d09-479f-905e-8b0036cde57c",
   "metadata": {},
   "outputs": [
    {
     "data": {
      "text/html": [
       "<div>\n",
       "<style scoped>\n",
       "    .dataframe tbody tr th:only-of-type {\n",
       "        vertical-align: middle;\n",
       "    }\n",
       "\n",
       "    .dataframe tbody tr th {\n",
       "        vertical-align: top;\n",
       "    }\n",
       "\n",
       "    .dataframe thead th {\n",
       "        text-align: right;\n",
       "    }\n",
       "</style>\n",
       "<table border=\"1\" class=\"dataframe\">\n",
       "  <thead>\n",
       "    <tr style=\"text-align: right;\">\n",
       "      <th></th>\n",
       "      <th>symbol</th>\n",
       "    </tr>\n",
       "  </thead>\n",
       "  <tbody>\n",
       "    <tr>\n",
       "      <th>0</th>\n",
       "      <td>FGB</td>\n",
       "    </tr>\n",
       "    <tr>\n",
       "      <th>1</th>\n",
       "      <td>NCOA7</td>\n",
       "    </tr>\n",
       "    <tr>\n",
       "      <th>2</th>\n",
       "      <td>NFKBIZ</td>\n",
       "    </tr>\n",
       "    <tr>\n",
       "      <th>3</th>\n",
       "      <td>SHISA5</td>\n",
       "    </tr>\n",
       "  </tbody>\n",
       "</table>\n",
       "</div>"
      ],
      "text/plain": [
       "   symbol\n",
       "0     FGB\n",
       "1   NCOA7\n",
       "2  NFKBIZ\n",
       "3  SHISA5"
      ]
     },
     "execution_count": 27,
     "metadata": {},
     "output_type": "execute_result"
    }
   ],
   "source": [
    "pd.merge(ovrlp_gas, ovrlp_isre, on=['symbol'])"
   ]
  },
  {
   "cell_type": "code",
   "execution_count": 28,
   "id": "1d0e2576-14a7-40f9-b450-a2a841c2b724",
   "metadata": {},
   "outputs": [
    {
     "data": {
      "text/html": [
       "<div>\n",
       "<style scoped>\n",
       "    .dataframe tbody tr th:only-of-type {\n",
       "        vertical-align: middle;\n",
       "    }\n",
       "\n",
       "    .dataframe tbody tr th {\n",
       "        vertical-align: top;\n",
       "    }\n",
       "\n",
       "    .dataframe thead th {\n",
       "        text-align: right;\n",
       "    }\n",
       "</style>\n",
       "<table border=\"1\" class=\"dataframe\">\n",
       "  <thead>\n",
       "    <tr style=\"text-align: right;\">\n",
       "      <th></th>\n",
       "      <th>level_0</th>\n",
       "      <th>level_1</th>\n",
       "      <th>symbol</th>\n",
       "      <th>motfcol</th>\n",
       "    </tr>\n",
       "  </thead>\n",
       "  <tbody>\n",
       "    <tr>\n",
       "      <th>101</th>\n",
       "      <td>33</td>\n",
       "      <td>ISRE</td>\n",
       "      <td>FGB</td>\n",
       "      <td>orange</td>\n",
       "    </tr>\n",
       "    <tr>\n",
       "      <th>118</th>\n",
       "      <td>39</td>\n",
       "      <td>GAS</td>\n",
       "      <td>FGB</td>\n",
       "      <td>green</td>\n",
       "    </tr>\n",
       "    <tr>\n",
       "      <th>176</th>\n",
       "      <td>60</td>\n",
       "      <td>ISRE</td>\n",
       "      <td>NCOA7</td>\n",
       "      <td>orange</td>\n",
       "    </tr>\n",
       "    <tr>\n",
       "      <th>182</th>\n",
       "      <td>63</td>\n",
       "      <td>ISRE</td>\n",
       "      <td>NFKBIZ</td>\n",
       "      <td>orange</td>\n",
       "    </tr>\n",
       "    <tr>\n",
       "      <th>207</th>\n",
       "      <td>76</td>\n",
       "      <td>GAS</td>\n",
       "      <td>NCOA7</td>\n",
       "      <td>green</td>\n",
       "    </tr>\n",
       "    <tr>\n",
       "      <th>215</th>\n",
       "      <td>80</td>\n",
       "      <td>GAS</td>\n",
       "      <td>NFKBIZ</td>\n",
       "      <td>green</td>\n",
       "    </tr>\n",
       "    <tr>\n",
       "      <th>244</th>\n",
       "      <td>94</td>\n",
       "      <td>ISRE</td>\n",
       "      <td>SHISA5</td>\n",
       "      <td>orange</td>\n",
       "    </tr>\n",
       "    <tr>\n",
       "      <th>283</th>\n",
       "      <td>114</td>\n",
       "      <td>GAS</td>\n",
       "      <td>SHISA5</td>\n",
       "      <td>green</td>\n",
       "    </tr>\n",
       "  </tbody>\n",
       "</table>\n",
       "</div>"
      ],
      "text/plain": [
       "     level_0 level_1  symbol motfcol\n",
       "101       33    ISRE     FGB  orange\n",
       "118       39     GAS     FGB   green\n",
       "176       60    ISRE   NCOA7  orange\n",
       "182       63    ISRE  NFKBIZ  orange\n",
       "207       76     GAS   NCOA7   green\n",
       "215       80     GAS  NFKBIZ   green\n",
       "244       94    ISRE  SHISA5  orange\n",
       "283      114     GAS  SHISA5   green"
      ]
     },
     "execution_count": 28,
     "metadata": {},
     "output_type": "execute_result"
    }
   ],
   "source": [
    "mtf[mtf['symbol'].isin(['FGB', 'NCOA7', 'NFKBIZ', 'SHISA5'])]"
   ]
  },
  {
   "cell_type": "code",
   "execution_count": 29,
   "id": "34ccdea1-d40b-40d9-a4e9-ff84a8792e89",
   "metadata": {},
   "outputs": [],
   "source": [
    "mtf.drop(index=[118,207,283,182], inplace=True)"
   ]
  },
  {
   "cell_type": "code",
   "execution_count": 30,
   "id": "bb4fd0b7-aa6d-4de2-8a6c-f4a9a1ac541a",
   "metadata": {},
   "outputs": [
    {
     "data": {
      "text/html": [
       "<div>\n",
       "<style scoped>\n",
       "    .dataframe tbody tr th:only-of-type {\n",
       "        vertical-align: middle;\n",
       "    }\n",
       "\n",
       "    .dataframe tbody tr th {\n",
       "        vertical-align: top;\n",
       "    }\n",
       "\n",
       "    .dataframe thead th {\n",
       "        text-align: right;\n",
       "    }\n",
       "</style>\n",
       "<table border=\"1\" class=\"dataframe\">\n",
       "  <thead>\n",
       "    <tr style=\"text-align: right;\">\n",
       "      <th></th>\n",
       "      <th>level_0</th>\n",
       "      <th>level_1</th>\n",
       "      <th>symbol</th>\n",
       "      <th>motfcol</th>\n",
       "    </tr>\n",
       "  </thead>\n",
       "  <tbody>\n",
       "    <tr>\n",
       "      <th>101</th>\n",
       "      <td>33</td>\n",
       "      <td>ISRE</td>\n",
       "      <td>FGB</td>\n",
       "      <td>orange</td>\n",
       "    </tr>\n",
       "    <tr>\n",
       "      <th>176</th>\n",
       "      <td>60</td>\n",
       "      <td>ISRE</td>\n",
       "      <td>NCOA7</td>\n",
       "      <td>orange</td>\n",
       "    </tr>\n",
       "    <tr>\n",
       "      <th>215</th>\n",
       "      <td>80</td>\n",
       "      <td>GAS</td>\n",
       "      <td>NFKBIZ</td>\n",
       "      <td>green</td>\n",
       "    </tr>\n",
       "    <tr>\n",
       "      <th>244</th>\n",
       "      <td>94</td>\n",
       "      <td>ISRE</td>\n",
       "      <td>SHISA5</td>\n",
       "      <td>orange</td>\n",
       "    </tr>\n",
       "  </tbody>\n",
       "</table>\n",
       "</div>"
      ],
      "text/plain": [
       "     level_0 level_1  symbol motfcol\n",
       "101       33    ISRE     FGB  orange\n",
       "176       60    ISRE   NCOA7  orange\n",
       "215       80     GAS  NFKBIZ   green\n",
       "244       94    ISRE  SHISA5  orange"
      ]
     },
     "execution_count": 30,
     "metadata": {},
     "output_type": "execute_result"
    }
   ],
   "source": [
    "mtf[mtf['symbol'].isin(['FGB', 'NCOA7', 'NFKBIZ', 'SHISA5'])]"
   ]
  },
  {
   "cell_type": "code",
   "execution_count": 31,
   "id": "fb372870-9589-41bf-983d-688100856d82",
   "metadata": {},
   "outputs": [],
   "source": [
    "mtf.loc[176, ['level_1', 'motfcol']] = ['composite', 'blue']"
   ]
  },
  {
   "cell_type": "code",
   "execution_count": 32,
   "id": "ecdd6ce8-781b-4e1a-aa7d-148ee4b0b84b",
   "metadata": {},
   "outputs": [],
   "source": [
    "mtf.loc[244, ['level_1', 'motfcol']] = ['composite', 'blue']"
   ]
  },
  {
   "cell_type": "code",
   "execution_count": 33,
   "id": "7621c0ba-373c-4083-af0f-0f64159b9c76",
   "metadata": {},
   "outputs": [
    {
     "data": {
      "text/html": [
       "<div>\n",
       "<style scoped>\n",
       "    .dataframe tbody tr th:only-of-type {\n",
       "        vertical-align: middle;\n",
       "    }\n",
       "\n",
       "    .dataframe tbody tr th {\n",
       "        vertical-align: top;\n",
       "    }\n",
       "\n",
       "    .dataframe thead th {\n",
       "        text-align: right;\n",
       "    }\n",
       "</style>\n",
       "<table border=\"1\" class=\"dataframe\">\n",
       "  <thead>\n",
       "    <tr style=\"text-align: right;\">\n",
       "      <th></th>\n",
       "      <th>level_0</th>\n",
       "      <th>level_1</th>\n",
       "      <th>symbol</th>\n",
       "      <th>motfcol</th>\n",
       "    </tr>\n",
       "  </thead>\n",
       "  <tbody>\n",
       "    <tr>\n",
       "      <th>101</th>\n",
       "      <td>33</td>\n",
       "      <td>ISRE</td>\n",
       "      <td>FGB</td>\n",
       "      <td>orange</td>\n",
       "    </tr>\n",
       "    <tr>\n",
       "      <th>176</th>\n",
       "      <td>60</td>\n",
       "      <td>composite</td>\n",
       "      <td>NCOA7</td>\n",
       "      <td>blue</td>\n",
       "    </tr>\n",
       "    <tr>\n",
       "      <th>215</th>\n",
       "      <td>80</td>\n",
       "      <td>GAS</td>\n",
       "      <td>NFKBIZ</td>\n",
       "      <td>green</td>\n",
       "    </tr>\n",
       "    <tr>\n",
       "      <th>244</th>\n",
       "      <td>94</td>\n",
       "      <td>composite</td>\n",
       "      <td>SHISA5</td>\n",
       "      <td>blue</td>\n",
       "    </tr>\n",
       "  </tbody>\n",
       "</table>\n",
       "</div>"
      ],
      "text/plain": [
       "     level_0    level_1  symbol motfcol\n",
       "101       33       ISRE     FGB  orange\n",
       "176       60  composite   NCOA7    blue\n",
       "215       80        GAS  NFKBIZ   green\n",
       "244       94  composite  SHISA5    blue"
      ]
     },
     "execution_count": 33,
     "metadata": {},
     "output_type": "execute_result"
    }
   ],
   "source": [
    "mtf[mtf['symbol'].isin(['FGB', 'NCOA7', 'NFKBIZ', 'SHISA5'])]"
   ]
  },
  {
   "cell_type": "code",
   "execution_count": 34,
   "id": "28895f2c-2c46-4aa6-a9dc-5d424ca32250",
   "metadata": {},
   "outputs": [
    {
     "data": {
      "text/html": [
       "<div>\n",
       "<style scoped>\n",
       "    .dataframe tbody tr th:only-of-type {\n",
       "        vertical-align: middle;\n",
       "    }\n",
       "\n",
       "    .dataframe tbody tr th {\n",
       "        vertical-align: top;\n",
       "    }\n",
       "\n",
       "    .dataframe thead th {\n",
       "        text-align: right;\n",
       "    }\n",
       "</style>\n",
       "<table border=\"1\" class=\"dataframe\">\n",
       "  <thead>\n",
       "    <tr style=\"text-align: right;\">\n",
       "      <th></th>\n",
       "      <th>symbol</th>\n",
       "    </tr>\n",
       "  </thead>\n",
       "  <tbody>\n",
       "  </tbody>\n",
       "</table>\n",
       "</div>"
      ],
      "text/plain": [
       "Empty DataFrame\n",
       "Columns: [symbol]\n",
       "Index: []"
      ]
     },
     "execution_count": 34,
     "metadata": {},
     "output_type": "execute_result"
    }
   ],
   "source": [
    "pd.merge(ovrlp_gas, ovrlp_comp, on=['symbol'])"
   ]
  },
  {
   "cell_type": "code",
   "execution_count": 35,
   "id": "ca6461dc-c089-48c5-a0ff-182bf53960eb",
   "metadata": {},
   "outputs": [
    {
     "data": {
      "text/html": [
       "<div>\n",
       "<style scoped>\n",
       "    .dataframe tbody tr th:only-of-type {\n",
       "        vertical-align: middle;\n",
       "    }\n",
       "\n",
       "    .dataframe tbody tr th {\n",
       "        vertical-align: top;\n",
       "    }\n",
       "\n",
       "    .dataframe thead th {\n",
       "        text-align: right;\n",
       "    }\n",
       "</style>\n",
       "<table border=\"1\" class=\"dataframe\">\n",
       "  <thead>\n",
       "    <tr style=\"text-align: right;\">\n",
       "      <th></th>\n",
       "      <th>symbol</th>\n",
       "    </tr>\n",
       "  </thead>\n",
       "  <tbody>\n",
       "  </tbody>\n",
       "</table>\n",
       "</div>"
      ],
      "text/plain": [
       "Empty DataFrame\n",
       "Columns: [symbol]\n",
       "Index: []"
      ]
     },
     "execution_count": 35,
     "metadata": {},
     "output_type": "execute_result"
    }
   ],
   "source": [
    "pd.merge(ovrlp_isre, ovrlp_comp, on=['symbol'])"
   ]
  },
  {
   "cell_type": "code",
   "execution_count": 36,
   "id": "4c8e9b48-c3fd-40c3-8584-a816a54bf2a2",
   "metadata": {},
   "outputs": [],
   "source": [
    "mtf_g = mtf.copy()\n",
    "\n",
    "# Saving motif annotations for IFNg\n",
    "# mtf_g.to_csv(\"motifs_IFNg_latest.tsv\", index=False, sep=\"\\t\")\n"
   ]
  },
  {
   "cell_type": "code",
   "execution_count": 37,
   "id": "3f1413c9-eff6-4d82-a3ae-aabc4e005386",
   "metadata": {},
   "outputs": [
    {
     "name": "stdout",
     "output_type": "stream",
     "text": [
      "Size:  (138,)\n",
      "Size:  (120,)\n",
      "Size:  (57,)\n"
     ]
    }
   ],
   "source": [
    "#GAS\n",
    "gas = mtf_g[mtf_g['motfcol'] == 'green'].iloc[:,2]\n",
    "\n",
    "#ISRE\n",
    "isre = mtf_g[mtf_g['motfcol'] == 'orange'].iloc[:,2]\n",
    "\n",
    "#COM\n",
    "comp = mtf_g[mtf_g['motfcol'] == 'blue'].iloc[:,2]\n",
    "\n",
    "for i in gas, isre, comp:\n",
    "    print('Size: ', i.shape)"
   ]
  },
  {
   "cell_type": "code",
   "execution_count": 38,
   "id": "ddf40de1-b02a-41d2-bb5e-6ee5805f97c4",
   "metadata": {},
   "outputs": [
    {
     "name": "stdout",
     "output_type": "stream",
     "text": [
      "Size:  (88, 1)\n",
      "Size:  (86, 1)\n",
      "Size:  (46, 1)\n"
     ]
    }
   ],
   "source": [
    "################# Ovelapping genes between IFa & IFg\n",
    "ovrlp_gas = ovrlp[ovrlp['symbol'].isin(gas)]\n",
    "ovrlp_isre = ovrlp[ovrlp['symbol'].isin(isre)]\n",
    "ovrlp_comp = ovrlp[ovrlp['symbol'].isin(comp)]\n",
    "\n",
    "for i in ovrlp_gas, ovrlp_isre, ovrlp_comp:\n",
    "    print('Size: ', i.shape)"
   ]
  },
  {
   "cell_type": "code",
   "execution_count": 39,
   "id": "a4f066f6-e97e-4da2-b030-85a68573e8bc",
   "metadata": {},
   "outputs": [
    {
     "data": {
      "text/plain": [
       "220"
      ]
     },
     "execution_count": 39,
     "metadata": {},
     "output_type": "execute_result"
    }
   ],
   "source": [
    "88 + 86 + 46"
   ]
  },
  {
   "cell_type": "code",
   "execution_count": 40,
   "id": "3a833a61-af47-47eb-97bb-3ffd236dc2f6",
   "metadata": {},
   "outputs": [
    {
     "name": "stdout",
     "output_type": "stream",
     "text": [
      "(319, 4)\n",
      "Size:  (134,)\n",
      "Size:  (117,)\n",
      "Size:  (57,)\n"
     ]
    }
   ],
   "source": [
    "########################### IFNg genes\n",
    "IFNg = pd.read_csv(\"padj05/IFNy/IFNy_MRGgene.tsv\", sep=\"\\t\")\n",
    "print(IFNg.shape)\n",
    "\n",
    "IFNg_gas = IFNg[IFNg['symbol'].isin(gas)].iloc[:,0].drop_duplicates()\n",
    "\n",
    "IFNg_isre = IFNg[IFNg['symbol'].isin(isre)].iloc[:,0].drop_duplicates()\n",
    "\n",
    "IFNg_comp = IFNg[IFNg['symbol'].isin(comp)].iloc[:,0].drop_duplicates()\n",
    "\n",
    "for i in IFNg_gas, IFNg_isre, IFNg_comp:\n",
    "    print(\"Size: \", i.shape)"
   ]
  },
  {
   "cell_type": "code",
   "execution_count": 298,
   "id": "cb1ee10f-dffc-41e5-8312-0db9ca56d6f2",
   "metadata": {},
   "outputs": [],
   "source": [
    "# Saving\n",
    "\n",
    "#IFNg_gas.to_csv(\"IFNg_gas.tsv\", index=False, sep=\"\\t\", header=None)\n",
    "#IFNg_isre.to_csv(\"IFNg_isre.tsv\", index=False, sep=\"\\t\", header=None)\n",
    "#IFNg_comp.to_csv(\"IFNg_comp.tsv\", index=False, sep=\"\\t\", header=None)"
   ]
  },
  {
   "cell_type": "code",
   "execution_count": 41,
   "id": "4fd0b78a-0cb3-458c-9e88-9b02367e2058",
   "metadata": {},
   "outputs": [
    {
     "name": "stdout",
     "output_type": "stream",
     "text": [
      "size:  (337, 4)\n",
      "size:  (315, 4)\n"
     ]
    }
   ],
   "source": [
    "# Making a unified list for motif annotations\n",
    "\n",
    "for i in mtf_a, mtf_g:\n",
    "    print(\"size: \", i.shape)"
   ]
  },
  {
   "cell_type": "code",
   "execution_count": 42,
   "id": "cf57035c-8b6d-4984-9486-bc10f9c7580b",
   "metadata": {},
   "outputs": [
    {
     "name": "stdout",
     "output_type": "stream",
     "text": [
      "Index(['level_0', 'level_1', 'gene', 'motfcol'], dtype='object')\n",
      "Index(['level_0', 'level_1', 'symbol', 'motfcol'], dtype='object')\n"
     ]
    }
   ],
   "source": [
    "print(mtf_a.columns)\n",
    "print(mtf_g.columns)"
   ]
  },
  {
   "cell_type": "code",
   "execution_count": 43,
   "id": "6cf205f7-d9c9-47a5-8332-1bd9318ec9f6",
   "metadata": {},
   "outputs": [
    {
     "data": {
      "text/plain": [
       "(236, 8)"
      ]
     },
     "execution_count": 43,
     "metadata": {},
     "output_type": "execute_result"
    }
   ],
   "source": [
    "mtf_ag = pd.merge(mtf_a, mtf_g, left_on='gene', right_on='symbol')\n",
    "mtf_ag.shape"
   ]
  },
  {
   "cell_type": "code",
   "execution_count": 44,
   "id": "59a97fde-90e2-4f72-85ac-e2ee38f28792",
   "metadata": {},
   "outputs": [
    {
     "data": {
      "text/html": [
       "<div>\n",
       "<style scoped>\n",
       "    .dataframe tbody tr th:only-of-type {\n",
       "        vertical-align: middle;\n",
       "    }\n",
       "\n",
       "    .dataframe tbody tr th {\n",
       "        vertical-align: top;\n",
       "    }\n",
       "\n",
       "    .dataframe thead th {\n",
       "        text-align: right;\n",
       "    }\n",
       "</style>\n",
       "<table border=\"1\" class=\"dataframe\">\n",
       "  <thead>\n",
       "    <tr style=\"text-align: right;\">\n",
       "      <th></th>\n",
       "      <th>level_0_x</th>\n",
       "      <th>level_1_x</th>\n",
       "      <th>gene</th>\n",
       "      <th>motfcol_x</th>\n",
       "      <th>level_0_y</th>\n",
       "      <th>level_1_y</th>\n",
       "      <th>symbol</th>\n",
       "      <th>motfcol_y</th>\n",
       "    </tr>\n",
       "  </thead>\n",
       "  <tbody>\n",
       "    <tr>\n",
       "      <th>0</th>\n",
       "      <td>0</td>\n",
       "      <td>composite</td>\n",
       "      <td>APOL1</td>\n",
       "      <td>blue</td>\n",
       "      <td>0</td>\n",
       "      <td>composite</td>\n",
       "      <td>APOL1</td>\n",
       "      <td>blue</td>\n",
       "    </tr>\n",
       "    <tr>\n",
       "      <th>1</th>\n",
       "      <td>0</td>\n",
       "      <td>ISRE</td>\n",
       "      <td>ACOT7</td>\n",
       "      <td>orange</td>\n",
       "      <td>0</td>\n",
       "      <td>ISRE</td>\n",
       "      <td>ACOT7</td>\n",
       "      <td>orange</td>\n",
       "    </tr>\n",
       "    <tr>\n",
       "      <th>2</th>\n",
       "      <td>0</td>\n",
       "      <td>GAS</td>\n",
       "      <td>A2M</td>\n",
       "      <td>green</td>\n",
       "      <td>0</td>\n",
       "      <td>GAS</td>\n",
       "      <td>A2M</td>\n",
       "      <td>green</td>\n",
       "    </tr>\n",
       "  </tbody>\n",
       "</table>\n",
       "</div>"
      ],
      "text/plain": [
       "   level_0_x  level_1_x   gene motfcol_x  level_0_y  level_1_y symbol  \\\n",
       "0          0  composite  APOL1      blue          0  composite  APOL1   \n",
       "1          0       ISRE  ACOT7    orange          0       ISRE  ACOT7   \n",
       "2          0        GAS    A2M     green          0        GAS    A2M   \n",
       "\n",
       "  motfcol_y  \n",
       "0      blue  \n",
       "1    orange  \n",
       "2     green  "
      ]
     },
     "execution_count": 44,
     "metadata": {},
     "output_type": "execute_result"
    }
   ],
   "source": [
    "mtf_ag.head(3)"
   ]
  },
  {
   "cell_type": "code",
   "execution_count": 45,
   "id": "6a8e3aa1-6ddc-4791-901c-cbdd1a7cece0",
   "metadata": {},
   "outputs": [
    {
     "data": {
      "text/plain": [
       "False"
      ]
     },
     "execution_count": 45,
     "metadata": {},
     "output_type": "execute_result"
    }
   ],
   "source": [
    "mtf_ag['motfcol_x'].equals(mtf_ag['motfcol_y'])"
   ]
  },
  {
   "cell_type": "code",
   "execution_count": 46,
   "id": "0203cc62-854a-49f9-83e7-b0b179565c69",
   "metadata": {},
   "outputs": [
    {
     "data": {
      "text/html": [
       "<div>\n",
       "<style scoped>\n",
       "    .dataframe tbody tr th:only-of-type {\n",
       "        vertical-align: middle;\n",
       "    }\n",
       "\n",
       "    .dataframe tbody tr th {\n",
       "        vertical-align: top;\n",
       "    }\n",
       "\n",
       "    .dataframe thead th {\n",
       "        text-align: right;\n",
       "    }\n",
       "</style>\n",
       "<table border=\"1\" class=\"dataframe\">\n",
       "  <thead>\n",
       "    <tr style=\"text-align: right;\">\n",
       "      <th></th>\n",
       "      <th>level_0_x</th>\n",
       "      <th>level_1_x</th>\n",
       "      <th>gene</th>\n",
       "      <th>motfcol_x</th>\n",
       "      <th>level_0_y</th>\n",
       "      <th>level_1_y</th>\n",
       "      <th>symbol</th>\n",
       "      <th>motfcol_y</th>\n",
       "      <th>RES</th>\n",
       "    </tr>\n",
       "  </thead>\n",
       "  <tbody>\n",
       "    <tr>\n",
       "      <th>0</th>\n",
       "      <td>0</td>\n",
       "      <td>composite</td>\n",
       "      <td>APOL1</td>\n",
       "      <td>blue</td>\n",
       "      <td>0</td>\n",
       "      <td>composite</td>\n",
       "      <td>APOL1</td>\n",
       "      <td>blue</td>\n",
       "      <td>OK</td>\n",
       "    </tr>\n",
       "    <tr>\n",
       "      <th>1</th>\n",
       "      <td>0</td>\n",
       "      <td>ISRE</td>\n",
       "      <td>ACOT7</td>\n",
       "      <td>orange</td>\n",
       "      <td>0</td>\n",
       "      <td>ISRE</td>\n",
       "      <td>ACOT7</td>\n",
       "      <td>orange</td>\n",
       "      <td>OK</td>\n",
       "    </tr>\n",
       "    <tr>\n",
       "      <th>2</th>\n",
       "      <td>0</td>\n",
       "      <td>GAS</td>\n",
       "      <td>A2M</td>\n",
       "      <td>green</td>\n",
       "      <td>0</td>\n",
       "      <td>GAS</td>\n",
       "      <td>A2M</td>\n",
       "      <td>green</td>\n",
       "      <td>OK</td>\n",
       "    </tr>\n",
       "  </tbody>\n",
       "</table>\n",
       "</div>"
      ],
      "text/plain": [
       "   level_0_x  level_1_x   gene motfcol_x  level_0_y  level_1_y symbol  \\\n",
       "0          0  composite  APOL1      blue          0  composite  APOL1   \n",
       "1          0       ISRE  ACOT7    orange          0       ISRE  ACOT7   \n",
       "2          0        GAS    A2M     green          0        GAS    A2M   \n",
       "\n",
       "  motfcol_y RES  \n",
       "0      blue  OK  \n",
       "1    orange  OK  \n",
       "2     green  OK  "
      ]
     },
     "execution_count": 46,
     "metadata": {},
     "output_type": "execute_result"
    }
   ],
   "source": [
    "# Compare two columns \n",
    "# https://stackoverflow.com/questions/27474921/compare-two-columns-using-pandas\n",
    "\n",
    "\n",
    "mtf_ag['RES'] = np.where(mtf_ag['motfcol_x'] == mtf_ag['motfcol_y'], 'OK', 'NOT')\n",
    "mtf_ag.head(3)"
   ]
  },
  {
   "cell_type": "code",
   "execution_count": 50,
   "id": "a04207ce-899e-4768-b9ee-c9884e138452",
   "metadata": {},
   "outputs": [
    {
     "data": {
      "text/plain": [
       "(16, 9)"
      ]
     },
     "execution_count": 50,
     "metadata": {},
     "output_type": "execute_result"
    }
   ],
   "source": [
    "mtf_ag[mtf_ag.duplicated(subset=['gene'])].shape"
   ]
  },
  {
   "cell_type": "code",
   "execution_count": 53,
   "id": "5dc90297-9c9d-4659-b5a4-027eb255f70f",
   "metadata": {},
   "outputs": [
    {
     "data": {
      "text/plain": [
       "(0, 9)"
      ]
     },
     "execution_count": 53,
     "metadata": {},
     "output_type": "execute_result"
    }
   ],
   "source": [
    "mtf_ag.drop_duplicates(subset=['gene'], inplace=True)\n",
    "mtf_ag[mtf_ag.duplicated(subset=['gene'])].shape"
   ]
  },
  {
   "cell_type": "code",
   "execution_count": 54,
   "id": "94290574-09e5-4a1c-aadb-a0bd2b24f054",
   "metadata": {},
   "outputs": [
    {
     "data": {
      "text/html": [
       "<div>\n",
       "<style scoped>\n",
       "    .dataframe tbody tr th:only-of-type {\n",
       "        vertical-align: middle;\n",
       "    }\n",
       "\n",
       "    .dataframe tbody tr th {\n",
       "        vertical-align: top;\n",
       "    }\n",
       "\n",
       "    .dataframe thead th {\n",
       "        text-align: right;\n",
       "    }\n",
       "</style>\n",
       "<table border=\"1\" class=\"dataframe\">\n",
       "  <thead>\n",
       "    <tr style=\"text-align: right;\">\n",
       "      <th></th>\n",
       "      <th>level_0_x</th>\n",
       "      <th>level_1_x</th>\n",
       "      <th>gene</th>\n",
       "      <th>motfcol_x</th>\n",
       "      <th>level_0_y</th>\n",
       "      <th>level_1_y</th>\n",
       "      <th>symbol</th>\n",
       "      <th>motfcol_y</th>\n",
       "      <th>RES</th>\n",
       "    </tr>\n",
       "  </thead>\n",
       "  <tbody>\n",
       "    <tr>\n",
       "      <th>31</th>\n",
       "      <td>15</td>\n",
       "      <td>composite</td>\n",
       "      <td>DDX58</td>\n",
       "      <td>blue</td>\n",
       "      <td>20</td>\n",
       "      <td>ISRE</td>\n",
       "      <td>DDX58</td>\n",
       "      <td>orange</td>\n",
       "      <td>NOT</td>\n",
       "    </tr>\n",
       "    <tr>\n",
       "      <th>39</th>\n",
       "      <td>18</td>\n",
       "      <td>GAS</td>\n",
       "      <td>BOD1</td>\n",
       "      <td>green</td>\n",
       "      <td>4</td>\n",
       "      <td>composite</td>\n",
       "      <td>BOD1</td>\n",
       "      <td>blue</td>\n",
       "      <td>NOT</td>\n",
       "    </tr>\n",
       "    <tr>\n",
       "      <th>57</th>\n",
       "      <td>26</td>\n",
       "      <td>composite</td>\n",
       "      <td>IFI6</td>\n",
       "      <td>blue</td>\n",
       "      <td>41</td>\n",
       "      <td>ISRE</td>\n",
       "      <td>IFI6</td>\n",
       "      <td>orange</td>\n",
       "      <td>NOT</td>\n",
       "    </tr>\n",
       "    <tr>\n",
       "      <th>59</th>\n",
       "      <td>27</td>\n",
       "      <td>composite</td>\n",
       "      <td>IFIT5</td>\n",
       "      <td>blue</td>\n",
       "      <td>46</td>\n",
       "      <td>ISRE</td>\n",
       "      <td>IFIT5</td>\n",
       "      <td>orange</td>\n",
       "      <td>NOT</td>\n",
       "    </tr>\n",
       "    <tr>\n",
       "      <th>63</th>\n",
       "      <td>30</td>\n",
       "      <td>composite</td>\n",
       "      <td>IL15</td>\n",
       "      <td>blue</td>\n",
       "      <td>47</td>\n",
       "      <td>ISRE</td>\n",
       "      <td>IL15</td>\n",
       "      <td>orange</td>\n",
       "      <td>NOT</td>\n",
       "    </tr>\n",
       "    <tr>\n",
       "      <th>107</th>\n",
       "      <td>51</td>\n",
       "      <td>composite</td>\n",
       "      <td>RTP4</td>\n",
       "      <td>blue</td>\n",
       "      <td>90</td>\n",
       "      <td>ISRE</td>\n",
       "      <td>RTP4</td>\n",
       "      <td>orange</td>\n",
       "      <td>NOT</td>\n",
       "    </tr>\n",
       "    <tr>\n",
       "      <th>109</th>\n",
       "      <td>52</td>\n",
       "      <td>composite</td>\n",
       "      <td>SAMD9</td>\n",
       "      <td>blue</td>\n",
       "      <td>91</td>\n",
       "      <td>ISRE</td>\n",
       "      <td>SAMD9</td>\n",
       "      <td>orange</td>\n",
       "      <td>NOT</td>\n",
       "    </tr>\n",
       "    <tr>\n",
       "      <th>134</th>\n",
       "      <td>62</td>\n",
       "      <td>composite</td>\n",
       "      <td>VTN</td>\n",
       "      <td>blue</td>\n",
       "      <td>136</td>\n",
       "      <td>GAS</td>\n",
       "      <td>VTN</td>\n",
       "      <td>green</td>\n",
       "      <td>NOT</td>\n",
       "    </tr>\n",
       "  </tbody>\n",
       "</table>\n",
       "</div>"
      ],
      "text/plain": [
       "     level_0_x  level_1_x   gene motfcol_x  level_0_y  level_1_y symbol  \\\n",
       "31          15  composite  DDX58      blue         20       ISRE  DDX58   \n",
       "39          18        GAS   BOD1     green          4  composite   BOD1   \n",
       "57          26  composite   IFI6      blue         41       ISRE   IFI6   \n",
       "59          27  composite  IFIT5      blue         46       ISRE  IFIT5   \n",
       "63          30  composite   IL15      blue         47       ISRE   IL15   \n",
       "107         51  composite   RTP4      blue         90       ISRE   RTP4   \n",
       "109         52  composite  SAMD9      blue         91       ISRE  SAMD9   \n",
       "134         62  composite    VTN      blue        136        GAS    VTN   \n",
       "\n",
       "    motfcol_y  RES  \n",
       "31     orange  NOT  \n",
       "39       blue  NOT  \n",
       "57     orange  NOT  \n",
       "59     orange  NOT  \n",
       "63     orange  NOT  \n",
       "107    orange  NOT  \n",
       "109    orange  NOT  \n",
       "134     green  NOT  "
      ]
     },
     "execution_count": 54,
     "metadata": {},
     "output_type": "execute_result"
    }
   ],
   "source": [
    "# Applying corrections in mtf_ag dataset\n",
    "\n",
    "mtf_ag[mtf_ag['RES'] == 'NOT']"
   ]
  },
  {
   "cell_type": "code",
   "execution_count": 55,
   "id": "7c352fea-4dc1-4c01-b5b3-cd7c7a4b9ed4",
   "metadata": {},
   "outputs": [],
   "source": [
    "# DDX58 (comp), BOD1 (GAS), IFI6 (ISRE), IFIT5 (ISRE), IL15 (comp), RTP4 (ISRE), SAMD9 (ISRE), VTN (GAS) \n",
    "\n",
    "mtf_ag.loc[57, ['level_1_x', 'motfcol_x']] = ['ISRE', 'orange']\n",
    "mtf_ag.loc[59, ['level_1_x', 'motfcol_x']] = ['ISRE', 'orange']\n",
    "mtf_ag.loc[107, ['level_1_x', 'motfcol_x']] = ['ISRE', 'orange']\n",
    "mtf_ag.loc[109, ['level_1_x', 'motfcol_x']] = ['ISRE', 'orange']\n",
    "mtf_ag.loc[134, ['level_1_x', 'motfcol_x']] = ['GAS', 'green']\n"
   ]
  },
  {
   "cell_type": "code",
   "execution_count": 60,
   "id": "d65052e0-0117-4c5f-925e-fd1e57ee83ff",
   "metadata": {},
   "outputs": [
    {
     "data": {
      "text/plain": [
       "(220, 9)"
      ]
     },
     "execution_count": 60,
     "metadata": {},
     "output_type": "execute_result"
    }
   ],
   "source": [
    "mtf_ag.shape"
   ]
  },
  {
   "cell_type": "code",
   "execution_count": 61,
   "id": "542af495-5fd6-4bd4-9461-6f0b693668fd",
   "metadata": {},
   "outputs": [
    {
     "data": {
      "text/plain": [
       "Index(['level_0_x', 'level_1_x', 'gene', 'motfcol_x', 'level_0_y', 'level_1_y',\n",
       "       'symbol', 'motfcol_y', 'RES'],\n",
       "      dtype='object')"
      ]
     },
     "execution_count": 61,
     "metadata": {},
     "output_type": "execute_result"
    }
   ],
   "source": [
    "mtf_ag.columns"
   ]
  },
  {
   "cell_type": "code",
   "execution_count": 64,
   "id": "2616eb3b-fe95-49dd-a63a-9214a4d44726",
   "metadata": {},
   "outputs": [],
   "source": [
    "# saving Final motif list\n",
    "\n",
    "mtf_ag_finl = mtf_ag.copy()\n",
    "\n",
    "mtf_ag_finl.rename(columns={'level_1_x': 'Motif', 'gene': 'Gene', 'motfcol_x': 'motifCOL'}, inplace=True)\n",
    "\n",
    "cols = ['Gene', 'Motif', 'motifCOL']\n",
    "\n",
    "mtf_ag_finl.loc[:, cols].to_csv(\"motifs_IFNag_latest.tsv\", index=False, sep=\"\\t\")"
   ]
  },
  {
   "cell_type": "code",
   "execution_count": 47,
   "id": "cd53aa18-0a17-4774-9a5c-c6fe2d3724a0",
   "metadata": {},
   "outputs": [
    {
     "data": {
      "text/plain": [
       "(220, 3)"
      ]
     },
     "execution_count": 47,
     "metadata": {},
     "output_type": "execute_result"
    }
   ],
   "source": [
    "# Loading motif File\n",
    "\n",
    "mtf_ag = pd.read_csv(\"motifs_IFNag_latest.tsv\", sep='\\t')\n",
    "\n",
    "mtf_ag[mtf_ag['Gene'].isin(ovr['elements'])].shape"
   ]
  },
  {
   "cell_type": "code",
   "execution_count": 48,
   "id": "17b8cce1-5f44-4c2e-9290-7a295dd66577",
   "metadata": {},
   "outputs": [
    {
     "data": {
      "text/html": [
       "<div>\n",
       "<style scoped>\n",
       "    .dataframe tbody tr th:only-of-type {\n",
       "        vertical-align: middle;\n",
       "    }\n",
       "\n",
       "    .dataframe tbody tr th {\n",
       "        vertical-align: top;\n",
       "    }\n",
       "\n",
       "    .dataframe thead th {\n",
       "        text-align: right;\n",
       "    }\n",
       "</style>\n",
       "<table border=\"1\" class=\"dataframe\">\n",
       "  <thead>\n",
       "    <tr style=\"text-align: right;\">\n",
       "      <th></th>\n",
       "      <th>Gene</th>\n",
       "      <th>Motif</th>\n",
       "      <th>motifCOL</th>\n",
       "    </tr>\n",
       "  </thead>\n",
       "  <tbody>\n",
       "    <tr>\n",
       "      <th>0</th>\n",
       "      <td>APOL1</td>\n",
       "      <td>composite</td>\n",
       "      <td>blue</td>\n",
       "    </tr>\n",
       "    <tr>\n",
       "      <th>1</th>\n",
       "      <td>ACOT7</td>\n",
       "      <td>ISRE</td>\n",
       "      <td>orange</td>\n",
       "    </tr>\n",
       "    <tr>\n",
       "      <th>2</th>\n",
       "      <td>A2M</td>\n",
       "      <td>GAS</td>\n",
       "      <td>green</td>\n",
       "    </tr>\n",
       "  </tbody>\n",
       "</table>\n",
       "</div>"
      ],
      "text/plain": [
       "    Gene      Motif motifCOL\n",
       "0  APOL1  composite     blue\n",
       "1  ACOT7       ISRE   orange\n",
       "2    A2M        GAS    green"
      ]
     },
     "execution_count": 48,
     "metadata": {},
     "output_type": "execute_result"
    }
   ],
   "source": [
    "mtf_ag.head(3)"
   ]
  },
  {
   "cell_type": "code",
   "execution_count": 52,
   "id": "41691e02-47e0-4cf1-bfab-183e19dae107",
   "metadata": {},
   "outputs": [
    {
     "name": "stdout",
     "output_type": "stream",
     "text": [
      "Size:  (89,)\n",
      "Size:  (84,)\n",
      "Size:  (47,)\n"
     ]
    }
   ],
   "source": [
    "#GAS\n",
    "gas = mtf_ag[mtf_ag['Motif'] == 'GAS'].iloc[:,0]\n",
    "\n",
    "#ISRE\n",
    "isre = mtf_ag[mtf_ag['Motif'] == 'ISRE'].iloc[:,0]\n",
    "\n",
    "#COM\n",
    "comp = mtf_ag[mtf_ag['Motif'] == 'composite'].iloc[:,0]\n",
    "\n",
    "for i in gas, isre, comp:\n",
    "    print('Size: ', i.shape)"
   ]
  },
  {
   "cell_type": "code",
   "execution_count": 53,
   "id": "ed658719-9fc8-45ff-b8fe-f719fcf78870",
   "metadata": {},
   "outputs": [
    {
     "data": {
      "text/plain": [
       "220"
      ]
     },
     "execution_count": 53,
     "metadata": {},
     "output_type": "execute_result"
    }
   ],
   "source": [
    "89 + 84 + 47"
   ]
  },
  {
   "cell_type": "code",
   "execution_count": 54,
   "id": "e9de9d94-82ab-4598-8165-937b7ceafe9c",
   "metadata": {},
   "outputs": [],
   "source": [
    "# Saving\n",
    "\n",
    "gas.to_csv(\"gas.tsv\", index=False, sep=\"\\t\", header=None)\n",
    "isre.to_csv(\"isre.tsv\", index=False, sep=\"\\t\", header=None)\n",
    "comp.to_csv(\"comp.tsv\", index=False, sep=\"\\t\", header=None)"
   ]
  },
  {
   "cell_type": "code",
   "execution_count": 62,
   "id": "1a5d082f-a673-4239-954b-997358e251a1",
   "metadata": {},
   "outputs": [
    {
     "data": {
      "text/plain": [
       "(220, 3)"
      ]
     },
     "execution_count": 62,
     "metadata": {},
     "output_type": "execute_result"
    }
   ],
   "source": [
    "mtf_ag.shape"
   ]
  },
  {
   "cell_type": "markdown",
   "id": "a193a706-f8e7-446f-8fab-c230f8a409bc",
   "metadata": {},
   "source": [
    "## Assigning geometric shapes"
   ]
  },
  {
   "cell_type": "code",
   "execution_count": 60,
   "id": "efe417c2-d56e-4e88-b33e-0dfb33cc7bd8",
   "metadata": {},
   "outputs": [
    {
     "data": {
      "text/html": [
       "<div>\n",
       "<style scoped>\n",
       "    .dataframe tbody tr th:only-of-type {\n",
       "        vertical-align: middle;\n",
       "    }\n",
       "\n",
       "    .dataframe tbody tr th {\n",
       "        vertical-align: top;\n",
       "    }\n",
       "\n",
       "    .dataframe thead th {\n",
       "        text-align: right;\n",
       "    }\n",
       "</style>\n",
       "<table border=\"1\" class=\"dataframe\">\n",
       "  <thead>\n",
       "    <tr style=\"text-align: right;\">\n",
       "      <th></th>\n",
       "      <th>Gene</th>\n",
       "      <th>Motif</th>\n",
       "      <th>motifCOL</th>\n",
       "    </tr>\n",
       "  </thead>\n",
       "  <tbody>\n",
       "    <tr>\n",
       "      <th>0</th>\n",
       "      <td>APOL1</td>\n",
       "      <td>composite</td>\n",
       "      <td>blue</td>\n",
       "    </tr>\n",
       "    <tr>\n",
       "      <th>1</th>\n",
       "      <td>ACOT7</td>\n",
       "      <td>ISRE</td>\n",
       "      <td>orange</td>\n",
       "    </tr>\n",
       "    <tr>\n",
       "      <th>2</th>\n",
       "      <td>A2M</td>\n",
       "      <td>GAS</td>\n",
       "      <td>green</td>\n",
       "    </tr>\n",
       "  </tbody>\n",
       "</table>\n",
       "</div>"
      ],
      "text/plain": [
       "    Gene      Motif motifCOL\n",
       "0  APOL1  composite     blue\n",
       "1  ACOT7       ISRE   orange\n",
       "2    A2M        GAS    green"
      ]
     },
     "execution_count": 60,
     "metadata": {},
     "output_type": "execute_result"
    }
   ],
   "source": [
    "mtf_shape = mtf_ag.copy()\n",
    "mtf_shape.head(3)"
   ]
  },
  {
   "cell_type": "code",
   "execution_count": 61,
   "id": "d1022a8c-d408-48df-b916-f060dc16d967",
   "metadata": {},
   "outputs": [
    {
     "data": {
      "text/html": [
       "<div>\n",
       "<style scoped>\n",
       "    .dataframe tbody tr th:only-of-type {\n",
       "        vertical-align: middle;\n",
       "    }\n",
       "\n",
       "    .dataframe tbody tr th {\n",
       "        vertical-align: top;\n",
       "    }\n",
       "\n",
       "    .dataframe thead th {\n",
       "        text-align: right;\n",
       "    }\n",
       "</style>\n",
       "<table border=\"1\" class=\"dataframe\">\n",
       "  <thead>\n",
       "    <tr style=\"text-align: right;\">\n",
       "      <th></th>\n",
       "      <th>Gene</th>\n",
       "      <th>Motif</th>\n",
       "      <th>motifCOL</th>\n",
       "      <th>Shape</th>\n",
       "    </tr>\n",
       "  </thead>\n",
       "  <tbody>\n",
       "    <tr>\n",
       "      <th>0</th>\n",
       "      <td>APOL1</td>\n",
       "      <td>composite</td>\n",
       "      <td>blue</td>\n",
       "      <td>ellipse</td>\n",
       "    </tr>\n",
       "    <tr>\n",
       "      <th>1</th>\n",
       "      <td>ACOT7</td>\n",
       "      <td>ISRE</td>\n",
       "      <td>orange</td>\n",
       "      <td>rectangle</td>\n",
       "    </tr>\n",
       "    <tr>\n",
       "      <th>2</th>\n",
       "      <td>A2M</td>\n",
       "      <td>GAS</td>\n",
       "      <td>green</td>\n",
       "      <td>diamond</td>\n",
       "    </tr>\n",
       "  </tbody>\n",
       "</table>\n",
       "</div>"
      ],
      "text/plain": [
       "    Gene      Motif motifCOL      Shape\n",
       "0  APOL1  composite     blue    ellipse\n",
       "1  ACOT7       ISRE   orange  rectangle\n",
       "2    A2M        GAS    green    diamond"
      ]
     },
     "execution_count": 61,
     "metadata": {},
     "output_type": "execute_result"
    }
   ],
   "source": [
    "mtf_shape.loc[mtf_test['Motif'] == 'ISRE', 'Shape'] = 'rectangle'\n",
    "mtf_shape.loc[mtf_test['Motif'] == 'GAS', 'Shape'] = 'diamond'\n",
    "mtf_shape.loc[mtf_test['Motif'] == 'composite', 'Shape'] = 'ellipse'\n",
    "\n",
    "mtf_shape.head(3)"
   ]
  },
  {
   "cell_type": "code",
   "execution_count": 63,
   "id": "bcc57ddc-1552-4931-a5ec-b689063a3d52",
   "metadata": {},
   "outputs": [],
   "source": [
    "mtf_shape.to_csv('motifs_IFNag_latestWshape.tsv', index=False, sep='\\t')"
   ]
  },
  {
   "cell_type": "code",
   "execution_count": null,
   "id": "0810e560-0b22-4756-8c08-d4c6b3821afc",
   "metadata": {},
   "outputs": [],
   "source": []
  }
 ],
 "metadata": {
  "kernelspec": {
   "display_name": "Python 3",
   "language": "python",
   "name": "python3"
  },
  "language_info": {
   "codemirror_mode": {
    "name": "ipython",
    "version": 3
   },
   "file_extension": ".py",
   "mimetype": "text/x-python",
   "name": "python",
   "nbconvert_exporter": "python",
   "pygments_lexer": "ipython3",
   "version": "3.7.10"
  }
 },
 "nbformat": 4,
 "nbformat_minor": 5
}
